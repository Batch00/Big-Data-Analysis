{
 "cells": [
  {
   "cell_type": "code",
   "execution_count": 23,
   "metadata": {},
   "outputs": [
    {
     "name": "stdout",
     "output_type": "stream",
     "text": [
      "The location of the criminal is: (18.0,11.0)\n"
     ]
    }
   ],
   "source": [
    "def trilaterate():\n",
    "    # tower 1 location\n",
    "    x1,y1 = 0, 0\n",
    "    # tower 2 locaion\n",
    "    x2,y2 = 36, 0\n",
    "    # tower 3 location\n",
    "    x3,y3 = 16,32\n",
    "    # user input from police of distance the robber is from each tower\n",
    "    r1 = float(input(\"Enter the distance from the robber's phone to tower 1(in km): \"))\n",
    "    r2 = float(input(\"Enter the distance from the robber's phone to tower 2(in km): \"))\n",
    "    r3 = float(input(\"Enter the distance from the robber's phone to tower 3(in km): \"))\n",
    "    # Do the calculation to find the location (X,Y) of the robber\n",
    "    A = 2*x2 - 2*x1\n",
    "    B = 2*y2 - 2*y1\n",
    "    C = r1**2 - r2**2 - x1**2 + x2**2 - y1**2 + y2**2\n",
    "    D = 2*x3 - 2*x2\n",
    "    E = 2*y3 - 2*y2\n",
    "    F = r2**2 - r3**2 - x2**2 + x3**2 - y2**2 + y3**2\n",
    "    X = (C*E - F*B) / (E*A - B*D)\n",
    "    Y = (C*D- A*F) / (B*D - A*E)\n",
    "    return X, Y\n",
    "\n",
    "X, Y = trilaterate()\n",
    "\n",
    "print(\"The location of the criminal is:\", f\"({X},{Y})\")"
   ]
  },
  {
   "cell_type": "code",
   "execution_count": null,
   "metadata": {},
   "outputs": [],
   "source": []
  }
 ],
 "metadata": {
  "kernelspec": {
   "display_name": "base",
   "language": "python",
   "name": "python3"
  },
  "language_info": {
   "codemirror_mode": {
    "name": "ipython",
    "version": 3
   },
   "file_extension": ".py",
   "mimetype": "text/x-python",
   "name": "python",
   "nbconvert_exporter": "python",
   "pygments_lexer": "ipython3",
   "version": "3.8.8"
  },
  "orig_nbformat": 4
 },
 "nbformat": 4,
 "nbformat_minor": 2
}
