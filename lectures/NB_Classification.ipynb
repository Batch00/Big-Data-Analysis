{
 "cells": [
  {
   "cell_type": "markdown",
   "metadata": {},
   "source": [
    "# Naive Bayes Classification\n",
    "\n",
    "Naive Bayes models are simple algorithms that can efficiently classify categorical variables in high-dimensional datasets.This notebook will provide a brief and clear introduction to these tools and will demonstrate the nuts and bolts that make them work. First, some preliminaries:"
   ]
  },
  {
   "cell_type": "code",
   "execution_count": 1,
   "metadata": {},
   "outputs": [],
   "source": [
    "import numpy as np\n",
    "import pandas as pd\n",
    "from sklearn.naive_bayes import CategoricalNB\n",
    "from sklearn.preprocessing import OrdinalEncoder, LabelEncoder\n",
    "from sklearn.metrics import accuracy_score\n",
    "from sklearn.model_selection import train_test_split\n",
    "from statsmodels.stats.outliers_influence import variance_inflation_factor\n",
    "from collections import Counter\n"
   ]
  },
  {
   "cell_type": "markdown",
   "metadata": {},
   "source": [
    "The algorithms take their name from Bayes's theorem, which defines conditional probability.\n",
    "$$Bayes Theorem: P(y | X)= \\frac{P(X | y)P(y)}{P(X)}$$\n",
    "\n",
    "If the cool kids are around we read this as:\n",
    "\n",
    "$$ Posterior Probability = \\frac{Likelihood \\times Prior Probability}{Marginal Probability}$$\n",
    "\n",
    "Naive Bayes classification is the process of finding the probability of a particular outcome given a set of feature, which we can write as $P(Outcome|Features)$. According to Bayes's theorem that calculation is\n",
    "\n",
    "$$P(Outcome | Features)= \\frac{P(Features | Outcome)P(Outcome)}{P(Features)}$$\n",
    "\n",
    "Again, for the cool kids:\n",
    "\n",
    "- P(Outcome | Features) is the posterior probability of target given the predictors (features)\n",
    "- P(Outcome) is the prior probability of target (prior to seeing features)\n",
    "- P(Features | Outcome) is the probability of observing the particular set of features given the target\n",
    "- P(Features) is the prior or unconditional probability of the predictors arising  \n",
    "\n",
    "Given two possible outcomes, we can directly compare the two to see which is more probable.\n",
    "\n",
    "$$P(Outcome_1 | Features)= \\frac{P(Features | Outcome_1)P(Outcome_1)}{P(Features)}$$\n",
    "\n",
    "$$\\implies P(Features) = \\frac{P(Features | Outcome_1)P(Outcome_1)}{P(Outcome_1 | Features)}$$\n",
    "\n",
    "Thus, it must also be the case that... \n",
    "\n",
    "$$P(Outcome_2 | Features)= \\frac{P(Features | Outcome_2)P(Outcome_2)}{P(Features)}$$\n",
    "\n",
    "$$\\implies P(Features) = \\frac{P(Features | Outcome_2)P(Outcome_2)}{P(Outcome_2 | Features)}$$\n",
    "\n",
    "Meaning...\n",
    "\n",
    "$$ \\frac{P(Features | Outcome_1)P(Outcome_1)}{P(Outcome_1 | Features)} = \\frac{P(Features | Outcome_2)P(Outcome_2)}{P(Outcome_2 | Features)}$$\n",
    "\n",
    "$$ \\implies \\frac{P(Outcome_1 | Features)}{P(Outcome_2 | Features)} = \\frac{P(Features | Outcome_1)P(Outcome_1)} {P(Features | Outcome_2)P(Outcome_2)}$$\n",
    "\n",
    "The ratio of the conditional probabilities is equal to a ratio of the probability of the data given the outcome times the unconditional probability of the outcome. What makes the model \"naive\" are the assumptions about the generative model producing the data associated with each label. \n",
    "\n",
    "The naive bayes probability model assumes that the features are independent, so that \n",
    "\n",
    "$$P(feature_{i}|outcome, feature_{1},...,feature_{i-1}, feature_{i+1},...,feature_{n}) = P(feature_{i}|outcome)$$\n",
    "\n",
    "and accordingly\n",
    "\n",
    "$$P(outcome| feature_{1},...,feature_{n}) = \\frac{P(outcome) \\prod_{i=0}^{n}P(feature_{i}|outcome)}{P(feature_{1},...,feature_{n})}$$\n",
    "\n",
    "The Naive Bayes classifier takes the naive bayes probability model and adds a decision rule - that the more probable outcome (given the features) is picked by the `maximum a posterior` and a class label is predicted via:\n",
    "\n",
    "$$\\hat{outcome} = \\underset{outcome}{\\operatorname{argmax}} P(outcome)\\prod_{i=0}^{n}P(feature_{i}|outcome) $$\n",
    "\n",
    "From an empirical standpoint this is super easy to implement - we just estimate the unconditional probability of the outcome via the frequency with which it occurs in the training dataset. Various naive bayes classifiers differ in the assumptions made about the distribution of $$P(feature_{i} | outcome)$$. With discrete/categorical data it is typically assumed that discrete/categorical values are distributed according to a categorical distribution (this is a generalization of the Bernoulli distribution). \n",
    "\n",
    "The probability of category $t$ in feature $i$ given class $c$ is estimated to be: \n",
    "\n",
    "$$P(feature_{i} = t | outcome = c; \\alpha) = \\frac{N_{tic}+\\alpha}{N_{c} + \\alpha n_{i}}$$\n",
    "\n",
    "That $\\alpha$ is called the Laplace smoothing parameter and it is needed to deal with situations where a particular value does not arise in the training data. "
   ]
  },
  {
   "cell_type": "code",
   "execution_count": 2,
   "metadata": {},
   "outputs": [
    {
     "data": {
      "text/plain": [
       "['buying', 'maint', 'doors', 'persons', 'lug_boot', 'safety']"
      ]
     },
     "execution_count": 2,
     "metadata": {},
     "output_type": "execute_result"
    }
   ],
   "source": [
    "\n",
    "data = \"https://archive.ics.uci.edu/ml/machine-learning-databases/car/car.data\" \n",
    "car_df = pd.read_csv(data, names=['buying','maint','doors','persons','lug_boot','safety','class'], sep=\",\")\n",
    "\n",
    "features = car_df.columns.tolist()\n",
    "features.remove('class')\n",
    "features   "
   ]
  },
  {
   "cell_type": "code",
   "execution_count": 3,
   "metadata": {},
   "outputs": [
    {
     "data": {
      "text/plain": [
       "unacc    1210\n",
       "acc       384\n",
       "good       69\n",
       "vgood      65\n",
       "Name: class, dtype: int64"
      ]
     },
     "execution_count": 3,
     "metadata": {},
     "output_type": "execute_result"
    }
   ],
   "source": [
    "car_df['class'].value_counts()"
   ]
  },
  {
   "cell_type": "markdown",
   "metadata": {},
   "source": [
    "This dataset has six features and single label. All of the features are strings. To use the naive bayes classifier algorithm we need all of the variables to be coded as integers. The pandas `factorize()` method is useful for this task, as is sklearn's `OrdinalEncoder`."
   ]
  },
  {
   "cell_type": "code",
   "execution_count": 4,
   "metadata": {},
   "outputs": [
    {
     "data": {
      "text/plain": [
       "array([[3., 3., 0., 0., 2., 1.],\n",
       "       [3., 3., 0., 0., 2., 2.],\n",
       "       [3., 3., 0., 0., 2., 0.],\n",
       "       ...,\n",
       "       [1., 1., 3., 2., 0., 1.],\n",
       "       [1., 1., 3., 2., 0., 2.],\n",
       "       [1., 1., 3., 2., 0., 0.]])"
      ]
     },
     "execution_count": 4,
     "metadata": {},
     "output_type": "execute_result"
    }
   ],
   "source": [
    "encoder = OrdinalEncoder()\n",
    "data_encoded = encoder.fit_transform(car_df[features])\n",
    "car_df_encoded = pd.DataFrame(data_encoded, columns=features)\n",
    "data_encoded"
   ]
  },
  {
   "cell_type": "code",
   "execution_count": 5,
   "metadata": {},
   "outputs": [
    {
     "data": {
      "text/html": [
       "<div>\n",
       "<style scoped>\n",
       "    .dataframe tbody tr th:only-of-type {\n",
       "        vertical-align: middle;\n",
       "    }\n",
       "\n",
       "    .dataframe tbody tr th {\n",
       "        vertical-align: top;\n",
       "    }\n",
       "\n",
       "    .dataframe thead th {\n",
       "        text-align: right;\n",
       "    }\n",
       "</style>\n",
       "<table border=\"1\" class=\"dataframe\">\n",
       "  <thead>\n",
       "    <tr style=\"text-align: right;\">\n",
       "      <th></th>\n",
       "      <th>buying</th>\n",
       "      <th>maint</th>\n",
       "      <th>doors</th>\n",
       "      <th>persons</th>\n",
       "      <th>lug_boot</th>\n",
       "      <th>safety</th>\n",
       "    </tr>\n",
       "  </thead>\n",
       "  <tbody>\n",
       "    <tr>\n",
       "      <th>0</th>\n",
       "      <td>3.0</td>\n",
       "      <td>3.0</td>\n",
       "      <td>0.0</td>\n",
       "      <td>0.0</td>\n",
       "      <td>2.0</td>\n",
       "      <td>1.0</td>\n",
       "    </tr>\n",
       "    <tr>\n",
       "      <th>1</th>\n",
       "      <td>3.0</td>\n",
       "      <td>3.0</td>\n",
       "      <td>0.0</td>\n",
       "      <td>0.0</td>\n",
       "      <td>2.0</td>\n",
       "      <td>2.0</td>\n",
       "    </tr>\n",
       "    <tr>\n",
       "      <th>2</th>\n",
       "      <td>3.0</td>\n",
       "      <td>3.0</td>\n",
       "      <td>0.0</td>\n",
       "      <td>0.0</td>\n",
       "      <td>2.0</td>\n",
       "      <td>0.0</td>\n",
       "    </tr>\n",
       "    <tr>\n",
       "      <th>3</th>\n",
       "      <td>3.0</td>\n",
       "      <td>3.0</td>\n",
       "      <td>0.0</td>\n",
       "      <td>0.0</td>\n",
       "      <td>1.0</td>\n",
       "      <td>1.0</td>\n",
       "    </tr>\n",
       "    <tr>\n",
       "      <th>4</th>\n",
       "      <td>3.0</td>\n",
       "      <td>3.0</td>\n",
       "      <td>0.0</td>\n",
       "      <td>0.0</td>\n",
       "      <td>1.0</td>\n",
       "      <td>2.0</td>\n",
       "    </tr>\n",
       "    <tr>\n",
       "      <th>...</th>\n",
       "      <td>...</td>\n",
       "      <td>...</td>\n",
       "      <td>...</td>\n",
       "      <td>...</td>\n",
       "      <td>...</td>\n",
       "      <td>...</td>\n",
       "    </tr>\n",
       "    <tr>\n",
       "      <th>1723</th>\n",
       "      <td>1.0</td>\n",
       "      <td>1.0</td>\n",
       "      <td>3.0</td>\n",
       "      <td>2.0</td>\n",
       "      <td>1.0</td>\n",
       "      <td>2.0</td>\n",
       "    </tr>\n",
       "    <tr>\n",
       "      <th>1724</th>\n",
       "      <td>1.0</td>\n",
       "      <td>1.0</td>\n",
       "      <td>3.0</td>\n",
       "      <td>2.0</td>\n",
       "      <td>1.0</td>\n",
       "      <td>0.0</td>\n",
       "    </tr>\n",
       "    <tr>\n",
       "      <th>1725</th>\n",
       "      <td>1.0</td>\n",
       "      <td>1.0</td>\n",
       "      <td>3.0</td>\n",
       "      <td>2.0</td>\n",
       "      <td>0.0</td>\n",
       "      <td>1.0</td>\n",
       "    </tr>\n",
       "    <tr>\n",
       "      <th>1726</th>\n",
       "      <td>1.0</td>\n",
       "      <td>1.0</td>\n",
       "      <td>3.0</td>\n",
       "      <td>2.0</td>\n",
       "      <td>0.0</td>\n",
       "      <td>2.0</td>\n",
       "    </tr>\n",
       "    <tr>\n",
       "      <th>1727</th>\n",
       "      <td>1.0</td>\n",
       "      <td>1.0</td>\n",
       "      <td>3.0</td>\n",
       "      <td>2.0</td>\n",
       "      <td>0.0</td>\n",
       "      <td>0.0</td>\n",
       "    </tr>\n",
       "  </tbody>\n",
       "</table>\n",
       "<p>1728 rows × 6 columns</p>\n",
       "</div>"
      ],
      "text/plain": [
       "      buying  maint  doors  persons  lug_boot  safety\n",
       "0        3.0    3.0    0.0      0.0       2.0     1.0\n",
       "1        3.0    3.0    0.0      0.0       2.0     2.0\n",
       "2        3.0    3.0    0.0      0.0       2.0     0.0\n",
       "3        3.0    3.0    0.0      0.0       1.0     1.0\n",
       "4        3.0    3.0    0.0      0.0       1.0     2.0\n",
       "...      ...    ...    ...      ...       ...     ...\n",
       "1723     1.0    1.0    3.0      2.0       1.0     2.0\n",
       "1724     1.0    1.0    3.0      2.0       1.0     0.0\n",
       "1725     1.0    1.0    3.0      2.0       0.0     1.0\n",
       "1726     1.0    1.0    3.0      2.0       0.0     2.0\n",
       "1727     1.0    1.0    3.0      2.0       0.0     0.0\n",
       "\n",
       "[1728 rows x 6 columns]"
      ]
     },
     "execution_count": 5,
     "metadata": {},
     "output_type": "execute_result"
    }
   ],
   "source": [
    "car_df_encoded"
   ]
  },
  {
   "cell_type": "code",
   "execution_count": 6,
   "metadata": {},
   "outputs": [
    {
     "data": {
      "text/html": [
       "<div>\n",
       "<style scoped>\n",
       "    .dataframe tbody tr th:only-of-type {\n",
       "        vertical-align: middle;\n",
       "    }\n",
       "\n",
       "    .dataframe tbody tr th {\n",
       "        vertical-align: top;\n",
       "    }\n",
       "\n",
       "    .dataframe thead th {\n",
       "        text-align: right;\n",
       "    }\n",
       "</style>\n",
       "<table border=\"1\" class=\"dataframe\">\n",
       "  <thead>\n",
       "    <tr style=\"text-align: right;\">\n",
       "      <th></th>\n",
       "      <th>buying</th>\n",
       "      <th>maint</th>\n",
       "      <th>doors</th>\n",
       "      <th>persons</th>\n",
       "      <th>lug_boot</th>\n",
       "      <th>safety</th>\n",
       "      <th>class</th>\n",
       "    </tr>\n",
       "  </thead>\n",
       "  <tbody>\n",
       "    <tr>\n",
       "      <th>0</th>\n",
       "      <td>3.0</td>\n",
       "      <td>3.0</td>\n",
       "      <td>0.0</td>\n",
       "      <td>0.0</td>\n",
       "      <td>2.0</td>\n",
       "      <td>1.0</td>\n",
       "      <td>2</td>\n",
       "    </tr>\n",
       "    <tr>\n",
       "      <th>1</th>\n",
       "      <td>3.0</td>\n",
       "      <td>3.0</td>\n",
       "      <td>0.0</td>\n",
       "      <td>0.0</td>\n",
       "      <td>2.0</td>\n",
       "      <td>2.0</td>\n",
       "      <td>2</td>\n",
       "    </tr>\n",
       "    <tr>\n",
       "      <th>2</th>\n",
       "      <td>3.0</td>\n",
       "      <td>3.0</td>\n",
       "      <td>0.0</td>\n",
       "      <td>0.0</td>\n",
       "      <td>2.0</td>\n",
       "      <td>0.0</td>\n",
       "      <td>2</td>\n",
       "    </tr>\n",
       "    <tr>\n",
       "      <th>3</th>\n",
       "      <td>3.0</td>\n",
       "      <td>3.0</td>\n",
       "      <td>0.0</td>\n",
       "      <td>0.0</td>\n",
       "      <td>1.0</td>\n",
       "      <td>1.0</td>\n",
       "      <td>2</td>\n",
       "    </tr>\n",
       "    <tr>\n",
       "      <th>4</th>\n",
       "      <td>3.0</td>\n",
       "      <td>3.0</td>\n",
       "      <td>0.0</td>\n",
       "      <td>0.0</td>\n",
       "      <td>1.0</td>\n",
       "      <td>2.0</td>\n",
       "      <td>2</td>\n",
       "    </tr>\n",
       "  </tbody>\n",
       "</table>\n",
       "</div>"
      ],
      "text/plain": [
       "   buying  maint  doors  persons  lug_boot  safety  class\n",
       "0     3.0    3.0    0.0      0.0       2.0     1.0      2\n",
       "1     3.0    3.0    0.0      0.0       2.0     2.0      2\n",
       "2     3.0    3.0    0.0      0.0       2.0     0.0      2\n",
       "3     3.0    3.0    0.0      0.0       1.0     1.0      2\n",
       "4     3.0    3.0    0.0      0.0       1.0     2.0      2"
      ]
     },
     "execution_count": 6,
     "metadata": {},
     "output_type": "execute_result"
    }
   ],
   "source": [
    "encoder = LabelEncoder()\n",
    "target_encoded = encoder.fit_transform(car_df['class'])\n",
    "car_df_encoded['class'] = target_encoded\n",
    "encoder.inverse_transform(target_encoded)\n",
    "car_df_encoded.head()"
   ]
  },
  {
   "cell_type": "code",
   "execution_count": 7,
   "metadata": {},
   "outputs": [
    {
     "data": {
      "text/plain": [
       "buying  maint\n",
       "0.0     0.0      108\n",
       "        1.0      108\n",
       "        2.0      108\n",
       "        3.0      108\n",
       "1.0     0.0      108\n",
       "        1.0      108\n",
       "        2.0      108\n",
       "        3.0      108\n",
       "2.0     0.0      108\n",
       "        1.0      108\n",
       "        2.0      108\n",
       "        3.0      108\n",
       "3.0     0.0      108\n",
       "        1.0      108\n",
       "        2.0      108\n",
       "        3.0      108\n",
       "Name: maint, dtype: int64"
      ]
     },
     "execution_count": 7,
     "metadata": {},
     "output_type": "execute_result"
    }
   ],
   "source": [
    "car_df_encoded['maint'].groupby(car_df_encoded['buying']).value_counts()"
   ]
  },
  {
   "cell_type": "markdown",
   "metadata": {},
   "source": [
    "Now we need to test that the independence assumption is satisfied:"
   ]
  },
  {
   "cell_type": "code",
   "execution_count": 8,
   "metadata": {},
   "outputs": [
    {
     "data": {
      "text/html": [
       "<div>\n",
       "<style scoped>\n",
       "    .dataframe tbody tr th:only-of-type {\n",
       "        vertical-align: middle;\n",
       "    }\n",
       "\n",
       "    .dataframe tbody tr th {\n",
       "        vertical-align: top;\n",
       "    }\n",
       "\n",
       "    .dataframe thead th {\n",
       "        text-align: right;\n",
       "    }\n",
       "</style>\n",
       "<table border=\"1\" class=\"dataframe\">\n",
       "  <thead>\n",
       "    <tr style=\"text-align: right;\">\n",
       "      <th></th>\n",
       "      <th>VIF</th>\n",
       "      <th>Features</th>\n",
       "    </tr>\n",
       "  </thead>\n",
       "  <tbody>\n",
       "    <tr>\n",
       "      <th>0</th>\n",
       "      <td>2.537474</td>\n",
       "      <td>buying</td>\n",
       "    </tr>\n",
       "    <tr>\n",
       "      <th>1</th>\n",
       "      <td>2.522938</td>\n",
       "      <td>maint</td>\n",
       "    </tr>\n",
       "    <tr>\n",
       "      <th>2</th>\n",
       "      <td>2.443242</td>\n",
       "      <td>doors</td>\n",
       "    </tr>\n",
       "    <tr>\n",
       "      <th>3</th>\n",
       "      <td>2.165404</td>\n",
       "      <td>persons</td>\n",
       "    </tr>\n",
       "    <tr>\n",
       "      <th>4</th>\n",
       "      <td>2.290247</td>\n",
       "      <td>lug_boot</td>\n",
       "    </tr>\n",
       "    <tr>\n",
       "      <th>5</th>\n",
       "      <td>2.240569</td>\n",
       "      <td>safety</td>\n",
       "    </tr>\n",
       "  </tbody>\n",
       "</table>\n",
       "</div>"
      ],
      "text/plain": [
       "        VIF  Features\n",
       "0  2.537474    buying\n",
       "1  2.522938     maint\n",
       "2  2.443242     doors\n",
       "3  2.165404   persons\n",
       "4  2.290247  lug_boot\n",
       "5  2.240569    safety"
      ]
     },
     "execution_count": 8,
     "metadata": {},
     "output_type": "execute_result"
    }
   ],
   "source": [
    "vif = pd.DataFrame()\n",
    "vif[\"VIF\"] = [variance_inflation_factor(car_df_encoded.values, i) for i in range(len(features))]\n",
    "vif[\"Features\"] = features\n",
    "vif"
   ]
  },
  {
   "cell_type": "code",
   "execution_count": 9,
   "metadata": {},
   "outputs": [
    {
     "name": "stdout",
     "output_type": "stream",
     "text": [
      "CategoricalNB\n",
      "==============================\n",
      "Misclassified samples: 82\n",
      "Accuracy: 0.84\n"
     ]
    }
   ],
   "source": [
    "#split the data for training and testing\n",
    "X_train, X_test, y_train, y_test = train_test_split(car_df_encoded.drop('class', axis=1), car_df_encoded['class'], test_size=0.3, random_state=143)\n",
    "#fit the model using the training data\n",
    "cnb = CategoricalNB()\n",
    "cnb.fit(X_train, y_train)\n",
    "#check performance\n",
    "prediction = cnb.predict(X_test)\n",
    "probability = cnb.predict_proba(X_test)\n",
    "# how did our model perform?\n",
    "number_wrong = (y_test != prediction).sum()\n",
    "\n",
    "print(\"CategoricalNB\")\n",
    "print(\"=\" * 30)\n",
    "print('Misclassified samples: {}'.format(number_wrong))\n",
    "accuracy = accuracy_score(y_test, prediction)\n",
    "print('Accuracy: {:.2f}'.format(accuracy))"
   ]
  },
  {
   "attachments": {
    "image.png": {
     "image/png": "[encoded data removed]"
    }
   },
   "cell_type": "markdown",
   "metadata": {},
   "source": [
    "**Gaussian Naive Bayes** operates on the assumption of a normal distribution of probabilities. That is to say the feature frequencies are distributed by the Gaussian law:\n",
    "\n",
    "![image.png](attachment:image.png)\n",
    "\n",
    "The formula is based on the mean (μ) and Bessel corrected variance (σ) of the frequency of each feature in the class of label.\n",
    "\n",
    "**Multinomial Naive Bayes** assumes the distribution of probabilities for each event can be calculated via this formula:\n",
    "\n",
    "$$P(feature_{i} = t | outcome = c; \\alpha) = \\frac{N_{tic}+\\alpha}{N_{c} + \\alpha n_{i}}$$\n",
    "\n",
    "$N_{c}$ is the total number of features of the event i (total number of words in all spam messages), $N_tic$ is a count of each feature, and n is the number of features with α being a Laplace smoothing  parameter to negate the influence of missing types in the training data. \n",
    "\n",
    "**Bernoulli Naive Bayes** is similar to the multinomial approach, but this version works better when the features are a set of boolean values instead of frequencies.\n",
    "\n",
    "$$P(x_i|y) = P(i|y)x_i + (1 - P(i|y))(1-x_i)$$\n",
    "\n",
    "This algorithm penalizes the non-occurrence of a feature while the multinomial approach uses the smoothing parameter for the absent values. "
   ]
  },
  {
   "cell_type": "markdown",
   "metadata": {},
   "source": [
    "# Classifying Spam"
   ]
  },
  {
   "cell_type": "code",
   "execution_count": 10,
   "metadata": {},
   "outputs": [],
   "source": [
    "import urllib.request\n",
    "import zipfile\n",
    "import io\n",
    "    \n",
    "url = 'https://archive.ics.uci.edu/ml/machine-learning-databases/00228/smsspamcollection.zip'\n",
    "filehandle, _ = urllib.request.urlretrieve(url)\n",
    "zip_file_object = zipfile.ZipFile(filehandle, 'r')\n",
    "first_file = zip_file_object.namelist()[0]\n",
    "file = zip_file_object.open(first_file)\n",
    "content = file.read()\n",
    "\n",
    "df = pd.read_table(io.StringIO(content.decode('utf-8')), names=['label','sms_message'])\n"
   ]
  },
  {
   "cell_type": "code",
   "execution_count": 11,
   "metadata": {},
   "outputs": [
    {
     "data": {
      "text/plain": [
       "ham     4825\n",
       "spam     747\n",
       "Name: label, dtype: int64"
      ]
     },
     "execution_count": 11,
     "metadata": {},
     "output_type": "execute_result"
    }
   ],
   "source": [
    "df['label'].value_counts()"
   ]
  },
  {
   "cell_type": "markdown",
   "metadata": {},
   "source": [
    "Again, we can't have strings as labels. We need numerical values to input into the algorithm.  "
   ]
  },
  {
   "cell_type": "code",
   "execution_count": 12,
   "metadata": {},
   "outputs": [],
   "source": [
    "# Conversion\n",
    "df['label'] = df.label.map({'ham':0, 'spam':1})\n"
   ]
  },
  {
   "cell_type": "markdown",
   "metadata": {},
   "source": [
    "This all looks like nonsense, but it truly is data. 5,572 rows of nonsense data. To turn these text messages into numerical data we need to do some processing. `Bag of Words`(BoW) references classification tasks involving text data. We will take each message and count the frequency of the words in the row. The order of the words is not important, it is just treated as a mixed up 'bag of words'. We will convert these messages into a matrix with a message on each row and every word that appears in the file as a unique column. The cell (row,column) values will count the frequency with which each word occurs in the message. You can find a tool to do this in sklearn - it is the`CountVectorizer` method. Here is an example:\n"
   ]
  },
  {
   "cell_type": "code",
   "execution_count": 16,
   "metadata": {},
   "outputs": [
    {
     "data": {
      "text/plain": [
       "['all',\n",
       " 'along',\n",
       " 'badger',\n",
       " 'be',\n",
       " 'come',\n",
       " 'if',\n",
       " 'it',\n",
       " 'just',\n",
       " 'me',\n",
       " 'on',\n",
       " 'rah',\n",
       " 'said',\n",
       " 'to',\n",
       " 'varsity',\n",
       " 've',\n",
       " 'want',\n",
       " 'when',\n",
       " 'wisconsin',\n",
       " 'with',\n",
       " 'you']"
      ]
     },
     "execution_count": 16,
     "metadata": {},
     "output_type": "execute_result"
    }
   ],
   "source": [
    "# some messages\n",
    "messages = ['On Wisconsin!',\n",
    "                'If you want to be a Badger just come along with me',\n",
    "                'Varsity, Varsity, U-rah-rah! Wisconsin,',\n",
    "                'When you\\'ve said Wisconsin, you\\'ve said it all']\n",
    "\n",
    "from sklearn.feature_extraction.text import CountVectorizer # Import and initialize CountVectorizer \n",
    "count_vector = CountVectorizer()\n",
    "count_vector.fit(messages)\n",
    "features = count_vector.get_feature_names()\n",
    "features"
   ]
  },
  {
   "cell_type": "code",
   "execution_count": 17,
   "metadata": {},
   "outputs": [
    {
     "data": {
      "text/plain": [
       "array([[0, 0, 0, 0, 0, 0, 0, 0, 0, 1, 0, 0, 0, 0, 0, 0, 0, 1, 0, 0],\n",
       "       [0, 1, 1, 1, 1, 1, 0, 1, 1, 0, 0, 0, 1, 0, 0, 1, 0, 0, 1, 1],\n",
       "       [0, 0, 0, 0, 0, 0, 0, 0, 0, 0, 2, 0, 0, 2, 0, 0, 0, 1, 0, 0],\n",
       "       [1, 0, 0, 0, 0, 0, 1, 0, 0, 0, 0, 2, 0, 0, 2, 0, 1, 1, 0, 2]],\n",
       "      dtype=int64)"
      ]
     },
     "execution_count": 17,
     "metadata": {},
     "output_type": "execute_result"
    }
   ],
   "source": [
    "message_array = count_vector.transform(messages).toarray()\n",
    "message_array"
   ]
  },
  {
   "cell_type": "code",
   "execution_count": 18,
   "metadata": {},
   "outputs": [
    {
     "data": {
      "text/html": [
       "<div>\n",
       "<style scoped>\n",
       "    .dataframe tbody tr th:only-of-type {\n",
       "        vertical-align: middle;\n",
       "    }\n",
       "\n",
       "    .dataframe tbody tr th {\n",
       "        vertical-align: top;\n",
       "    }\n",
       "\n",
       "    .dataframe thead th {\n",
       "        text-align: right;\n",
       "    }\n",
       "</style>\n",
       "<table border=\"1\" class=\"dataframe\">\n",
       "  <thead>\n",
       "    <tr style=\"text-align: right;\">\n",
       "      <th></th>\n",
       "      <th>all</th>\n",
       "      <th>along</th>\n",
       "      <th>badger</th>\n",
       "      <th>be</th>\n",
       "      <th>come</th>\n",
       "      <th>if</th>\n",
       "      <th>it</th>\n",
       "      <th>just</th>\n",
       "      <th>me</th>\n",
       "      <th>on</th>\n",
       "      <th>rah</th>\n",
       "      <th>said</th>\n",
       "      <th>to</th>\n",
       "      <th>varsity</th>\n",
       "      <th>ve</th>\n",
       "      <th>want</th>\n",
       "      <th>when</th>\n",
       "      <th>wisconsin</th>\n",
       "      <th>with</th>\n",
       "      <th>you</th>\n",
       "    </tr>\n",
       "  </thead>\n",
       "  <tbody>\n",
       "    <tr>\n",
       "      <th>0</th>\n",
       "      <td>0</td>\n",
       "      <td>0</td>\n",
       "      <td>0</td>\n",
       "      <td>0</td>\n",
       "      <td>0</td>\n",
       "      <td>0</td>\n",
       "      <td>0</td>\n",
       "      <td>0</td>\n",
       "      <td>0</td>\n",
       "      <td>1</td>\n",
       "      <td>0</td>\n",
       "      <td>0</td>\n",
       "      <td>0</td>\n",
       "      <td>0</td>\n",
       "      <td>0</td>\n",
       "      <td>0</td>\n",
       "      <td>0</td>\n",
       "      <td>1</td>\n",
       "      <td>0</td>\n",
       "      <td>0</td>\n",
       "    </tr>\n",
       "    <tr>\n",
       "      <th>1</th>\n",
       "      <td>0</td>\n",
       "      <td>1</td>\n",
       "      <td>1</td>\n",
       "      <td>1</td>\n",
       "      <td>1</td>\n",
       "      <td>1</td>\n",
       "      <td>0</td>\n",
       "      <td>1</td>\n",
       "      <td>1</td>\n",
       "      <td>0</td>\n",
       "      <td>0</td>\n",
       "      <td>0</td>\n",
       "      <td>1</td>\n",
       "      <td>0</td>\n",
       "      <td>0</td>\n",
       "      <td>1</td>\n",
       "      <td>0</td>\n",
       "      <td>0</td>\n",
       "      <td>1</td>\n",
       "      <td>1</td>\n",
       "    </tr>\n",
       "    <tr>\n",
       "      <th>2</th>\n",
       "      <td>0</td>\n",
       "      <td>0</td>\n",
       "      <td>0</td>\n",
       "      <td>0</td>\n",
       "      <td>0</td>\n",
       "      <td>0</td>\n",
       "      <td>0</td>\n",
       "      <td>0</td>\n",
       "      <td>0</td>\n",
       "      <td>0</td>\n",
       "      <td>2</td>\n",
       "      <td>0</td>\n",
       "      <td>0</td>\n",
       "      <td>2</td>\n",
       "      <td>0</td>\n",
       "      <td>0</td>\n",
       "      <td>0</td>\n",
       "      <td>1</td>\n",
       "      <td>0</td>\n",
       "      <td>0</td>\n",
       "    </tr>\n",
       "    <tr>\n",
       "      <th>3</th>\n",
       "      <td>1</td>\n",
       "      <td>0</td>\n",
       "      <td>0</td>\n",
       "      <td>0</td>\n",
       "      <td>0</td>\n",
       "      <td>0</td>\n",
       "      <td>1</td>\n",
       "      <td>0</td>\n",
       "      <td>0</td>\n",
       "      <td>0</td>\n",
       "      <td>0</td>\n",
       "      <td>2</td>\n",
       "      <td>0</td>\n",
       "      <td>0</td>\n",
       "      <td>2</td>\n",
       "      <td>0</td>\n",
       "      <td>1</td>\n",
       "      <td>1</td>\n",
       "      <td>0</td>\n",
       "      <td>2</td>\n",
       "    </tr>\n",
       "  </tbody>\n",
       "</table>\n",
       "</div>"
      ],
      "text/plain": [
       "   all  along  badger  be  come  if  it  just  me  on  rah  said  to  varsity  \\\n",
       "0    0      0       0   0     0   0   0     0   0   1    0     0   0        0   \n",
       "1    0      1       1   1     1   1   0     1   1   0    0     0   1        0   \n",
       "2    0      0       0   0     0   0   0     0   0   0    2     0   0        2   \n",
       "3    1      0       0   0     0   0   1     0   0   0    0     2   0        0   \n",
       "\n",
       "   ve  want  when  wisconsin  with  you  \n",
       "0   0     0     0          1     0    0  \n",
       "1   0     1     0          0     1    1  \n",
       "2   0     0     0          1     0    0  \n",
       "3   2     0     1          1     0    2  "
      ]
     },
     "execution_count": 18,
     "metadata": {},
     "output_type": "execute_result"
    }
   ],
   "source": [
    "freq_table = pd.DataFrame(data=message_array, columns=features)\n",
    "freq_table"
   ]
  },
  {
   "cell_type": "markdown",
   "metadata": {},
   "source": [
    "# Practice\n",
    "\n",
    "Now it is your turn to apply the algorithm to the sms message data. \n",
    "\n",
    "1. Split the data into training and testing sets. Use the naming conventions (x_train, x_test, y_train, y_test). Use `train_test_split` from `sklearn.model_selection` as was previously demonstrated. "
   ]
  },
  {
   "cell_type": "code",
   "execution_count": 22,
   "metadata": {},
   "outputs": [],
   "source": [
    "# split into training and testing sets\n",
    "x_train, x_test, y_train, y_test = train_test_split(df[\"sms_message\"], df[\"label\"], random_state=1)"
   ]
  },
  {
   "cell_type": "markdown",
   "metadata": {},
   "source": [
    "2. Create a count vector for each word in the dataset."
   ]
  },
  {
   "cell_type": "code",
   "execution_count": 23,
   "metadata": {},
   "outputs": [],
   "source": [
    "#use the count_vectorizer!\n",
    "count_vector = CountVectorizer()\n",
    "training_data = count_vector.fit_transform(x_train)\n",
    "testing_data = count_vector.transform(x_test)"
   ]
  },
  {
   "cell_type": "markdown",
   "metadata": {},
   "source": [
    "3. If you have named things correctly the code above should fit the training that testing data to their respective matricies. Last class we fit the MNLogit model. Today, let's do the same with the MultinomialNB() model. Enter the correct fit command below:"
   ]
  },
  {
   "cell_type": "code",
   "execution_count": 24,
   "metadata": {},
   "outputs": [
    {
     "data": {
      "text/plain": [
       "MultinomialNB()"
      ]
     },
     "execution_count": 24,
     "metadata": {},
     "output_type": "execute_result"
    }
   ],
   "source": [
    "from sklearn.naive_bayes import MultinomialNB\n",
    "naive_bayes = MultinomialNB()\n",
    "naive_bayes.fit(training_data, y_train)"
   ]
  },
  {
   "cell_type": "markdown",
   "metadata": {},
   "source": [
    "4. Recover the predictions from the testing data."
   ]
  },
  {
   "cell_type": "code",
   "execution_count": 27,
   "metadata": {},
   "outputs": [
    {
     "name": "stdout",
     "output_type": "stream",
     "text": [
      "[0 0 0 ... 0 1 0]\n"
     ]
    }
   ],
   "source": [
    "predictions = naive_bayes.predict(testing_data)\n",
    "print(predictions)"
   ]
  },
  {
   "cell_type": "markdown",
   "metadata": {},
   "source": [
    "5. Calculate the quality of your model. There are several measures that we will be interested in. `Accuracy` is the ratio of correct predictions to total predictions (test data points).`Precision` is defined as the number of true positives divided by the sum of both true positives  and false positives. `Recall` is defined as the number of true positives divided by the sum of both true positives  and false negatives. Accuracy is calculated below, read the `sklearn.metrics` page to calculate precision and recall.\n"
   ]
  },
  {
   "cell_type": "code",
   "execution_count": 30,
   "metadata": {},
   "outputs": [
    {
     "name": "stdout",
     "output_type": "stream",
     "text": [
      "Accuracy score:  0.9885139985642498\n",
      "precision score:  0.9720670391061452\n",
      "recall score:  0.9405405405405406\n",
      "f1 score:  0.9560439560439562\n"
     ]
    }
   ],
   "source": [
    "from sklearn.metrics import accuracy_score, precision_score, recall_score, f1_score\n",
    "print('Accuracy score: ', format(accuracy_score(y_test, predictions)))\n",
    "print('precision score: ', format(precision_score(y_test, predictions, pos_label=1)))\n",
    "print('recall score: ', format(recall_score(y_test, predictions, pos_label=1)))\n",
    "print('f1 score: ', format(f1_score(y_test, predictions, pos_label=1)))"
   ]
  }
 ],
 "metadata": {
  "kernelspec": {
   "display_name": "Python 3 (ipykernel)",
   "language": "python",
   "name": "python3"
  },
  "language_info": {
   "codemirror_mode": {
    "name": "ipython",
    "version": 3
   },
   "file_extension": ".py",
   "mimetype": "text/x-python",
   "name": "python",
   "nbconvert_exporter": "python",
   "pygments_lexer": "ipython3",
   "version": "3.8.8"
  }
 },
 "nbformat": 4,
 "nbformat_minor": 4
}
