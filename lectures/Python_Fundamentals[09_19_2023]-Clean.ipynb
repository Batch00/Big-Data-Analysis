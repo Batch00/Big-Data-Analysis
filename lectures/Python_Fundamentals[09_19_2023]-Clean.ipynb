{
 "cells": [
  {
   "cell_type": "markdown",
   "metadata": {},
   "source": [
    "# Python Fundamentals for Tuesday, September 19\n",
    "\n",
    "\n",
    "Follow along as we work our way through this document. Use the code cells to test and experiment as we go. Try to complete all of the practice exercises and ask questions if you need assistance.\n",
    "\n",
    "This is a list of the topics we will cover today, starting where we left off on Thursday:\n",
    "\n",
    "1. Authoring User-defined functions\n",
    "2. Practice with string methods, lists, tuples, and dictionaries\n",
    "3. Importing files\n",
    "4. Managing Data with Pandas\n",
    "\n",
    "Follow along as we work our way through this document. Use the code cells to test and experiment as we go. Try to complete all of the practice exercises and ask questions if you need assistance. "
   ]
  },
  {
   "cell_type": "markdown",
   "metadata": {},
   "source": [
    "In Python, a user-defined function is a custom function created by the programmer to perform a specific task or set of tasks. User-defined functions are essential for organizing code, making it more modular, and promoting code reuse. These functions can be defined and used throughout your program to encapsulate logic and improve code readability.\n",
    "\n",
    "To define a user-defined function in Python, you typically use the `def` keyword followed by the function name, a pair of parentheses containing any parameters the function takes, and a colon to indicate the start of the function's code block. Here's a basic syntax example:\n",
    "\n",
    "```\n",
    "def function_name(parameter1, parameter2, ...):\n",
    "    # Function code goes here\n",
    "    # This code block is indented\n",
    "    # You can include one or more statements\n",
    "\n",
    "# Example usage of the function\n",
    "result = function_name(argument1, argument2, ...)\n",
    "```\n",
    "The components of a user-defined function are:\n",
    "\n",
    "* **Function Name**: This is the name you give to your function. It should be descriptive of the function's purpose and follow Python naming conventions (e.g., using lowercase letters with underscores for multi-word function names).\n",
    "\n",
    "* **Parameters**: Parameters are placeholders for values that the function expects to receive when it is called. They are defined within the parentheses and act as input to the function. Functions can have zero or more parameters.\n",
    "\n",
    "* **Function Code**: The function code block contains the statements that define what the function does. It is indented to indicate that it is part of the function definition. You can include any valid Python code within the function.\n",
    "\n",
    "* **Function Call**: To use the function, you call it by its name and provide actual values (arguments) for the parameters. The function is executed with these arguments, and it can return a result or perform some action.\n",
    "\n",
    "An example appears below"
   ]
  },
  {
   "cell_type": "code",
   "execution_count": 1,
   "metadata": {},
   "outputs": [
    {
     "name": "stdout",
     "output_type": "stream",
     "text": [
      "450\n"
     ]
    }
   ],
   "source": [
    "def multiply_numbers(x, y):\n",
    "    result = x*y\n",
    "    return result\n",
    "\n",
    "# Calling the function\n",
    "total = multiply_numbers(15, 30)\n",
    "print(total)  # Output: 450"
   ]
  },
  {
   "cell_type": "markdown",
   "metadata": {},
   "source": [
    "In the above function `multiply_numbers` we use two parameters, x and y to return their product. When you call `multiply_numbers(15, 30)`, it returns 450, which is stored in the `total` variable.\n",
    "\n",
    "User-defined functions are a fundamental concept in Python programming, and they allow you to encapsulate logic, promote code reusability, and make your code more maintainable."
   ]
  },
  {
   "cell_type": "markdown",
   "metadata": {},
   "source": [
    "## Practice: Functions\n",
    "Take a few minutes and try the following. Feel free to chat with those around you if you get stuck.\n",
    "\n",
    "Write a change counting function. Pass the function the number of pennies, nickels, dimes, and quarters, and return the value of the coins. Test it with 5 pennies, 4 dimes, 2 quarters. "
   ]
  },
  {
   "cell_type": "code",
   "execution_count": 6,
   "metadata": {},
   "outputs": [
    {
     "name": "stdout",
     "output_type": "stream",
     "text": [
      "You Have 0 dollars and 95 cents\n"
     ]
    }
   ],
   "source": [
    "a = input(\"how many pennies do you have\")\n",
    "b = input(\"how many nickels do you have\")\n",
    "c = input(\"how many dimes do you have\")\n",
    "d = input(\"how many quarters do you have\")\n",
    "\n",
    "def change_counter(a,b,c,d):\n",
    "    total = (1*int(a)) + (5*int(b)) + (10*int(c)) + (25*int(d))\n",
    "    dollars = total//100\n",
    "    cents = total%100\n",
    "    print(\"You Have \" + str(dollars) + \" dollars and \" + str(cents) + \" cents\")\n",
    "\n",
    "change_counter(a,b,c,d)"
   ]
  },
  {
   "cell_type": "markdown",
   "metadata": {},
   "source": [
    "## String Methods\n",
    "\n",
    "Calling a method works almost exactly like calling a function, however the syntax is different. String methods are built-in functions that operate on strings (sequences of characters). They allow you to manipulate strings to fit your needs. \n",
    "\n",
    "Here is another example that fixes capitalization problems when users are asked to enter their name and creates a single variable with the complete name. It makes use of python's string methods"
   ]
  },
  {
   "cell_type": "code",
   "execution_count": 7,
   "metadata": {},
   "outputs": [],
   "source": [
    "def name_fixer(first, middle, last):\n",
    "    \"\"\"\n",
    "    Fix any capitalization problems and create a single variable with the complete name.\n",
    "    \"\"\"\n",
    "    return first.title() + ' ' + middle.title() + ' ' + last.title()           # the sting method title() makes the fist letter capital"
   ]
  },
  {
   "cell_type": "markdown",
   "metadata": {},
   "source": [
    "Some commonly used string methods in Python:\n",
    "\n",
    "**str.capitalize()**: Converts the first character of the string to uppercase and the rest to lowercase.\n"
   ]
  },
  {
   "cell_type": "code",
   "execution_count": 8,
   "metadata": {},
   "outputs": [
    {
     "name": "stdout",
     "output_type": "stream",
     "text": [
      "Hello, world\n"
     ]
    }
   ],
   "source": [
    "text = \"hello, world\"\n",
    "capitalized = text.capitalize()\n",
    "print(capitalized)  # Output: \"Hello, world\""
   ]
  },
  {
   "cell_type": "markdown",
   "metadata": {},
   "source": [
    "**str.upper() and str.lower()**: Convert the entire string to uppercase or lowercase, respectively."
   ]
  },
  {
   "cell_type": "code",
   "execution_count": 9,
   "metadata": {},
   "outputs": [
    {
     "name": "stdout",
     "output_type": "stream",
     "text": [
      "HELLO, WORLD\n",
      "hello, world\n"
     ]
    }
   ],
   "source": [
    "text = \"Hello, World\"\n",
    "upper_case = text.upper()\n",
    "lower_case = text.lower()\n",
    "print(upper_case)  # Output: \"HELLO, WORLD\"\n",
    "print(lower_case)  # Output: \"hello, world\""
   ]
  },
  {
   "cell_type": "markdown",
   "metadata": {},
   "source": [
    "**str.strip(), str.lstrip(), and str.rstrip()**: Remove leading and trailing whitespace characters from a string. strip() removes from both ends, lstrip() from the left end, and rstrip() from the right end."
   ]
  },
  {
   "cell_type": "code",
   "execution_count": 10,
   "metadata": {},
   "outputs": [
    {
     "name": "stdout",
     "output_type": "stream",
     "text": [
      "Python\n"
     ]
    }
   ],
   "source": [
    "text = \"   Python   \"\n",
    "stripped = text.strip()\n",
    "print(stripped)  # Output: \"Python\""
   ]
  },
  {
   "cell_type": "markdown",
   "metadata": {},
   "source": [
    "**str.split()**: Splits a string into a list of substrings based on a specified delimiter (default is whitespace)."
   ]
  },
  {
   "cell_type": "code",
   "execution_count": 12,
   "metadata": {},
   "outputs": [
    {
     "name": "stdout",
     "output_type": "stream",
     "text": [
      "['apple', 'banana', 'cherry']\n"
     ]
    }
   ],
   "source": [
    "text = \"apple,banana,cherry\"\n",
    "fruits = text.split(\",\")\n",
    "print(fruits)  # Output: ['apple', 'banana', 'cherry']"
   ]
  },
  {
   "cell_type": "markdown",
   "metadata": {},
   "source": [
    "**str.join(iterable)**: Joins the elements of an iterable (e.g., a list) into a single string, using the string as a separator."
   ]
  },
  {
   "cell_type": "code",
   "execution_count": 13,
   "metadata": {},
   "outputs": [
    {
     "name": "stdout",
     "output_type": "stream",
     "text": [
      "apple,banana,cherry\n"
     ]
    }
   ],
   "source": [
    "fruits = ['apple', 'banana', 'cherry']\n",
    "text = \",\".join(fruits)\n",
    "print(text)  # Output: \"apple,banana,cherry\""
   ]
  },
  {
   "cell_type": "markdown",
   "metadata": {},
   "source": [
    "**str.replace(old, new)**: Replaces all occurrences of a substring old with another substring new in the string."
   ]
  },
  {
   "cell_type": "code",
   "execution_count": 14,
   "metadata": {},
   "outputs": [
    {
     "name": "stdout",
     "output_type": "stream",
     "text": [
      "Hello, Python\n"
     ]
    }
   ],
   "source": [
    "text = \"Hello, World\"\n",
    "replaced = text.replace(\"World\", \"Python\")\n",
    "print(replaced)  # Output: \"Hello, Python\""
   ]
  },
  {
   "cell_type": "markdown",
   "metadata": {},
   "source": [
    "**str.startswith(prefix) and str.endswith(suffix)**: Checks if the string starts with a specified prefix or ends with a specified suffix and returns a Boolean value."
   ]
  },
  {
   "cell_type": "code",
   "execution_count": 15,
   "metadata": {},
   "outputs": [
    {
     "name": "stdout",
     "output_type": "stream",
     "text": [
      "True\n",
      "True\n"
     ]
    }
   ],
   "source": [
    "text = \"Hello, World\"\n",
    "starts_with_hello = text.startswith(\"Hello\")\n",
    "ends_with_world = text.endswith(\"World\")\n",
    "print(starts_with_hello)  # Output: True\n",
    "print(ends_with_world)    # Output: True"
   ]
  },
  {
   "cell_type": "markdown",
   "metadata": {},
   "source": [
    "**str.find(substring) and str.rfind(substring)**: Find the first (or last, in the case of rfind) occurrence of a substring within the string and return its index. If not found, it returns -1."
   ]
  },
  {
   "cell_type": "code",
   "execution_count": 17,
   "metadata": {},
   "outputs": [
    {
     "name": "stdout",
     "output_type": "stream",
     "text": [
      "0\n",
      "19\n"
     ]
    }
   ],
   "source": [
    "text = \"Python is easy and Python is fun\"\n",
    "first_occurrence = text.find(\"Python\")\n",
    "last_occurrence = text.rfind(\"Python\")\n",
    "print(first_occurrence)  # Output: 0\n",
    "print(last_occurrence)   # Output: 20"
   ]
  },
  {
   "cell_type": "markdown",
   "metadata": {},
   "source": [
    "Returning to our user-defined function `name_fixer()`, we see how these string methods can be employed to fix capitalization issues. "
   ]
  },
  {
   "cell_type": "code",
   "execution_count": 18,
   "metadata": {},
   "outputs": [
    {
     "name": "stdout",
     "output_type": "stream",
     "text": [
      "Buckingham U Badger\n"
     ]
    }
   ],
   "source": [
    "mascot_first = 'bucKingham'\n",
    "mascot_middle = 'u'\n",
    "mascot_last = 'badger'\n",
    "\n",
    "full_name = name_fixer(mascot_first, mascot_middle, mascot_last)\n",
    "print(full_name)"
   ]
  },
  {
   "cell_type": "markdown",
   "metadata": {},
   "source": [
    "## Practice Exercises\n",
    "\n",
    "Can you write a function in the codeblock below that will return a name in all capital letters?"
   ]
  },
  {
   "cell_type": "code",
   "execution_count": 24,
   "metadata": {},
   "outputs": [
    {
     "name": "stdout",
     "output_type": "stream",
     "text": [
      "CARSON\n"
     ]
    }
   ],
   "source": [
    "name = \"carson\"\n",
    "def capitalize(name):\n",
    "    print(str(name).upper())\n",
    "\n",
    "capitalize(name)"
   ]
  },
  {
   "cell_type": "markdown",
   "metadata": {},
   "source": [
    "Now try writing some code to create a new string made of an input string’s first and second upper case letters."
   ]
  },
  {
   "cell_type": "code",
   "execution_count": 28,
   "metadata": {},
   "outputs": [
    {
     "name": "stdout",
     "output_type": "stream",
     "text": [
      "WI\n"
     ]
    }
   ],
   "source": [
    "state = \"Wisconsin\"\n",
    "def shorten(state):\n",
    "    print(state[0:2].upper())\n",
    "\n",
    "shorten(state)"
   ]
  },
  {
   "cell_type": "markdown",
   "metadata": {},
   "source": [
    "Now let's play the name game with python!\n",
    "You can sing 'The Name Game' with (almost) every name.<br>\n",
    "\n",
    "\n",
    "### The regular verse:<br>\n",
    "\n",
    "The verse for the name 'Gary' would be like this:<br>\n",
    "Gary, Gary, bo-bary<br>\n",
    "Banana-fana fo-fary<br>\n",
    "Fee-fi-mo-mary<br>\n",
    "Gary!<br>\n",
    "\n",
    "At the end of every line, the name gets repeated without the first letter: Gary becomes ary<br>\n",
    "If we take (X) as the full name (Gary) and (Y) as the name without the first letter (ary) the verse would look like this:<br>\n",
    "\n",
    "**(X), (X), bo-b(Y)<br>\n",
    "Banana-fana fo-f(Y)<br>\n",
    "Fee-fi-mo-m(Y)<br>\n",
    "(X)!**<br>\n",
    "\n",
    "Got it?<br>\n",
    "\n",
    "Now write a module titled `namegame.py` that will take users names as inputs and return the four lines above. Put the code for the module in the cell below, then import the module in another cell just below. Test you code to be sure it runs correctly. For advanced coders, try to include the special rules for the name game in your module. They are: \n",
    "\n",
    "### Vowel as first letter of the name\n",
    "If you have a vowel as the first letter of your name (e.g. Earl) you do not truncate the name.<br>\n",
    "The verse looks like this:<br>\n",
    "\n",
    "Earl, Earl, bo-bearl<br>\n",
    "Banana-fana fo-fearl<br>\n",
    "Fee-fi-mo-mearl<br>\n",
    "Earl!<br>\n",
    "'B', 'F' or 'M' as first letter of the name<br>\n",
    "In case of a 'B', an 'F' or an 'M' (e.g. Billy, Felix, Mary) there is a special rule.<br>\n",
    "The line which would 'rebuild' the name (e.g. bo-billy) is sang without the first letter of the name.<br>\n",
    "The verse for the name Billy looks like this:<br>\n",
    "\n",
    "Billy, Billy, bo-illy<br>\n",
    "Banana-fana fo-filly<br>\n",
    "Fee-fi-mo-milly<br>\n",
    "Billy!<br>\n",
    "For the name 'Felix', this would be right:<br>\n",
    "\n",
    "Felix, Felix, bo-belix<br>\n",
    "Banana-fana fo-elix<br>\n",
    "Fee-fi-mo-melix<br>\n",
    "Felix!<br>\n"
   ]
  },
  {
   "cell_type": "code",
   "execution_count": 42,
   "metadata": {},
   "outputs": [
    {
     "name": "stdout",
     "output_type": "stream",
     "text": [
      "Carson, Carson, bo-barson\n",
      "Banana-fana fo-farson\n",
      "Fee-fi-mo-marson\n",
      "Carson!\n"
     ]
    }
   ],
   "source": [
    "import namegame\n",
    "\n",
    "namegame.song(\"Carson\")"
   ]
  },
  {
   "cell_type": "markdown",
   "metadata": {},
   "source": [
    "Note the use of f-strings above. To create an f-string, prefix the string with the letter “ f ”. The string itself can be formatted in much the same way that you would with str.format(). F-strings provide a concise and convenient way to embed python expressions inside string literals for formatting\n",
    "\n",
    "In the code provided for the namegame.py module, the if __name__ == \"__main__\": block is a common Python idiom used to control the execution of code when the script is run directly (as the main program) and not when it is imported as a module in another script.\n",
    "\n",
    "Here's how it works:\n",
    "\n",
    "1. When you run a Python script, the Python interpreter sets a special built-in variable called __name__ for the script. If the script is the main program being executed, Python sets __name__ to \"__main__\". If the script is imported as a module in another script, __name__ is set to the name of the module (e.g., the filename without the .py extension).\n",
    "\n",
    "2. The if __name__ == \"__main__\": block allows you to specify code that should only be executed when the script is run directly as the main program, not when it is imported as a module. This is useful for separating reusable code from code that should only run when the script is used as the entry point.\n",
    "\n",
    "In the first code block above, the code under if __name__ == \"__main__\": is the part that will execute when you run `namegame.py`as a standalone script. It prompts the user for a name, generates the name game verse, and prints it. However, if you import namegame.py as a module into another script, this code block won't run automatically; you can use the functions and variables defined in the module without executing this part of the script. This separation allows you to reuse the module's functionality in different contexts."
   ]
  },
  {
   "cell_type": "code",
   "execution_count": null,
   "metadata": {},
   "outputs": [],
   "source": []
  },
  {
   "cell_type": "markdown",
   "metadata": {},
   "source": [
    "# Lists\n",
    "\n",
    "A list is an ordered and modifiable collection of objects. Like a string, a list is a sequence of values, but unlike a string, the values can be any type (not just characters). Values are called elements of the list.\n",
    "\n",
    "Lists are enclosed in brakets (“[” and ”]”) and can take many forms:\n",
    "\n",
    "\n"
   ]
  },
  {
   "cell_type": "code",
   "execution_count": 43,
   "metadata": {},
   "outputs": [
    {
     "name": "stdout",
     "output_type": "stream",
     "text": [
      "[]\n",
      "\n",
      "List of numbers:  [11, 12, 13, 11]\n",
      "\n",
      "List Items: \n",
      "ECON Is Awesome\n",
      "\n",
      "Nested List:  [['ECON', 'is'], ['Awesome']]\n",
      "['ECON', 'is']\n"
     ]
    }
   ],
   "source": [
    "# Creating a blank List\n",
    "first_list = []\n",
    "print(first_list)\n",
    "  \n",
    "# Creating a list of numbers\n",
    "second_list = [11, 12, 13, 11]\n",
    "print(\"\\nList of numbers: \", second_list)\n",
    "\n",
    "  \n",
    "# Creating a List of strings and accessing using index\n",
    "third_list = [\"ECON\", \"Is\", \"Awesome\"]\n",
    "print(\"\\nList Items: \")\n",
    "print(third_list[0], third_list[1], third_list[2])\n",
    "  \n",
    "# Creating a nested list\n",
    "fourth_list = [['ECON', 'is'] , ['Awesome']]\n",
    "print(\"\\nNested List: \", fourth_list)\n",
    "print(fourth_list[0])\n"
   ]
  },
  {
   "cell_type": "markdown",
   "metadata": {},
   "source": [
    "Because a list is a sequence and not a set, a list may contain duplicate values in distinct positions.\n",
    "\n",
    "Once a list is created, it is possible to add elements to the list via the `append()` method."
   ]
  },
  {
   "cell_type": "code",
   "execution_count": 44,
   "metadata": {},
   "outputs": [
    {
     "name": "stdout",
     "output_type": "stream",
     "text": [
      "[]\n",
      "[1, 2, 'three', 4]\n"
     ]
    }
   ],
   "source": [
    "\n",
    "new_list = []\n",
    "print(new_list)\n",
    "  \n",
    "# Add elements to the list\n",
    "new_list.append(1)\n",
    "new_list.append(2)\n",
    "new_list.append('three')\n",
    "new_list.append(4)\n",
    "print(new_list)"
   ]
  },
  {
   "cell_type": "markdown",
   "metadata": {},
   "source": [
    "The `append()` method adds a single element to the end of a list. To add multiple elements at the end of a list, use the extend() method. If you wish to add an element at a specific position, the `insert()` method should be used. While `append()` only acceps one argument, the `insert()` method requires two arguments: insert(position, value). Remember that lists are ordered and start with 0."
   ]
  },
  {
   "cell_type": "code",
   "execution_count": 45,
   "metadata": {},
   "outputs": [
    {
     "name": "stdout",
     "output_type": "stream",
     "text": [
      "[]\n",
      "[1, 2, 'three', 4]\n",
      "[1, 2, 3, 4]\n"
     ]
    }
   ],
   "source": [
    "new_list = []\n",
    "print(new_list)\n",
    "  \n",
    "# Add elements to the list\n",
    "new_list.append(1)\n",
    "new_list.extend([2, 'three', 4])\n",
    "print(new_list)\n",
    "\n",
    "\n",
    "# Addition of element at specific position\n",
    "new_list = []\n",
    "new_list.append(1)\n",
    "new_list.append(2)\n",
    "new_list.append(4)\n",
    "new_list.insert(2, 3)\n",
    "print(new_list)"
   ]
  },
  {
   "cell_type": "markdown",
   "metadata": {},
   "source": [
    "Working with lists is very intuitive. For instance, you are able to concatenate lists using the + operator\n",
    "The '+' operator 'knows' what kinds of objects it is working with (lists, ints, strings) and acts appropriately. The `*` operator repeats a list as many times as dictated. Let's take a few minutes to practice working with lists. Raise you hand when you have completed the following tasks:\n",
    "\n",
    "1. Create a list containing all the letters of the alphabet, in alphabetical order. Name the list 'letters'\n",
    "2. Create a list containing all of the integers between 8 and 14. Name the list 'number_list'\n",
    "3. Repeat the 'number_list' four times and save it as a new list named 'repeat_list'.\n",
    "3. Create a list containing all of the integers between 8 and 14, but where each integer is stored as a string. Name the list 'string_list'\n",
    "4. Merge your `number_list` and `string_list` into a single list named `merged_list` and print it out to confirm accuracy."
   ]
  },
  {
   "cell_type": "markdown",
   "metadata": {},
   "source": [
    "You can create a list containing all the letters of the alphabet in alphabetical order using a simple Python list comprehension. Here's the code to do that:"
   ]
  },
  {
   "cell_type": "code",
   "execution_count": 54,
   "metadata": {},
   "outputs": [
    {
     "data": {
      "text/plain": [
       "['a',\n",
       " 'b',\n",
       " 'c',\n",
       " 'd',\n",
       " 'e',\n",
       " 'f',\n",
       " 'g',\n",
       " 'h',\n",
       " 'i',\n",
       " 'j',\n",
       " 'k',\n",
       " 'l',\n",
       " 'm',\n",
       " 'n',\n",
       " 'o',\n",
       " 'p',\n",
       " 'q',\n",
       " 'r',\n",
       " 's',\n",
       " 't',\n",
       " 'u',\n",
       " 'v',\n",
       " 'w',\n",
       " 'x',\n",
       " 'y',\n",
       " 'z']"
      ]
     },
     "execution_count": 54,
     "metadata": {},
     "output_type": "execute_result"
    }
   ],
   "source": [
    "letters = [chr(ord('a')+ i) for i in range(26)]\n",
    "letters"
   ]
  },
  {
   "cell_type": "markdown",
   "metadata": {},
   "source": [
    "We use a list comprehension to generate the list of letters. `ord('a')` returns the ASCII code of the letter 'a', which is 97. We then use `chr()` to convert the ASCII code back to a character. By adding i to 97, we get the ASCII codes for all the lowercase letters from 'a' to 'z'.\n",
    "\n"
   ]
  },
  {
   "cell_type": "code",
   "execution_count": null,
   "metadata": {},
   "outputs": [],
   "source": []
  },
  {
   "cell_type": "markdown",
   "metadata": {},
   "source": [
    "The loop runs for i values from 0 to 25, generating all the lowercase letters of the alphabet.\n",
    "The resulting list letters will contain all the lowercase letters in alphabetical order. Alternatively this could be written:"
   ]
  },
  {
   "cell_type": "code",
   "execution_count": 53,
   "metadata": {},
   "outputs": [
    {
     "data": {
      "text/plain": [
       "['a',\n",
       " 'b',\n",
       " 'c',\n",
       " 'd',\n",
       " 'e',\n",
       " 'f',\n",
       " 'g',\n",
       " 'h',\n",
       " 'i',\n",
       " 'j',\n",
       " 'k',\n",
       " 'l',\n",
       " 'm',\n",
       " 'n',\n",
       " 'o',\n",
       " 'p',\n",
       " 'q',\n",
       " 'r',\n",
       " 's',\n",
       " 't',\n",
       " 'u',\n",
       " 'v',\n",
       " 'w',\n",
       " 'x',\n",
       " 'y',\n",
       " 'z']"
      ]
     },
     "execution_count": 53,
     "metadata": {},
     "output_type": "execute_result"
    }
   ],
   "source": [
    "letters2 = []\n",
    "for i in range(0,26):\n",
    "    newletter = [chr(ord(\"a\")+i)]\n",
    "    letters2 += newletter\n",
    "\n",
    "letters2"
   ]
  },
  {
   "cell_type": "markdown",
   "metadata": {},
   "source": [
    "We could create a list containing all the integers between 8 and 14 a number of different ways. Below we are using a Python list comprehension or the range() function."
   ]
  },
  {
   "cell_type": "code",
   "execution_count": 57,
   "metadata": {},
   "outputs": [],
   "source": [
    "number_list = [i for i in range(8,15)]"
   ]
  },
  {
   "cell_type": "code",
   "execution_count": 62,
   "metadata": {},
   "outputs": [
    {
     "data": {
      "text/plain": [
       "[8, 9, 10, 11, 12, 13, 14]"
      ]
     },
     "execution_count": 62,
     "metadata": {},
     "output_type": "execute_result"
    }
   ],
   "source": [
    "numbers2 = list(range(8,15))\n",
    "numbers2"
   ]
  },
  {
   "cell_type": "markdown",
   "metadata": {},
   "source": [
    "To repeat the number_list four times and save it as a new list named repeat_list, you can use the * operator to replicate the contents of number_list multiple times. It is easiest to write code once you break the code down into easy to accomplish steps:\n",
    "\n",
    "1. Create the number_list containing integers from 8 to 14\n",
    "\n",
    "2. Use the * operator. Multiplying a list by an integer n creates a new list with the original list's elements repeated n times.\n"
   ]
  },
  {
   "cell_type": "code",
   "execution_count": 63,
   "metadata": {},
   "outputs": [
    {
     "name": "stdout",
     "output_type": "stream",
     "text": [
      "[8, 9, 10, 11, 12, 13, 14, 8, 9, 10, 11, 12, 13, 14, 8, 9, 10, 11, 12, 13, 14, 8, 9, 10, 11, 12, 13, 14]\n"
     ]
    }
   ],
   "source": [
    "# Create the number_list\n",
    "number_list = [i for i in range(8,15)]\n",
    "\n",
    "# Repeat the number_list four times\n",
    "repeat_list = number_list * 4\n",
    "\n",
    "# Print the repeat_list\n",
    "print(repeat_list)"
   ]
  },
  {
   "cell_type": "code",
   "execution_count": null,
   "metadata": {},
   "outputs": [],
   "source": []
  },
  {
   "cell_type": "code",
   "execution_count": 64,
   "metadata": {},
   "outputs": [
    {
     "name": "stdout",
     "output_type": "stream",
     "text": [
      "[8, 9, 10, 11, 12, 13, 14]\n",
      "['a', 'b', 'c', 'd', 'e', 'f', 'g', 'h', 'i', 'j', 'k', 'l', 'm', 'n', 'o', 'p', 'q', 'r', 's', 't', 'u', 'v', 'w', 'x', 'y', 'z']\n",
      "[8, 9, 10, 11, 12, 13, 14, 'a', 'b', 'c', 'd', 'e', 'f', 'g', 'h', 'i', 'j', 'k', 'l', 'm', 'n', 'o', 'p', 'q', 'r', 's', 't', 'u', 'v', 'w', 'x', 'y', 'z']\n"
     ]
    }
   ],
   "source": [
    "# Create the number_list\n",
    "print(number_list)\n",
    "# Create the string_list\n",
    "print(letters)\n",
    "# Merge the two lists into merged_list\n",
    "merge_list = number_list+letters\n",
    "# Print the merged_list\n",
    "print(merge_list)"
   ]
  },
  {
   "cell_type": "markdown",
   "metadata": {},
   "source": [
    "# Navigating Lists\n",
    "\n",
    "To take action with respect to multiple elements of a list you should consider using a `for` loop. In order to write or update list elements you will need to specify the index value, which can be accomplished any number of ways. Take a look at the code below and observe how it works. The for loop runs through the list and updates each element. It uses `len()` to return the length of the list. The `range()` function returns a list of indices from 0 to n − 1, where n is the length of the list. Each time through the loop, i gets the index of the next element."
   ]
  },
  {
   "cell_type": "code",
   "execution_count": 65,
   "metadata": {},
   "outputs": [
    {
     "name": "stdout",
     "output_type": "stream",
     "text": [
      "5\n",
      "[8, 10, 6, 14, 16]\n"
     ]
    }
   ],
   "source": [
    "num_list = [4,5,3,7,8]\n",
    "x = len(num_list)\n",
    "print(x)\n",
    "for i in range(len(num_list)):\n",
    "    num_list[i] = num_list[i] * 2\n",
    "print(num_list)"
   ]
  },
  {
   "cell_type": "markdown",
   "metadata": {},
   "source": [
    "# Tuples\n",
    "\n",
    "Tuples are collections of objects, like lists, but they are immutable - meaning they cannot be changed once created. The values stored in a tuple can be any type. They are indexed by integers. Tuples are also comparable and hashable so we can sort lists of tuples and use them as key values in Python dictionaries."
   ]
  },
  {
   "cell_type": "code",
   "execution_count": 66,
   "metadata": {},
   "outputs": [
    {
     "name": "stdout",
     "output_type": "stream",
     "text": [
      "<class 'tuple'> <class 'tuple'> <class 'tuple'>\n"
     ]
    }
   ],
   "source": [
    "tuple_one = ('a', 'b', 'c', 'd', 'e')\n",
    "tuple_two = 'a', 'b', 'c', 'd', 'e'\n",
    "tuple_three = tuple('abcde')\n",
    "\n",
    "print(type(tuple_one), type(tuple_two), type(tuple_three))\n"
   ]
  },
  {
   "cell_type": "markdown",
   "metadata": {},
   "source": [
    "The comparison operators work with tuples as well. Python starts by comparing the first element from each sequence. If they are equal, it goes on to the next element, and so on, until it finds elements that differ. Subsequent elements are not considered (even if they are really big).\n",
    "\n",
    "The sort function works similarly. This functionality can be remembered via the acronym DSU:\n",
    "\n",
    "**Decorate**\n",
    "a sequence by building a list of tuples with one or more sort keys preceding the elements from the sequence,\n",
    "**Sort**\n",
    "the list of tuples using the Python built-in sort, and\n",
    "**Undecorate**\n",
    "by extracting the sorted elements of the sequence.\n",
    "\n",
    "See how python works by executing the following"
   ]
  },
  {
   "cell_type": "code",
   "execution_count": 68,
   "metadata": {},
   "outputs": [
    {
     "name": "stdout",
     "output_type": "stream",
     "text": [
      "[(2, 'if')]\n",
      "[(2, 'if'), (3, 'you')]\n",
      "[(2, 'if'), (3, 'you'), (4, 'want')]\n",
      "[(2, 'if'), (3, 'you'), (4, 'want'), (2, 'to')]\n",
      "[(2, 'if'), (3, 'you'), (4, 'want'), (2, 'to'), (2, 'be')]\n",
      "[(2, 'if'), (3, 'you'), (4, 'want'), (2, 'to'), (2, 'be'), (1, 'a')]\n",
      "[(2, 'if'), (3, 'you'), (4, 'want'), (2, 'to'), (2, 'be'), (1, 'a'), (6, 'badger')]\n",
      "[(2, 'if'), (3, 'you'), (4, 'want'), (2, 'to'), (2, 'be'), (1, 'a'), (6, 'badger'), (4, 'just')]\n",
      "[(2, 'if'), (3, 'you'), (4, 'want'), (2, 'to'), (2, 'be'), (1, 'a'), (6, 'badger'), (4, 'just'), (4, 'come')]\n",
      "[(2, 'if'), (3, 'you'), (4, 'want'), (2, 'to'), (2, 'be'), (1, 'a'), (6, 'badger'), (4, 'just'), (4, 'come'), (5, 'along')]\n",
      "[(2, 'if'), (3, 'you'), (4, 'want'), (2, 'to'), (2, 'be'), (1, 'a'), (6, 'badger'), (4, 'just'), (4, 'come'), (5, 'along'), (4, 'with')]\n",
      "[(2, 'if'), (3, 'you'), (4, 'want'), (2, 'to'), (2, 'be'), (1, 'a'), (6, 'badger'), (4, 'just'), (4, 'come'), (5, 'along'), (4, 'with'), (2, 'me')]\n"
     ]
    }
   ],
   "source": [
    "txt = 'if you want to be a badger just come along with me'\n",
    "words = txt.split()\n",
    "t = []\n",
    "for word in words:\n",
    "    t.append((len(word), word))\n",
    "    print(t)"
   ]
  },
  {
   "cell_type": "code",
   "execution_count": 69,
   "metadata": {},
   "outputs": [
    {
     "name": "stdout",
     "output_type": "stream",
     "text": [
      "<class 'tuple'>\n",
      "<class 'list'>\n",
      "[(2, 'if'), (3, 'you'), (4, 'want'), (2, 'to'), (2, 'be'), (1, 'a'), (6, 'badger'), (4, 'just'), (4, 'come'), (5, 'along'), (4, 'with'), (2, 'me')]\n",
      "[(2, 'if'), (3, 'you'), (7, 'several'), (2, 'to'), (2, 'be'), (1, 'a'), (6, 'badger'), (4, 'just'), (4, 'come'), (5, 'along'), (4, 'with'), (2, 'me')]\n",
      "['several', 'badger', 'along', 'with', 'just', 'come', 'you', 'to', 'me', 'if', 'be', 'a']\n"
     ]
    }
   ],
   "source": [
    "txt = 'if you want to be a badger just come along with me'\n",
    "words = txt.split()\n",
    "\n",
    "\n",
    "t = []\n",
    "for x in words:\n",
    "    t.append((len(x), x))\n",
    "\n",
    "print(type(t[2]))\n",
    "print(type(t))\n",
    "print(t)\n",
    "t[2] = (7, 'several')\n",
    "print(t)\n",
    "t.sort(reverse=True)\n",
    "\n",
    "res = []\n",
    "for length, word in t:\n",
    "    res.append(word)\n",
    "\n",
    "print(res)"
   ]
  },
  {
   "cell_type": "code",
   "execution_count": 70,
   "metadata": {},
   "outputs": [
    {
     "data": {
      "text/plain": [
       "list"
      ]
     },
     "execution_count": 70,
     "metadata": {},
     "output_type": "execute_result"
    }
   ],
   "source": [
    "txt = 'if you want to be a badger just come along with me'\n",
    "words = txt.split()\n",
    "type(words)\n"
   ]
  },
  {
   "cell_type": "markdown",
   "metadata": {},
   "source": [
    "# Dictionaries\n",
    "\n",
    "Dictionaries are unordered key-value pairs. A 'dict' is made of a key (that must be unique) and an associated value (which need not be unique). Dicts are made using curly brackets. "
   ]
  },
  {
   "cell_type": "code",
   "execution_count": 71,
   "metadata": {},
   "outputs": [
    {
     "name": "stdout",
     "output_type": "stream",
     "text": [
      "{'touchdown': 6, 'field_goal': 3, 'safety': 2, 'two_point_conversion': 2, 'extra_point': 1}\n",
      "1\n"
     ]
    }
   ],
   "source": [
    "ways_to_score = {'touchdown':6, 'field_goal':3, 'safety':2, 'two_point_conversion':2, 'extra_point':1}   \n",
    "print(ways_to_score)\n",
    "\n",
    "print(ways_to_score['extra_point'])"
   ]
  },
  {
   "cell_type": "markdown",
   "metadata": {},
   "source": [
    "Dictionaries do not work in reverse. The key will unlock the value, but the value will not recover the key."
   ]
  },
  {
   "cell_type": "code",
   "execution_count": 73,
   "metadata": {},
   "outputs": [
    {
     "ename": "KeyError",
     "evalue": "2",
     "output_type": "error",
     "traceback": [
      "\u001b[1;31m---------------------------------------------------------------------------\u001b[0m",
      "\u001b[1;31mKeyError\u001b[0m                                  Traceback (most recent call last)",
      "\u001b[1;32m<ipython-input-73-49d15da65ed5>\u001b[0m in \u001b[0;36m<module>\u001b[1;34m\u001b[0m\n\u001b[1;32m----> 1\u001b[1;33m \u001b[0mprint\u001b[0m\u001b[1;33m(\u001b[0m\u001b[0mways_to_score\u001b[0m\u001b[1;33m[\u001b[0m\u001b[1;36m2\u001b[0m\u001b[1;33m]\u001b[0m\u001b[1;33m)\u001b[0m\u001b[1;33m\u001b[0m\u001b[1;33m\u001b[0m\u001b[0m\n\u001b[0m",
      "\u001b[1;31mKeyError\u001b[0m: 2"
     ]
    }
   ],
   "source": [
    "print(ways_to_score[2])"
   ]
  },
  {
   "cell_type": "markdown",
   "metadata": {},
   "source": [
    "To add elements to a dictionary or modify an existing element, simply reference the key (whether it exists or not)"
   ]
  },
  {
   "cell_type": "code",
   "execution_count": 74,
   "metadata": {},
   "outputs": [
    {
     "name": "stdout",
     "output_type": "stream",
     "text": [
      "{'touchdown': 6.0, 'field_goal': 3, 'safety': 2, 'two_point_conversion': 2, 'extra_point': 1}\n",
      "{'touchdown': 6.0, 'field_goal': 3, 'safety': 2, 'two_point_conversion': 2, 'extra_point': 1, 'blocked_extra_point_return': 2}\n"
     ]
    }
   ],
   "source": [
    "ways_to_score['touchdown'] = 6.0\n",
    "print(ways_to_score)\n",
    "\n",
    "ways_to_score['blocked_extra_point_return'] = 2\n",
    "print(ways_to_score)"
   ]
  },
  {
   "cell_type": "markdown",
   "metadata": {},
   "source": [
    "Ranges, lists, and strings are all 'iterable'. Ranges iterate over whole numbers while lists iterate over the elements of the list. Strings iterate through the characters in the string and dicts iterate over the keys\n",
    "\n",
    "Iteration is the foundation of big data analysis, so it is important that we get comfortable looping with these objects.\n",
    "\n",
    "# Practice with Dicts & Lists\n",
    "\n",
    "\n",
    "1. Create a dict with keys for each college in the Big Ten conference. Give each key a value corresponding how many other Big Ten schools are located in the same state. Print the dictionary you just created. \n",
    "\n",
    "2. Now assume that in the next round of realignment Notre Dame, Iowa State, & Pitt join the Big Ten conference. Revisit your previous work with this update and print your dict when you are done. \n",
    "\n",
    "3. Loop through the following list: teams = ['University of Wisconsin-Madison','University of Iowa','University of Wisconsin-Madison','University of Michigan','University of Wisconsin-Madison','University of Minnesota']. If the team is 'University of Wisconsin-Madison' print out the phrase 'Go Big Red'. If any other team arises print out the word 'BOOOOOOOOOOO'."
   ]
  },
  {
   "cell_type": "code",
   "execution_count": 76,
   "metadata": {},
   "outputs": [
    {
     "name": "stdout",
     "output_type": "stream",
     "text": [
      "{'Nebraska': 0, 'Iowa': 0, 'Minnesota': 0, 'Illinois': 1, 'Northwestern': 1, 'Wisconsin': 0, 'Indiana': 1, 'Purdue': 1, 'Michigan': 1, 'Michigan State': 1, 'Ohio State': 0, 'Penn State': 0, 'Rutgers': 0, 'Maryland': 0}\n"
     ]
    }
   ],
   "source": [
    "#1\n",
    "\n",
    "big_ten = {\"Nebraska\":0,\n",
    "           \"Iowa\":0,\n",
    "           \"Minnesota\":0,\n",
    "           \"Illinois\":1,\n",
    "           \"Northwestern\":1,\n",
    "           \"Wisconsin\":0,\n",
    "           \"Indiana\":1,\n",
    "           \"Purdue\":1,\n",
    "           \"Michigan\":1,\n",
    "           \"Michigan State\":1,\n",
    "           \"Ohio State\":0,\n",
    "           \"Penn State\":0,\n",
    "           \"Rutgers\":0,\n",
    "           \"Maryland\":0}\n",
    "print(big_ten)\n"
   ]
  },
  {
   "cell_type": "code",
   "execution_count": 78,
   "metadata": {},
   "outputs": [
    {
     "name": "stdout",
     "output_type": "stream",
     "text": [
      "{'Nebraska': 0, 'Iowa': 1, 'Minnesota': 0, 'Illinois': 1, 'Northwestern': 1, 'Wisconsin': 0, 'Indiana': 2, 'Purdue': 2, 'Michigan': 1, 'Michigan State': 1, 'Ohio State': 0, 'Penn State': 1, 'Rutgers': 0, 'Maryland': 0, 'Notre Dame': 2, 'Pitt': 1, 'Iowa State': 1}\n"
     ]
    }
   ],
   "source": [
    "#2\n",
    "big_ten[\"Notre Dame\"] = 2\n",
    "big_ten[\"Pitt\"] = 1\n",
    "big_ten[\"Iowa State\"] = 1\n",
    "big_ten[\"Iowa\"] = 1\n",
    "big_ten[\"Penn State\"] = 1\n",
    "big_ten[\"Indiana\"] = 2\n",
    "big_ten[\"Purdue\"] = 2\n",
    "print(big_ten)"
   ]
  },
  {
   "cell_type": "code",
   "execution_count": 80,
   "metadata": {},
   "outputs": [
    {
     "name": "stdout",
     "output_type": "stream",
     "text": [
      "Go Big Red!\n",
      "BOOOOOOOOOOOOOOOOOO\n",
      "Go Big Red!\n",
      "BOOOOOOOOOOOOOOOOOO\n",
      "Go Big Red!\n",
      "BOOOOOOOOOOOOOOOOOO\n"
     ]
    }
   ],
   "source": [
    "#3 \n",
    "teams = ['University of Wisconsin-Madison','University of Iowa','University of Wisconsin-Madison','University of Michigan','University of Wisconsin-Madison','University of Minnesota']\n",
    "\n",
    "for t in teams:\n",
    "    if t == \"University of Wisconsin-Madison\":\n",
    "        print(\"Go Big Red!\")\n",
    "    else:\n",
    "        print(\"BOOOOOOOOOOOOOOOOOO\")"
   ]
  },
  {
   "cell_type": "markdown",
   "metadata": {},
   "source": [
    "# Files\n",
    "\n",
    "When we want to read or write a file (say on your hard drive), we first must open the file. Opening the file communicates with your operating system, which knows where the data for each file is stored. When you open a file, you are asking the operating system to find the file by name and make sure the file exists. In this example, we open the file mbox.txt, which should be stored in the same folder that you are in when you start Python. You can download this file from www.py4e.com/code3/mbox.txt\n",
    "\n",
    "To break the file into lines, there is a special character that represents the “end of the line” called the newline character.\n",
    "\n",
    "In Python, we represent the newline character as a backslash-n in string constants. Even though this looks like two characters, it is actually a single character. When we look at the variable by entering “stuff” in the interpreter, it shows us the \\n in the string, but when we use print to show the string, we see the string broken into two lines by the newline character.\n",
    "\n",
    "While the file handle does not contain the data for the file, it is quite easy to construct a for loop to read through and count each of the lines in a file:"
   ]
  },
  {
   "cell_type": "code",
   "execution_count": null,
   "metadata": {},
   "outputs": [],
   "source": [
    "\n",
    "fhand = open('mbox.txt') # The open() function opens a file, and returns it as a file object.\n",
    "count = 0\n",
    "for line in fhand:\n",
    "    count = count + 1\n",
    "print('Line Count:', count)"
   ]
  },
  {
   "cell_type": "markdown",
   "metadata": {},
   "source": [
    "We can use the file handle as the sequence in our for loop. Our for loop simply counts the number of lines in the file and prints them out. The rough translation of the for loop into English is, “for each line in the file represented by the file handle, add one to the count variable.”\n",
    "\n",
    "The reason that the open function does not read the entire file is that the file might be quite large with many gigabytes of data. The open statement takes the same amount of time regardless of the size of the file. The for loop actually causes the data to be read from the file.\n",
    "\n",
    "If you know the file is relatively small compared to the size of your main memory, you can read the whole file into one string using the read method on the file handle."
   ]
  },
  {
   "cell_type": "code",
   "execution_count": null,
   "metadata": {},
   "outputs": [],
   "source": [
    "fhand = open('mbox.txt', 'r')\n",
    "inp = fhand.read()\n",
    "print(len(inp))\n",
    "print(inp[:20])"
   ]
  },
  {
   "cell_type": "markdown",
   "metadata": {},
   "source": [
    "The open function takes two arguments, the filename and the mode. There are four possible modes, with read being the default when no mode is specified. \n",
    "\n",
    "* \"r\" - Read - Default value. Opens a file for reading, error if the file does not exist\n",
    "\n",
    "* \"a\" - Append - Opens a file for appending, creates the file if it does not exist\n",
    "\n",
    "* \"w\" - Write - Opens a file for writing, creates the file if it does not exist\n",
    "\n",
    "* \"x\" - Create - Creates the specified file, returns an error if the file exist\n",
    "\n",
    "When you are searching through data in a file, it is a very common pattern to read through a file, ignoring most of the lines and only processing lines which meet a particular condition. We can combine the pattern for reading a file with string methods to build simple search mechanisms.\n",
    "\n",
    "For example, if we wanted to read a file and only print out lines which started with the prefix “From:”, we could use the string method `startswith()` to select only those lines with the desired prefix:"
   ]
  },
  {
   "cell_type": "code",
   "execution_count": null,
   "metadata": {},
   "outputs": [],
   "source": [
    "fhand = open('mbox-short.txt')\n",
    "count = 0\n",
    "for line in fhand:\n",
    "    if line.startswith('From:'):\n",
    "        print(line)"
   ]
  },
  {
   "cell_type": "markdown",
   "metadata": {},
   "source": [
    "Each of the lines ends with a newline, so the print statement prints the string in the variable line which includes a newline and then print adds another newline, resulting in the double spacing effect we see.\n",
    "\n",
    "We could use line slicing to print all but the last character, but a simpler approach is to use the rstrip method which strips whitespace from the right side of a string as follows:"
   ]
  },
  {
   "cell_type": "code",
   "execution_count": null,
   "metadata": {},
   "outputs": [],
   "source": [
    "fhand = open('mbox-short.txt')\n",
    "for line in fhand:\n",
    "    line = line.rstrip()\n",
    "    if line.startswith('From:'):\n",
    "        print(line)"
   ]
  },
  {
   "cell_type": "markdown",
   "metadata": {},
   "source": [
    "To write a file, you have to open it with mode “w” as a second parameter. If the file already exists, opening it in write mode clears out the old data and starts fresh, so be careful! If the file doesn’t exist, a new one is created."
   ]
  },
  {
   "cell_type": "code",
   "execution_count": null,
   "metadata": {},
   "outputs": [],
   "source": [
    "fout = open('output.txt', 'w')"
   ]
  },
  {
   "cell_type": "markdown",
   "metadata": {},
   "source": [
    "The write method of the file handle object puts data into the file, returning the number of characters written. The default write mode is text for writing (and reading) strings."
   ]
  },
  {
   "cell_type": "code",
   "execution_count": null,
   "metadata": {},
   "outputs": [],
   "source": [
    "line1 = \"This here's the wattle,\\n\"\n",
    "fout.write(line1)\n",
    "line2 = 'the emblem of our land.\\n'\n",
    "fout.write(line2)\n",
    "fout.close()"
   ]
  },
  {
   "cell_type": "markdown",
   "metadata": {},
   "source": [
    "When you are done writing, you have to close the file to make sure that the last bit of data is physically written to the disk so it will not be lost if the power goes off."
   ]
  },
  {
   "cell_type": "markdown",
   "metadata": {},
   "source": [
    "# Pandas Fundamentals \n",
    "\n",
    "`pandas` is an open-source Python library that provides data structures and data analysis tools for working with structured data. It is widely used in data science, data analysis, and data manipulation tasks. Pandas is built on top of the NumPy library and provides easy-to-use data structures such as Series and DataFrame, which are designed to handle and manipulate data efficiently.`pandas` is well suited for many different kinds of data:\n",
    "\n",
    "* Tabular data with heterogeneously-typed columns, as in an Excel spreadsheet\n",
    "\n",
    "* Ordered and unordered (not necessarily fixed-frequency) time series data.\n",
    "\n",
    "* Matrix data (homogeneously typed or heterogeneous) with row and column labels\n",
    "\n",
    "* Any observational / statistical data sets.\n",
    "\n",
    "\n",
    "The two primary data structures of pandas are Series (1-dimensional) and DataFrame (2-dimensional). A DataFrame does essentially everything that R’s `data.frame` does and then some. `pandas` is built on top of NumPy and integrates well with many other 3rd party libraries.\n",
    "\n",
    "\n",
    "## Pandas Data Frames\n",
    "\n",
    "You can think of a data frame as the python analog to an excel spreadsheet; it is a simple table with an **unlimited** number of rows and columns. Typically the rows of a data frame will reference the observational unit while columns will reference variables describing each observational unit. In a dataframe the information is **related** both across both rows and columns. \n",
    "\n",
    "### Creating Data Frames\n",
    "\n",
    "Data frames are created in Anaconda python using the `DataFrame()` function. To call the `DataFrame()` function from the pandas package you should type something similar to `pd.DataFrame()`, where the prefix can vary depending on how you have imported pandas. The parameter names of `DataFrame()` are used as the column names in the data frame and the parameter data are the variables of the data frame (columns).\n",
    "\n",
    "Use the code below to create you own data frame. The code initially creates a data frame with 4 observations of 3 variables, however you should edit this to create data frames of varying dimensionality. The name that has been assigned to this particular data frame is df, which you will find is a common 'pythonic' naming convention. The variables have been named X, Y,  and Z."
   ]
  },
  {
   "cell_type": "code",
   "execution_count": null,
   "metadata": {},
   "outputs": [],
   "source": [
    "import pandas as pd  #load the pandas package and call it pd\n",
    "\n",
    "df = (\n",
    "    pd.DataFrame(data={ \n",
    "        'X': [1, 2, 3, 4],\n",
    "        'Y': [5, 3, 2, 1],\n",
    "        'Z': [4, 2, 1, 7]}))"
   ]
  },
  {
   "cell_type": "markdown",
   "metadata": {},
   "source": [
    "We see that both a `DataFrame` and `module` have been created. You can use `?` to check them out. Other packages that you will frequently use in this course are numpy and scipy. As a **quick aside** we can call for those to load as well and inspect them to see how they might be used."
   ]
  },
  {
   "cell_type": "code",
   "execution_count": null,
   "metadata": {},
   "outputs": [],
   "source": [
    "pd?"
   ]
  },
  {
   "cell_type": "markdown",
   "metadata": {},
   "source": [
    "A full list of the packages included in the Anaconda distribution is [here](https://docs.anaconda.com/anaconda/packages/pkg-docs/). Should you need to access a package that is not pre-loaded into Anaconda you can almost certainly install it via the Conda prompt. We will work through some examples together later in the course, but for now we will be satisfied with the modules already accessible.\n",
    "\n",
    "**Returning to our data frame**, note that the name and the assignment appear on one line of code, ending in a open parenthesis. This allows the code to be continued over multiple lines of code. The name of the function, here `pd.DataFrame()`, is on a seperate line and it is indented, as is the name for each column. This nesting is not necessary, but it makes the data structure clear to the reader. The functions and methods being employed are spotlighted by this approach. \n",
    "\n",
    "The *data parameter* is given inside of `{ and}`. Remember those squigly brackets indicate this is a Python dictionary object.  Here the dict maps the names X, Y, and Z to lists. The list operators are `[ and ]` and the values of the list are seperated by commas. Each list in this assignment statement will become a column of the data frame. You can see what the data looks like by printing it just as your would any other object:"
   ]
  },
  {
   "cell_type": "code",
   "execution_count": null,
   "metadata": {},
   "outputs": [],
   "source": [
    "print(df)                     # Print the dataframe. \n",
    "print('\\n', type(df))"
   ]
  },
  {
   "cell_type": "markdown",
   "metadata": {},
   "source": [
    "Dataframes are easy to read when printed. Let's break it down: \n",
    "\n",
    "This created a DataFrame object. The syntax prefixing `DataFrame` in the print out describes the hierarchy: `DataFrame` is part of the `frame` group which is part of the `core` group of the package `pandas`. All you need to know is that you have just 'called' the `DataFrame()` function from the pandas (`pd.`) package. The `DataFrame()` function creates dataframes from other objects. If we don't pass an argument, it creates an empty DataFrame. For example:"
   ]
  },
  {
   "cell_type": "code",
   "execution_count": null,
   "metadata": {},
   "outputs": [],
   "source": [
    "df_empty = pd.DataFrame()\n",
    "print(df_empty)"
   ]
  },
  {
   "cell_type": "markdown",
   "metadata": {},
   "source": [
    "Circling back to our first dataframe (df), let's reference the shape attribute of a DataFrame to see how big our data is. Run the following to see if your mental mapping matches how Anaconda has stored the data:"
   ]
  },
  {
   "cell_type": "code",
   "execution_count": null,
   "metadata": {},
   "outputs": [],
   "source": [
    "print('Data frame shape:', df.shape)   \n",
    "\n",
    "print('Data frame size:', df.size)  \n",
    "\n",
    "print('Data frame types:', df.dtypes)"
   ]
  },
  {
   "cell_type": "markdown",
   "metadata": {},
   "source": [
    "A more visual inspection of the data frame can be achieved without the print() function. The jupyter notebook adds some nice formatting that makes it easy to identify variable values for each observation."
   ]
  },
  {
   "cell_type": "markdown",
   "metadata": {},
   "source": [
    "### The Data Frame Index\n",
    "\n",
    "Notice The column of numbers on the left-hand side of the data frame. It does not have a header. This is the **index** that pandas uses to tell our observations (rows) apart.  The index does not need to run from 0 to n. For example, if working with a time series it would be advantageous for our index to be a time variable. The index can be altered just like any of the other columns. To reference a column in the DataFrame simply use the name in the header. To print the last column on the right you would type"
   ]
  },
  {
   "cell_type": "code",
   "execution_count": null,
   "metadata": {},
   "outputs": [],
   "source": [
    "print(df['Z'])"
   ]
  },
  {
   "cell_type": "markdown",
   "metadata": {},
   "source": [
    "Printing a column returns both the index and the column, as well as the type of data contained in the column. "
   ]
  },
  {
   "cell_type": "code",
   "execution_count": null,
   "metadata": {},
   "outputs": [],
   "source": [
    "z_var = df['Z']\n",
    "print(z_var)\n",
    "print(type(z_var))"
   ]
  },
  {
   "cell_type": "markdown",
   "metadata": {},
   "source": [
    "When we extract a single column from a DataFrame, we are given a **Series**."
   ]
  },
  {
   "cell_type": "code",
   "execution_count": null,
   "metadata": {},
   "outputs": [],
   "source": [
    "print(type(df['Z']))"
   ]
  },
  {
   "cell_type": "markdown",
   "metadata": {},
   "source": [
    "When working with big data it is likely you will only want to view small portions of the whole. The beginning of a data frame can be displayed in table format with the `head()` data frame method. If the command below shows you the 'head' of the dataset, how would you find the 'tail'?"
   ]
  },
  {
   "cell_type": "code",
   "execution_count": null,
   "metadata": {},
   "outputs": [],
   "source": [
    "print(df.tail(1))"
   ]
  },
  {
   "cell_type": "markdown",
   "metadata": {},
   "source": [
    "## Practice Exercise\n",
    "\n",
    "1. Create a data frame with seven observations of four variables. Name the variables john, paul, george, and ringo. Make the first column the first 7 odd numbers going from zero towards infinity. Make each subsequent column twice the value of the column to its left.\n",
    "\n",
    "2. Print out the number of observations and variables in the data frame from (1)"
   ]
  },
  {
   "cell_type": "code",
   "execution_count": null,
   "metadata": {},
   "outputs": [],
   "source": []
  },
  {
   "cell_type": "code",
   "execution_count": null,
   "metadata": {},
   "outputs": [],
   "source": []
  },
  {
   "cell_type": "markdown",
   "metadata": {},
   "source": [
    "## Operations on Rows and Columns.\n",
    "\n",
    "Many of the data files we will be working with are organized as a table (rows and columns). Each row is recorded on a separate line of the file and columns separated by a delimiting character. These files can be viewed using text editors such as Notepad. \n",
    "\n",
    "A csv file is a very common type of delimited file that uses commas as the deliminators. Other common separators in delimited files are tabs and pipes, \"|\". They are the same as csv files except for the use of different separators. These other non comma delimited files will often have a file type of .txt or .dat. \n",
    "\n",
    "Importing any type of data is trivial if you know how to give good directions. "
   ]
  },
  {
   "cell_type": "code",
   "execution_count": null,
   "metadata": {},
   "outputs": [],
   "source": [
    "wine_path = 'WineData.csv'\n",
    "wines = pd.read_csv(wine_path)"
   ]
  },
  {
   "cell_type": "markdown",
   "metadata": {},
   "source": [
    "The following displays the class, column types, and the values of the first few rows."
   ]
  },
  {
   "cell_type": "code",
   "execution_count": null,
   "metadata": {},
   "outputs": [],
   "source": [
    "print(wines.shape)\n",
    "print(wines.dtypes)"
   ]
  },
  {
   "cell_type": "markdown",
   "metadata": {},
   "source": [
    "We can also calculate summary statistics for each variable in the dataframe:"
   ]
  },
  {
   "cell_type": "code",
   "execution_count": null,
   "metadata": {},
   "outputs": [],
   "source": [
    "# Calculate summary statistics\n",
    "print(df.describe())\n"
   ]
  },
  {
   "cell_type": "markdown",
   "metadata": {},
   "source": [
    "Pandas provides a method called “loc” that can retrieve rows from the data frame. Rows can also be selected using the “iloc” function. The loc and iloc functions are similar, but there is a subtle difference between the two. Whereas the `loc` function selects rows and columns with specific labels, `iloc` selects rows and columns at specific integer positions. This is not of particular important when working with rows, but will be important when working with columns."
   ]
  },
  {
   "cell_type": "code",
   "execution_count": null,
   "metadata": {},
   "outputs": [],
   "source": [
    "df"
   ]
  },
  {
   "cell_type": "markdown",
   "metadata": {},
   "source": [
    "Now let's change the row index from a series of ascending numbers to a series of labels with no discernable order:"
   ]
  },
  {
   "cell_type": "code",
   "execution_count": null,
   "metadata": {},
   "outputs": [],
   "source": [
    "df1 = df.copy() #create a copy so the original data can still be accessed\n",
    "df1.index = ['Row_1', 'Row_2', 'Row_3', 'Row_4'] #reset index values"
   ]
  },
  {
   "cell_type": "markdown",
   "metadata": {},
   "source": [
    "**Note**: With the parameter `deep=False`, only the reference to the data (and index) will be copied. This is a shallow copy. If a shallow copy is created, only changes made in the original will be reflected in the copy, and, any changes made in the copy will be reflected in the original."
   ]
  },
  {
   "cell_type": "code",
   "execution_count": null,
   "metadata": {},
   "outputs": [],
   "source": [
    "df1"
   ]
  },
  {
   "cell_type": "markdown",
   "metadata": {},
   "source": [
    "At this point, the difference between `loc` and `iloc` becomes more important. See the examples below where we reference the same data using different methods:"
   ]
  },
  {
   "cell_type": "code",
   "execution_count": null,
   "metadata": {},
   "outputs": [],
   "source": [
    "row = df1.iloc[3] #use the row position to access the data in the X,Y,Z columns\n",
    "row"
   ]
  },
  {
   "cell_type": "code",
   "execution_count": null,
   "metadata": {},
   "outputs": [],
   "source": [
    "row = df1.loc['Row_4'] #use the row label to access the data in the X,Y,Z columns\n",
    "row"
   ]
  },
  {
   "cell_type": "markdown",
   "metadata": {},
   "source": [
    "To select a particular column call the name of the column inside the data frame. It is also common to use the “loc” method. This method requires the coder to pass the index of the data frame as a parameter. The loc method accepts only integers as a parameter."
   ]
  },
  {
   "cell_type": "code",
   "execution_count": null,
   "metadata": {},
   "outputs": [],
   "source": [
    "column = df1['X']\n",
    "column"
   ]
  },
  {
   "cell_type": "code",
   "execution_count": null,
   "metadata": {},
   "outputs": [],
   "source": [
    "#make it prettier with the square bracket\n",
    "column = df1[['X']]\n",
    "column"
   ]
  },
  {
   "cell_type": "code",
   "execution_count": null,
   "metadata": {},
   "outputs": [],
   "source": [
    "#Find a particular cell value\n",
    "cell =  df1[['Z']].loc['Row_4']\n",
    "cell"
   ]
  },
  {
   "cell_type": "markdown",
   "metadata": {},
   "source": [
    "## Renaming Columns or Indices of a DataFrame\n",
    "\n",
    "We previously re-indexed the data using the `.index()` method. To give the (other) columns a different value, it’s best to use the .rename() method."
   ]
  },
  {
   "cell_type": "code",
   "execution_count": null,
   "metadata": {},
   "outputs": [],
   "source": [
    "df1"
   ]
  },
  {
   "cell_type": "code",
   "execution_count": null,
   "metadata": {},
   "outputs": [],
   "source": [
    "newnames = {'X': 'A', 'Y':'B', 'Z':'C'}\n",
    "df1.rename(columns=newnames, inplace=True)\n",
    "df1"
   ]
  },
  {
   "cell_type": "code",
   "execution_count": null,
   "metadata": {},
   "outputs": [],
   "source": [
    "#rename just one column at a time\n",
    "df1.rename(columns={'A':'a'}, inplace=True)\n",
    "df1"
   ]
  },
  {
   "cell_type": "markdown",
   "metadata": {},
   "source": [
    "## Practice Exercises\n",
    "\n",
    "Take 10 minutes to complete the following tasks. If necessary, refer to the tasks we worked through previously in the notebook - but try your best to work from memory. \n",
    "\n",
    "1. Import the \"Car.csv\" data set.\n",
    "\n",
    "2. Print the type of each variable of the Car data set.\n",
    "\n",
    "3. Return the number of observations in the Car data set.\n",
    "\n",
    "4. Print all of the information associated with the Pontiac Firebird.\n",
    "\n",
    "5. Rename the disp column \"Engine Displacement\"\n",
    "\n",
    "6. Return the Engine Displacement of the Datsun 710 model."
   ]
  },
  {
   "cell_type": "code",
   "execution_count": null,
   "metadata": {},
   "outputs": [],
   "source": [
    "#1\n"
   ]
  },
  {
   "cell_type": "code",
   "execution_count": null,
   "metadata": {},
   "outputs": [],
   "source": [
    "#2\n"
   ]
  },
  {
   "cell_type": "code",
   "execution_count": null,
   "metadata": {},
   "outputs": [],
   "source": [
    "#3\n",
    "\n"
   ]
  },
  {
   "cell_type": "code",
   "execution_count": null,
   "metadata": {},
   "outputs": [],
   "source": [
    "#4\n",
    "\n"
   ]
  },
  {
   "cell_type": "code",
   "execution_count": null,
   "metadata": {},
   "outputs": [],
   "source": [
    "#5\n",
    "\n",
    "\n"
   ]
  },
  {
   "cell_type": "code",
   "execution_count": null,
   "metadata": {},
   "outputs": [],
   "source": [
    "#6\n",
    "\n",
    "\n"
   ]
  }
 ],
 "metadata": {
  "celltoolbar": "Attachments",
  "kernelspec": {
   "display_name": "Python 3 (ipykernel)",
   "language": "python",
   "name": "python3"
  },
  "language_info": {
   "codemirror_mode": {
    "name": "ipython",
    "version": 3
   },
   "file_extension": ".py",
   "mimetype": "text/x-python",
   "name": "python",
   "nbconvert_exporter": "python",
   "pygments_lexer": "ipython3",
   "version": "3.8.8"
  }
 },
 "nbformat": 4,
 "nbformat_minor": 2
}
