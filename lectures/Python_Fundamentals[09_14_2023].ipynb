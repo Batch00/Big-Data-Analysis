{
 "cells": [
  {
   "cell_type": "markdown",
   "metadata": {},
   "source": [
    "# Python fundamentals for Thursday, September 14\n",
    "\n",
    "This course will focus on data analysis techniques for working with data. It is not, by any definition, a programming course. Instead it is a course that will utilize programming to achieve a particular goal. En route to that goal we will need to equip you with some basic working knowledge of Python. Though some of you may already be well-versed in this programming language, this is not expected or required to enroll in this course. In this module we will cover the most basic building blocks of Python programming to help facilitate the much more interesting analytical work to come. We need not be fluent in Python to move forward. In fact, the concepts introduced in these introductory sessions will be more than sufficient preparation to charge on into the exciting world of Big Data analysis.   \n",
    "\n",
    "The goals for this session are: \n",
    "\n",
    "1. Python Calculation\n",
    "2. Importing Modules\n",
    "3. Boolean Expressions & Conditional Execution\n",
    "4. Loops\n",
    "\n",
    "Follow along as we work our way through this document. Use the code cells to test and experiment as we go. Try to complete all of the practice exercises and ask questions if you need assistance. "
   ]
  },
  {
   "cell_type": "markdown",
   "metadata": {},
   "source": [
    "### Help\n",
    "The Jupyter Notebook has an easy way to get help about an object. In a code cell below, enter `print?` to learn about the print function. "
   ]
  },
  {
   "cell_type": "code",
   "execution_count": 1,
   "metadata": {},
   "outputs": [
    {
     "name": "stdout",
     "output_type": "stream",
     "text": [
      "\u001b[1;31mDocstring:\u001b[0m\n",
      "print(value, ..., sep=' ', end='\\n', file=sys.stdout, flush=False)\n",
      "\n",
      "Prints the values to a stream, or to sys.stdout by default.\n",
      "Optional keyword arguments:\n",
      "file:  a file-like object (stream); defaults to the current sys.stdout.\n",
      "sep:   string inserted between values, default a space.\n",
      "end:   string appended after the last value, default a newline.\n",
      "flush: whether to forcibly flush the stream.\n",
      "\u001b[1;31mType:\u001b[0m      builtin_function_or_method\n"
     ]
    }
   ],
   "source": [
    "print?"
   ]
  },
  {
   "cell_type": "markdown",
   "metadata": {},
   "source": [
    "## Calculation Practice\n",
    "\n",
    "Below you will find a bit of code that prompts the user for their height in centimeters, converts that value to feet and inches, and prints out the converted height in imperial units. "
   ]
  },
  {
   "cell_type": "code",
   "execution_count": 2,
   "metadata": {},
   "outputs": [
    {
     "name": "stdout",
     "output_type": "stream",
     "text": [
      "You are 3 ' 3 \" tall\n"
     ]
    }
   ],
   "source": [
    "height = input('Enter your height in centimeters\\n')\n",
    "imperial = round(int(height)/2.54) #returns height rounded to the nearest inch\n",
    "feet = imperial//12 #returns the quotient from the division of impoerial by 12\n",
    "inches = imperial % 12 #returns the remainder from the division of imperial by 12\n",
    "print('You are', feet, '\\'', inches,\"\\\"\", \"tall\")"
   ]
  },
  {
   "cell_type": "markdown",
   "metadata": {},
   "source": [
    "While the answer is correct, it is a bit difficult to look at.\n",
    "\n",
    "Perhaps a better approach would have been to concatenate the measurements prior to printing them. What would that look like?"
   ]
  },
  {
   "cell_type": "code",
   "execution_count": 3,
   "metadata": {},
   "outputs": [
    {
     "name": "stdout",
     "output_type": "stream",
     "text": [
      "You are 3'3\" tall.\n"
     ]
    }
   ],
   "source": [
    "height = input('Enter your height in centimeters\\n')\n",
    "imperial = round(int(height)/2.54) #returns height rounded to the nearest inch\n",
    "feet = imperial//12 #returns the quotient from the division of impoerial by 12\n",
    "inches = imperial % 12 #returns the remainder from the division of imperial by 12\n",
    "total_height = str(feet) + '\\'' + str(inches) + \"\\\"\"\n",
    "print('You are', total_height, \"tall.\")"
   ]
  },
  {
   "cell_type": "markdown",
   "metadata": {},
   "source": [
    "## Importing Modules\n",
    "\n",
    "`Modules` are individual .py files that contain function definitions and variable-assignment statements. A module is essentially a code library: a file containing a set of [methods] functions you can use to write (more) powerful code.\n",
    "Importing a module will execute these statements, rendering the resulting objects available via the imported module. \n",
    "To make use of the functions in a module, you’ll need to import the module with an import statement, which consists of the import keyword along with the name of the module. Something like:\n",
    "\n",
    "```\n",
    "import math\n",
    "math.pi\n",
    "```\n",
    "\n",
    "In a Python file, this will usually be declared at the top of the code, under any general comments.\n",
    "\n",
    "Some modules, like `math` and `sys` are ***builtins***. To make things more efficient, because these are very commonly utilized modules, they're written in C and are directly incorporated into the Python interpreter. One of these bultins is the `math` module that provides most of the familiar mathematical functions. For a description of each of these modules in Python's Standard Library you can visit <a href=\"https://docs.python.org/3/library/\" target=\"_blank\">this link</a>.\n",
    "To get a full list of all builtins, you can also run:\n",
    "\n",
    "```\n",
    "import sys\n",
    "sys.builtin_module_names\n",
    "```\n"
   ]
  },
  {
   "cell_type": "code",
   "execution_count": 4,
   "metadata": {},
   "outputs": [
    {
     "data": {
      "text/plain": [
       "('_abc',\n",
       " '_ast',\n",
       " '_bisect',\n",
       " '_blake2',\n",
       " '_codecs',\n",
       " '_codecs_cn',\n",
       " '_codecs_hk',\n",
       " '_codecs_iso2022',\n",
       " '_codecs_jp',\n",
       " '_codecs_kr',\n",
       " '_codecs_tw',\n",
       " '_collections',\n",
       " '_contextvars',\n",
       " '_csv',\n",
       " '_datetime',\n",
       " '_functools',\n",
       " '_heapq',\n",
       " '_imp',\n",
       " '_io',\n",
       " '_json',\n",
       " '_locale',\n",
       " '_lsprof',\n",
       " '_md5',\n",
       " '_multibytecodec',\n",
       " '_opcode',\n",
       " '_operator',\n",
       " '_pickle',\n",
       " '_random',\n",
       " '_sha1',\n",
       " '_sha256',\n",
       " '_sha3',\n",
       " '_sha512',\n",
       " '_signal',\n",
       " '_sre',\n",
       " '_stat',\n",
       " '_statistics',\n",
       " '_string',\n",
       " '_struct',\n",
       " '_symtable',\n",
       " '_thread',\n",
       " '_tracemalloc',\n",
       " '_warnings',\n",
       " '_weakref',\n",
       " '_winapi',\n",
       " '_xxsubinterpreters',\n",
       " 'array',\n",
       " 'atexit',\n",
       " 'audioop',\n",
       " 'binascii',\n",
       " 'builtins',\n",
       " 'cmath',\n",
       " 'errno',\n",
       " 'faulthandler',\n",
       " 'gc',\n",
       " 'itertools',\n",
       " 'marshal',\n",
       " 'math',\n",
       " 'mmap',\n",
       " 'msvcrt',\n",
       " 'nt',\n",
       " 'parser',\n",
       " 'sys',\n",
       " 'time',\n",
       " 'winreg',\n",
       " 'xxsubtype',\n",
       " 'zlib')"
      ]
     },
     "execution_count": 4,
     "metadata": {},
     "output_type": "execute_result"
    }
   ],
   "source": [
    "import math\n",
    "import sys\n",
    "\n",
    "sys.builtin_module_names"
   ]
  },
  {
   "cell_type": "markdown",
   "metadata": {},
   "source": [
    "Mathematical calculations are an essential part of logical expression specifically and coding generally. As you would expect, basic mathematical calculations in Python use built-in mathematical operators, such as addition (+), subtraction (-), division (/), and multiplication (*). However, for advanced operations such as exponential, logarithmic, trigonometric, or power functions you will need to import the pre-installed `math` module. This will allow you to do things like:\n",
    "\n",
    "* Use factorials\n",
    "* Calculate combinations and permutations\n",
    "* Evaluate trigonometric, exponential, and hyperbolic functions\n",
    "* Solve quadratic equations\n",
    "* Generate random numbers and run simulations\n",
    "\n",
    "Pi ($\\pi$) is the ratio of a circle’s circumference (c) to its diameter (d): $\\pi = c/d$ Pi is an irrational number, which means it can’t be expressed as a simple fraction (though 22/7 is a close approximation). "
   ]
  },
  {
   "cell_type": "code",
   "execution_count": 5,
   "metadata": {},
   "outputs": [
    {
     "data": {
      "text/plain": [
       "3.141592653589793"
      ]
     },
     "execution_count": 5,
     "metadata": {},
     "output_type": "execute_result"
    }
   ],
   "source": [
    "math.pi"
   ]
  },
  {
   "cell_type": "markdown",
   "metadata": {},
   "source": [
    "When we imported this module, we made it available to us in our current program as a separate namespace. This means that we will have to refer to the function in dot notation, as in `module.function`. \n",
    "\n",
    "To refer to items from a module within a program’s namespace, you can use a `from … import` statement. When importing modules this way you reference the functions by name rather than through dot notation:\n"
   ]
  },
  {
   "cell_type": "code",
   "execution_count": 6,
   "metadata": {},
   "outputs": [
    {
     "data": {
      "text/plain": [
       "74"
      ]
     },
     "execution_count": 6,
     "metadata": {},
     "output_type": "execute_result"
    }
   ],
   "source": [
    "from random import randint as ri\n",
    "\n",
    "ri(0,100)"
   ]
  },
  {
   "cell_type": "markdown",
   "metadata": {},
   "source": [
    "We can list the functions in a Python module by calling the `dir()` method. Start by importing the module and then write the module name in the dir() method. This will return the list of all functions present in a particular Python module. Try this yourself to see how it works."
   ]
  },
  {
   "cell_type": "code",
   "execution_count": 7,
   "metadata": {},
   "outputs": [
    {
     "data": {
      "text/plain": [
       "['BPF',\n",
       " 'LOG4',\n",
       " 'NV_MAGICCONST',\n",
       " 'RECIP_BPF',\n",
       " 'Random',\n",
       " 'SG_MAGICCONST',\n",
       " 'SystemRandom',\n",
       " 'TWOPI',\n",
       " '_Sequence',\n",
       " '_Set',\n",
       " '__all__',\n",
       " '__builtins__',\n",
       " '__cached__',\n",
       " '__doc__',\n",
       " '__file__',\n",
       " '__loader__',\n",
       " '__name__',\n",
       " '__package__',\n",
       " '__spec__',\n",
       " '_accumulate',\n",
       " '_acos',\n",
       " '_bisect',\n",
       " '_ceil',\n",
       " '_cos',\n",
       " '_e',\n",
       " '_exp',\n",
       " '_inst',\n",
       " '_log',\n",
       " '_os',\n",
       " '_pi',\n",
       " '_random',\n",
       " '_repeat',\n",
       " '_sha512',\n",
       " '_sin',\n",
       " '_sqrt',\n",
       " '_test',\n",
       " '_test_generator',\n",
       " '_urandom',\n",
       " '_warn',\n",
       " 'betavariate',\n",
       " 'choice',\n",
       " 'choices',\n",
       " 'expovariate',\n",
       " 'gammavariate',\n",
       " 'gauss',\n",
       " 'getrandbits',\n",
       " 'getstate',\n",
       " 'lognormvariate',\n",
       " 'normalvariate',\n",
       " 'paretovariate',\n",
       " 'randint',\n",
       " 'random',\n",
       " 'randrange',\n",
       " 'sample',\n",
       " 'seed',\n",
       " 'setstate',\n",
       " 'shuffle',\n",
       " 'triangular',\n",
       " 'uniform',\n",
       " 'vonmisesvariate',\n",
       " 'weibullvariate']"
      ]
     },
     "execution_count": 7,
     "metadata": {},
     "output_type": "execute_result"
    }
   ],
   "source": [
    "import random\n",
    "dir(random)"
   ]
  },
  {
   "cell_type": "code",
   "execution_count": null,
   "metadata": {},
   "outputs": [],
   "source": []
  },
  {
   "cell_type": "markdown",
   "metadata": {},
   "source": [
    "You may find it more efficient or parsimonious to modify the names of modules and their functions within Python by using the `as` keyword.\n",
    "\n",
    "Maybe you've already used the same name for something else in your program or another module you have imported also uses that name. There will also come a time when you will want to abbreviate a longer name that you plan on using frequently.\n",
    "\n",
    "The construction of this statement looks like the following:"
   ]
  },
  {
   "cell_type": "code",
   "execution_count": 8,
   "metadata": {},
   "outputs": [
    {
     "data": {
      "text/plain": [
       "3.141592653589793"
      ]
     },
     "execution_count": 8,
     "metadata": {},
     "output_type": "execute_result"
    }
   ],
   "source": [
    "import math as m\n",
    "m.pi"
   ]
  },
  {
   "cell_type": "markdown",
   "metadata": {},
   "source": [
    "# In-Class Exercise \\#1: \n",
    "\n",
    "Most running tracks in the U.S. measure their lengths in meters. However, there was a time when events were primarily measured in yards. A yard is exactly three feet in length. One meter is approximately one yard - but not quite [1 meter = 1.09361 yards]. Write a block of code in the cell below that will print the equivalent distance in yards and feet for any distance in meters entered by the user."
   ]
  },
  {
   "cell_type": "code",
   "execution_count": 9,
   "metadata": {},
   "outputs": [
    {
     "name": "stdout",
     "output_type": "stream",
     "text": [
      "The distance is 109 yards and 1 feet\n"
     ]
    }
   ],
   "source": [
    "dist_meters = input('Enter your distance in meters')\n",
    "dist_yards = round(float(dist_meters) * 1.09361)\n",
    "dist_feet = dist_yards%3 \n",
    "total_dist = str(dist_yards) + ' yards' + \" and \" + str(dist_feet) + \" feet\"\n",
    "print('The distance is', total_dist)"
   ]
  },
  {
   "cell_type": "markdown",
   "metadata": {},
   "source": [
    "\n",
    "\n",
    "To organize all the modules we have the concept called a **package** in Python. You can view packages as a collection of files with the .py extension located where Anaconda is installed on your local drive. You may be able to use the code below to locate this location.\n",
    "\n",
    "```\n",
    "from distutils.sysconfig import get_python_lib\n",
    "print(get_python_lib())\n",
    "```\n",
    "\n",
    "This is a little bit in the weeds, but it is important that we take a moment to discuss jargon. When writing code in python you will frequently need to reference libraries, packages, and modules. For our purposes, a `library` is going to be thought of as a collection of code with related functionality that allows the user to perform multiple tasks without writing unique code. It can be reused again and again by importing the library and/or calling the `method` of a library with a period(.). Methods are functions that are associated with an object and can manipulate its data or perform actions on it. They are called using dot notation, with the object name followed by a period and the method name.\n",
    "\n",
    "From a heirarchical perspective a library is a collection of packages and a `package`, in turn, is a collection of modules.\n",
    "\n",
    "\n",
    "As we practice with packages it will be helpful to paste the following code into the Jupyter notebook we are working in:\n",
    "\n",
    "`%load_ext autoreload`\n",
    "\n",
    "`%autoreload 2`\n",
    "\n",
    "These are “magic commands” that inform the notebook to actively reload all imported modules and packages as they are modified. If you do not execute these commands, your notebook will not “see” any changes that you have made to a module that has already been imported, unless you restart the kernel for that notebook. .\n",
    "\n"
   ]
  },
  {
   "cell_type": "code",
   "execution_count": 10,
   "metadata": {},
   "outputs": [
    {
     "name": "stdout",
     "output_type": "stream",
     "text": [
      "c:\\Users\\carso\\anaconda3\\Lib\\site-packages\n"
     ]
    }
   ],
   "source": [
    "from distutils.sysconfig import get_python_lib\n",
    "print(get_python_lib())"
   ]
  },
  {
   "cell_type": "code",
   "execution_count": 11,
   "metadata": {},
   "outputs": [],
   "source": [
    "%load_ext autoreload\n",
    "\n",
    "%autoreload 2"
   ]
  },
  {
   "cell_type": "markdown",
   "metadata": {},
   "source": [
    "\n",
    "A particularly useful package is called `numpy`, which is likely going to be your go-to source for numerical functions. To use numpy (or any other) package, we first import it. "
   ]
  },
  {
   "cell_type": "code",
   "execution_count": 12,
   "metadata": {},
   "outputs": [
    {
     "name": "stdout",
     "output_type": "stream",
     "text": [
      "0.0\n",
      "1.0\n"
     ]
    }
   ],
   "source": [
    "\n",
    "\n",
    "# Import the numpy package and give it the shorter name np.\n",
    "import numpy as np\n",
    "\n",
    "# To use a function from the numpy package, we use the 'dot' syntax\n",
    "x=1 #initialize a value for x\n",
    "log_x = np.log(x)\n",
    "print(log_x)\n",
    "\n",
    "# The opposite of the natural log is the exponential function\n",
    "_x = np.exp(log_x)\n",
    "print(_x)"
   ]
  },
  {
   "cell_type": "markdown",
   "metadata": {},
   "source": [
    "Now let's create our own module and import it into this session (notebook).\n",
    "\n",
    "Using a text editor, like Notepad, create a file named `test_module.py` in the same directory where this Jupyter notebook is saved. To find this location, use the `os` module."
   ]
  },
  {
   "cell_type": "code",
   "execution_count": 14,
   "metadata": {},
   "outputs": [
    {
     "data": {
      "text/plain": [
       "'c:\\\\Users\\\\carso\\\\OneDrive - UW-Madison\\\\23_24_Fall\\\\econ695\\\\lecture'"
      ]
     },
     "execution_count": 14,
     "metadata": {},
     "output_type": "execute_result"
    }
   ],
   "source": [
    "import os #import the os package\n",
    "\n",
    "os.getcwd()"
   ]
  },
  {
   "cell_type": "markdown",
   "metadata": {},
   "source": [
    "If you would like to save your module in a different location, all you need to do is tell Anaconda where you are going to place the file. This involve changing the current working directory."
   ]
  },
  {
   "cell_type": "code",
   "execution_count": null,
   "metadata": {},
   "outputs": [],
   "source": [
    "import os #import the os package\n",
    "#os.chdir('C:\\\\Users\\\\matth\\\\Box\\\\') #change current working directory to the location of your choice. This is where you will place your test_module.py file"
   ]
  },
  {
   "cell_type": "markdown",
   "metadata": {},
   "source": [
    "The contents of your `test_module.py` file should be the following:\n",
    "\n",
    "```(python)\n",
    "print(\"You imported your first module!\")\n",
    "def compliment(name):\n",
    "  print(\"You rock, \" + name)\n",
    "```\n",
    "\n",
    "Once you have saved the `test_module.py` file we can import this module into our Jupyter notebook. Python will “find” this module because it is in the present directory. Importing `test_module` will execute all of its code in order from top to bottom, and will produce a Python object named test_module; this is an instance of the built-in module type. Do not include the .py suffix in your import statement."
   ]
  },
  {
   "cell_type": "code",
   "execution_count": 21,
   "metadata": {},
   "outputs": [],
   "source": [
    "import test_module as tm"
   ]
  },
  {
   "cell_type": "code",
   "execution_count": 24,
   "metadata": {},
   "outputs": [
    {
     "name": "stdout",
     "output_type": "stream",
     "text": [
      "Variable         Type        Data/Info\n",
      "--------------------------------------\n",
      "dist_feet        int         1\n",
      "dist_meters      str         100\n",
      "dist_yards       int         109\n",
      "feet             int         3\n",
      "get_python_lib   function    <function get_python_lib at 0x0000013A2EF51CA0>\n",
      "height           str         100\n",
      "imperial         int         39\n",
      "inches           int         3\n",
      "log_x            float64     0.0\n",
      "m                module      <module 'math' (built-in)>\n",
      "math             module      <module 'math' (built-in)>\n",
      "np               module      <module 'numpy' from 'c:\\<...>ges\\\\numpy\\\\__init__.py'>\n",
      "os               module      <module 'os' from 'c:\\\\Us<...>\\\\anaconda3\\\\lib\\\\os.py'>\n",
      "random           module      <module 'random' from 'c:<...>aconda3\\\\lib\\\\random.py'>\n",
      "ri               method      <bound method Random.rand<...>t at 0x0000013A2A4C5730>>\n",
      "sys              module      <module 'sys' (built-in)>\n",
      "tm               module      <module 'test_module' fro<...>lecture\\\\test_module.py'>\n",
      "total_dist       str         109 yards and 1 feet\n",
      "total_height     str         3'3\"\n",
      "x                int         1\n"
     ]
    }
   ],
   "source": [
    "whos"
   ]
  },
  {
   "cell_type": "markdown",
   "metadata": {},
   "source": [
    "Importing the module causes the print statement to be executed. Next, the object `compliment` is defined as the remaining code is executed. These are now available as `attributes` of the module object. This is the means by which the contents of a module are made available to the current environment. A good way to get to know the contents of a module is to make use of the auto-completion feature provided by the Jupyter Notebook. Jupyter notebooks have an auto-complete function that can help new coders write complete code. This feature can be accessed by hitting the `Tab` key while writing code. Doing so opens a menu with suggestions. Hit Enter to choose the suggestion. In addition, Jupyter Notebook has another easy way to get help about an object - simply add a question mark to the alias."
   ]
  },
  {
   "cell_type": "code",
   "execution_count": 29,
   "metadata": {
    "scrolled": true
   },
   "outputs": [
    {
     "name": "stdout",
     "output_type": "stream",
     "text": [
      "You rock, Carson\n"
     ]
    }
   ],
   "source": [
    "tm.compliment(\"Carson\")"
   ]
  },
  {
   "cell_type": "markdown",
   "metadata": {},
   "source": [
    "This module contained a user-defined program. For repetitive tasks it can be helpful to create a user-defined program so that you do not have to cut-and-paste lots of code and you can update the task universally when needed. Check out the user-defined program below:"
   ]
  },
  {
   "cell_type": "code",
   "execution_count": 30,
   "metadata": {},
   "outputs": [
    {
     "name": "stdout",
     "output_type": "stream",
     "text": [
      "50\n"
     ]
    }
   ],
   "source": [
    "def multiply(a, b):\n",
    "    multiplied = a*b\n",
    "    return multiplied\n",
    "\n",
    "x = multiply(10, 5)\n",
    "print(x)"
   ]
  },
  {
   "cell_type": "markdown",
   "metadata": {},
   "source": [
    "## User defined functions\n",
    "Up until this point, we have only glimpsed the surface of python's built-in functions. We have become adept using `print()`, but the power of programming is that python allows users to create their own functions. \n",
    "\n",
    "As mentioned previously, user-defined functions can actually help save you a great deal of work copying and pasting. By creating a new function you are naming a group of statements that you likely plan to reuse. This makes your code more concise, easier to read, understand, and debug. It is especially helpful if you need to make a change to your code, once you have defined a function you only have to make that change in one place. Dividing a long script into functions is a great practice to get into. Here is a simple example:"
   ]
  },
  {
   "cell_type": "code",
   "execution_count": 31,
   "metadata": {},
   "outputs": [
    {
     "name": "stdout",
     "output_type": "stream",
     "text": [
      "50\n"
     ]
    }
   ],
   "source": [
    "x = 10*5\n",
    "print(x)"
   ]
  },
  {
   "cell_type": "markdown",
   "metadata": {},
   "source": [
    "That seems like a Rube Goldberg machine, but user-defined functions can actually help save you a great deal of work copying and pasting. By creating a new function you are naming a group of statements that you likely plan to reuse. This makes your code more concise, easier to read, understand, and debug. It is especially helpful if you need to make a change to your code, once you have defined a function you only have to make that change in one place. Dividing a long script into functions is a great practice to get into. "
   ]
  },
  {
   "cell_type": "code",
   "execution_count": 32,
   "metadata": {},
   "outputs": [
    {
     "name": "stdout",
     "output_type": "stream",
     "text": [
      "('wa', 'hoo', 'wa', 'hoo', 'wa', 'wa', 'hoo', 'hoo', 'hoo')\n"
     ]
    }
   ],
   "source": [
    "def scat(a, b):\n",
    "    you_know_the_thing = a, b, a, b, a, a, b, b, b\n",
    "    return you_know_the_thing\n",
    "\n",
    "timberland = scat('wa', 'hoo')\n",
    "print(timberland)\n"
   ]
  },
  {
   "cell_type": "code",
   "execution_count": 33,
   "metadata": {},
   "outputs": [],
   "source": [
    "def bits_to_gigabytes(bits):\n",
    "    \"\"\"\n",
    "    Input a size in bits. Return the size in gigabytes.\n",
    "    \"\"\"\n",
    "    \n",
    "    gigabytes = float(bits/8000000000)            # 8 bits = 1 byte and giga means 10**9\n",
    "    \n",
    "    return gigabytes                               # this is the value the function returns"
   ]
  },
  {
   "cell_type": "markdown",
   "metadata": {},
   "source": [
    "Nothing happens when you run the cell above but python is working behind the scenes to remember what you did. To see all of the objects in the namespace, use the `whos` statement (a jupyter notebook 'magic' command). Once we have run more commands you should check back to see what all is recorded."
   ]
  },
  {
   "cell_type": "code",
   "execution_count": 34,
   "metadata": {},
   "outputs": [
    {
     "name": "stdout",
     "output_type": "stream",
     "text": [
      "Variable            Type        Data/Info\n",
      "-----------------------------------------\n",
      "bits_to_gigabytes   function    <function bits_to_gigabyt<...>es at 0x0000013A2F47ED30>\n",
      "dist_feet           int         1\n",
      "dist_meters         str         100\n",
      "dist_yards          int         109\n",
      "feet                int         3\n",
      "get_python_lib      function    <function get_python_lib at 0x0000013A2EF51CA0>\n",
      "height              str         100\n",
      "imperial            int         39\n",
      "inches              int         3\n",
      "log_x               float64     0.0\n",
      "m                   module      <module 'math' (built-in)>\n",
      "math                module      <module 'math' (built-in)>\n",
      "multiply            function    <function multiply at 0x0000013A2F47EC10>\n",
      "np                  module      <module 'numpy' from 'c:\\<...>ges\\\\numpy\\\\__init__.py'>\n",
      "os                  module      <module 'os' from 'c:\\\\Us<...>\\\\anaconda3\\\\lib\\\\os.py'>\n",
      "random              module      <module 'random' from 'c:<...>aconda3\\\\lib\\\\random.py'>\n",
      "ri                  method      <bound method Random.rand<...>t at 0x0000013A2A4C5730>>\n",
      "scat                function    <function scat at 0x0000013A2F47EAF0>\n",
      "sys                 module      <module 'sys' (built-in)>\n",
      "timberland          tuple       n=9\n",
      "tm                  module      <module 'test_module' fro<...>lecture\\\\test_module.py'>\n",
      "total_dist          str         109 yards and 1 feet\n",
      "total_height        str         3'3\"\n",
      "x                   int         50\n"
     ]
    }
   ],
   "source": [
    "whos"
   ]
  },
  {
   "cell_type": "markdown",
   "metadata": {},
   "source": [
    "We can see the variables we have created earlier as well as the function `bits_to_gigabytes`. Notice functions are of type `function`. Just like any other variable, `bits_to_gigabytes` is loaded into the namespace. \n",
    "\n",
    "Now that this particular function has been defined it can be used. \n",
    "\n",
    "Inside the function, the arguments are assigned to variables called parameters. The same rules of composition that apply to built-in functions also apply to user-defined functions, so we can use any kind of expression as an argument. To return a result from a function, we use the `return` statement in our function. When a function executes, the argument(s) become parameters. In this case a quantity is computed and placed it in the local function variable named gigabytes. The function then uses the return statement to send the computed value back to the calling code as the function result. \n",
    "\n",
    "What we are workin on here is an example of a user-defined function that takes a single argument:"
   ]
  },
  {
   "cell_type": "code",
   "execution_count": 35,
   "metadata": {},
   "outputs": [
    {
     "name": "stdout",
     "output_type": "stream",
     "text": [
      "The hard drive can store 1250.0 GBs.\n"
     ]
    }
   ],
   "source": [
    "harddrive_bs = float(10000000000000)\n",
    "harddrive_GBs = bits_to_gigabytes(harddrive_bs)\n",
    "print('The hard drive can store', harddrive_GBs, 'GBs.')"
   ]
  },
  {
   "cell_type": "markdown",
   "metadata": {},
   "source": [
    "But this function is not very robust, as it cannot handle bad input. See what error python throws when the following is run through the interpreter. "
   ]
  },
  {
   "cell_type": "code",
   "execution_count": 36,
   "metadata": {},
   "outputs": [
    {
     "ename": "TypeError",
     "evalue": "unsupported operand type(s) for /: 'str' and 'int'",
     "output_type": "error",
     "traceback": [
      "\u001b[1;31m---------------------------------------------------------------------------\u001b[0m",
      "\u001b[1;31mTypeError\u001b[0m                                 Traceback (most recent call last)",
      "\u001b[1;32m<ipython-input-36-d931a82ce4d9>\u001b[0m in \u001b[0;36m<module>\u001b[1;34m\u001b[0m\n\u001b[0;32m      1\u001b[0m \u001b[0mharddrive_bs\u001b[0m \u001b[1;33m=\u001b[0m \u001b[1;34m'10000000000000'\u001b[0m\u001b[1;33m\u001b[0m\u001b[1;33m\u001b[0m\u001b[0m\n\u001b[1;32m----> 2\u001b[1;33m \u001b[0mharddrive_GBs\u001b[0m \u001b[1;33m=\u001b[0m \u001b[0mbits_to_gigabytes\u001b[0m\u001b[1;33m(\u001b[0m\u001b[0mharddrive_bs\u001b[0m\u001b[1;33m)\u001b[0m\u001b[1;33m\u001b[0m\u001b[1;33m\u001b[0m\u001b[0m\n\u001b[0m\u001b[0;32m      3\u001b[0m \u001b[0mprint\u001b[0m\u001b[1;33m(\u001b[0m\u001b[1;34m'The hard drive can store'\u001b[0m\u001b[1;33m,\u001b[0m \u001b[0mharddrive_GBs\u001b[0m\u001b[1;33m,\u001b[0m \u001b[1;34m'GBs.'\u001b[0m\u001b[1;33m)\u001b[0m\u001b[1;33m\u001b[0m\u001b[1;33m\u001b[0m\u001b[0m\n",
      "\u001b[1;32m<ipython-input-33-bbf48efae8d0>\u001b[0m in \u001b[0;36mbits_to_gigabytes\u001b[1;34m(bits)\u001b[0m\n\u001b[0;32m      4\u001b[0m     \"\"\"\n\u001b[0;32m      5\u001b[0m \u001b[1;33m\u001b[0m\u001b[0m\n\u001b[1;32m----> 6\u001b[1;33m     \u001b[0mgigabytes\u001b[0m \u001b[1;33m=\u001b[0m \u001b[0mfloat\u001b[0m\u001b[1;33m(\u001b[0m\u001b[0mbits\u001b[0m\u001b[1;33m/\u001b[0m\u001b[1;36m8000000000\u001b[0m\u001b[1;33m)\u001b[0m            \u001b[1;31m# 8 bits = 1 byte and giga means 10**9\u001b[0m\u001b[1;33m\u001b[0m\u001b[1;33m\u001b[0m\u001b[0m\n\u001b[0m\u001b[0;32m      7\u001b[0m \u001b[1;33m\u001b[0m\u001b[0m\n\u001b[0;32m      8\u001b[0m     \u001b[1;32mreturn\u001b[0m \u001b[0mgigabytes\u001b[0m                               \u001b[1;31m# this is the value the function returns\u001b[0m\u001b[1;33m\u001b[0m\u001b[1;33m\u001b[0m\u001b[0m\n",
      "\u001b[1;31mTypeError\u001b[0m: unsupported operand type(s) for /: 'str' and 'int'"
     ]
    }
   ],
   "source": [
    "harddrive_bs = '10000000000000'\n",
    "harddrive_GBs = bits_to_gigabytes(harddrive_bs)\n",
    "print('The hard drive can store', harddrive_GBs, 'GBs.')"
   ]
  },
  {
   "cell_type": "code",
   "execution_count": 39,
   "metadata": {},
   "outputs": [],
   "source": [
    "def bits_to_gigabytes_v2(bits):\n",
    "    if type(bits) == float or type(bits) == int:\n",
    "        gigabytes = float(bits/8000000000)\n",
    "        return gigabytes\n",
    "    else:\n",
    "        gigabytes = float(int(bits)/8000000000)  \n",
    "        return gigabytes"
   ]
  },
  {
   "cell_type": "code",
   "execution_count": 40,
   "metadata": {},
   "outputs": [
    {
     "name": "stdout",
     "output_type": "stream",
     "text": [
      "The hard drive can store 1250.0 GBs.\n"
     ]
    }
   ],
   "source": [
    "harddrive_bs = '10000000000000'\n",
    "harddrive_GBs = bits_to_gigabytes_v2(harddrive_bs)\n",
    "print('The hard drive can store', harddrive_GBs, 'GBs.')"
   ]
  },
  {
   "cell_type": "markdown",
   "metadata": {},
   "source": [
    "The other option is to fix the code for the user, saving a round of back-and-forth.\n",
    "\n",
    "We can also have functions with several input variables:"
   ]
  },
  {
   "cell_type": "code",
   "execution_count": null,
   "metadata": {},
   "outputs": [],
   "source": []
  },
  {
   "cell_type": "markdown",
   "metadata": {},
   "source": [
    "Important: We can also assign several return variables. This is called multiple assignment. First, let's look at multiple assingment outside of a function, then we use it in a function."
   ]
  },
  {
   "cell_type": "code",
   "execution_count": null,
   "metadata": {},
   "outputs": [],
   "source": []
  },
  {
   "cell_type": "markdown",
   "metadata": {},
   "source": [
    "Inside the function, the arguments are assigned to variables called parameters. Here is an example of a user-defined function that takes an argument\n"
   ]
  },
  {
   "cell_type": "code",
   "execution_count": 41,
   "metadata": {},
   "outputs": [
    {
     "name": "stdout",
     "output_type": "stream",
     "text": [
      "5 minutes is 300 seconds and 0.08333333333333333 hours\n"
     ]
    }
   ],
   "source": [
    "def timeout_converter(minutes):\n",
    "    \"\"\"\n",
    "    Takes a timeout duration in minutes and returns it in other units of time.\n",
    "    \"\"\"\n",
    "    time_in_seconds = (minutes*60)\n",
    "    time_in_hours = (minutes/60)\n",
    "    time_in_days = ((minutes/60)/24)\n",
    "    return  time_in_seconds,  time_in_hours, time_in_days\n",
    "\n",
    "# Note that I am defining the function and using it in the same code cell. \n",
    "# The code below is NOT part of the function definition. We can see that because it is not indented. \n",
    "\n",
    "time = 5        #timeout duration \n",
    "seconds, hours, days = timeout_converter(time)\n",
    "print(time, 'minutes', 'is', seconds, 'seconds and', hours, 'hours')"
   ]
  },
  {
   "cell_type": "markdown",
   "metadata": {},
   "source": [
    "# In-Class Exercise \\#2\n",
    "\n",
    "How to do The Name Game? - Learn the rules!<br>\n",
    "You can sing 'The Name Game' with (almost) every name.<br>\n",
    "Sometimes it sounds better if you use a shorter nickname. (e.g. Mary for Marylin)<br>\n",
    "\n",
    "### The regular verse:<br>\n",
    "\n",
    "The verse for the name 'Gary' would be like this:<br>\n",
    "Gary, Gary, bo-bary<br>\n",
    "Banana-fana fo-fary<br>\n",
    "Fee-fi-mo-mary<br>\n",
    "Gary!<br>\n",
    "\n",
    "At the end of every line, the name gets repeated without the first letter: Gary becomes ary<br>\n",
    "If we take (X) as the full name (Gary) and (Y) as the name without the first letter (ary) the verse would look like this:<br>\n",
    "\n",
    "**(X), (X), bo-b(Y)<br>\n",
    "Banana-fana fo-f(Y)<br>\n",
    "Fee-fi-mo-m(Y)<br>\n",
    "(X)!**<br>\n",
    "\n",
    "Got it?<br>\n",
    "\n",
    "Now write a module titled `namegame.py` that will take users names as inputs and return the four lines above. Put the code for the module in the cell below, then import the module in another cell just below. Test you code to be sure it runs correctly. For advanced coders, try to include the special rules for the name game in your module. They are: \n",
    "\n",
    "### Vowel as first letter of the name\n",
    "If you have a vowel as the first letter of your name (e.g. Earl) you do not truncate the name.<br>\n",
    "The verse looks like this:<br>\n",
    "\n",
    "Earl, Earl, bo-bearl<br>\n",
    "Banana-fana fo-fearl<br>\n",
    "Fee-fi-mo-mearl<br>\n",
    "Earl!<br>\n",
    "'B', 'F' or 'M' as first letter of the name<br>\n",
    "In case of a 'B', an 'F' or an 'M' (e.g. Billy, Felix, Mary) there is a special rule.<br>\n",
    "The line which would 'rebuild' the name (e.g. bo-billy) is sang without the first letter of the name.<br>\n",
    "The verse for the name Billy looks like this:<br>\n",
    "\n",
    "Billy, Billy, bo-illy<br>\n",
    "Banana-fana fo-filly<br>\n",
    "Fee-fi-mo-milly<br>\n",
    "Billy!<br>\n",
    "For the name 'Felix', this would be right:<br>\n",
    "\n",
    "Felix, Felix, bo-belix<br>\n",
    "Banana-fana fo-elix<br>\n",
    "Fee-fi-mo-melix<br>\n",
    "Felix!<br>\n"
   ]
  },
  {
   "cell_type": "code",
   "execution_count": null,
   "metadata": {},
   "outputs": [],
   "source": [
    "cell below"
   ]
  },
  {
   "cell_type": "code",
   "execution_count": null,
   "metadata": {},
   "outputs": [],
   "source": [
    "cell just below"
   ]
  },
  {
   "cell_type": "markdown",
   "metadata": {},
   "source": [
    "## Loops\n",
    "\n",
    "It is very common to see assignment statements that update a variable."
   ]
  },
  {
   "cell_type": "markdown",
   "metadata": {},
   "source": [
    "In the code cell below, enter \n",
    "```python\n",
    "s=s+1\n",
    "print(s)\n",
    "``` \n",
    "and run the code. What happened? "
   ]
  },
  {
   "cell_type": "code",
   "execution_count": 42,
   "metadata": {},
   "outputs": [
    {
     "name": "stdout",
     "output_type": "stream",
     "text": [
      "2\n"
     ]
    }
   ],
   "source": [
    "s=1\n",
    "s = s+1\n",
    "print(s)"
   ]
  },
  {
   "cell_type": "markdown",
   "metadata": {},
   "source": [
    "The [likely] problem here was that `s` was never initialized in the first place. You can only add 1 to `s` if you know what value `s` currently represents. Run the code in the next cell to initialize `s`."
   ]
  },
  {
   "cell_type": "code",
   "execution_count": 44,
   "metadata": {},
   "outputs": [
    {
     "name": "stdout",
     "output_type": "stream",
     "text": [
      "5\n"
     ]
    }
   ],
   "source": [
    "s = 5 # needless comment: set s = 5\n",
    "print(s)"
   ]
  },
  {
   "cell_type": "markdown",
   "metadata": {},
   "source": [
    "Let's try this iteration again now that `s` is a known value.\n",
    "```python\n",
    "s=s+1\n",
    "print(s)\n",
    "``` \n",
    "What happened? "
   ]
  },
  {
   "cell_type": "code",
   "execution_count": 48,
   "metadata": {},
   "outputs": [
    {
     "name": "stdout",
     "output_type": "stream",
     "text": [
      "9\n"
     ]
    }
   ],
   "source": [
    "s = s+1\n",
    "print(s)"
   ]
  },
  {
   "cell_type": "markdown",
   "metadata": {},
   "source": [
    "Rerun the previous cell by entering `ctrl+enter`. What is the value of `x`? Rerun the cell multiple times. What is Python doing?\n",
    "\n",
    "Each time you run the code, `s` is incrementally increasing. Keeping a running tally is a great way to complete repetitive tasks over a numbered list. In fact, it is one of the things that computers do best. Big Data is all about automation and iteration, so it is imperitive that we get comfortable with loops ASAP. \n",
    "\n",
    "One way to iterate a task in Python is to use a `while` statement. Here is a simple program that helps you sing along to a popular song:"
   ]
  },
  {
   "cell_type": "code",
   "execution_count": 51,
   "metadata": {},
   "outputs": [
    {
     "name": "stdout",
     "output_type": "stream",
     "text": [
      "this ish is bananas\n",
      "b\n",
      "a\n",
      "n\n",
      "a\n",
      "n\n",
      "a\n",
      "s\n"
     ]
    }
   ],
   "source": [
    "print('this ish is bananas')\n",
    "this_ish_is = 'bananas'\n",
    "n=0\n",
    "while n<7:\n",
    "    letter = this_ish_is[n]\n",
    "    print(letter)\n",
    "    n=n+1\n",
    "\n"
   ]
  },
  {
   "cell_type": "code",
   "execution_count": 53,
   "metadata": {},
   "outputs": [
    {
     "name": "stdout",
     "output_type": "stream",
     "text": [
      "1\n",
      "2\n",
      "3\n",
      "4\n",
      "5\n",
      "6\n",
      "7\n",
      "8\n",
      "9\n",
      "10\n",
      "11\n",
      "12\n",
      "13\n",
      "14\n",
      "15\n",
      "16\n",
      "17\n",
      "18\n",
      "19\n",
      "20\n",
      "21\n",
      "22\n",
      "23\n",
      "24\n",
      "25\n",
      "26\n",
      "27\n",
      "28\n",
      "29\n",
      "30\n",
      "31\n",
      "32\n",
      "33\n",
      "34\n",
      "35\n",
      "36\n",
      "37\n",
      "38\n",
      "39\n",
      "40\n",
      "41\n",
      "42\n",
      "43\n",
      "44\n",
      "45\n",
      "46\n",
      "47\n",
      "48\n",
      "49\n",
      "50\n",
      "51\n",
      "52\n",
      "53\n",
      "54\n",
      "55\n",
      "56\n",
      "57\n",
      "58\n",
      "59\n",
      "60\n",
      "61\n",
      "62\n",
      "63\n",
      "64\n",
      "65\n",
      "66\n",
      "67\n",
      "68\n",
      "69\n",
      "70\n",
      "71\n",
      "72\n",
      "73\n",
      "74\n",
      "75\n",
      "76\n",
      "77\n",
      "78\n",
      "79\n",
      "80\n",
      "81\n",
      "82\n",
      "83\n",
      "84\n",
      "85\n",
      "86\n",
      "87\n",
      "88\n",
      "89\n",
      "90\n",
      "91\n",
      "92\n",
      "93\n",
      "94\n",
      "95\n",
      "96\n",
      "97\n",
      "98\n",
      "99\n",
      "100\n",
      "101\n",
      "102\n",
      "103\n",
      "104\n",
      "105\n",
      "106\n",
      "107\n",
      "108\n",
      "109\n",
      "110\n",
      "111\n",
      "112\n",
      "113\n",
      "114\n",
      "115\n",
      "116\n",
      "117\n",
      "118\n",
      "119\n",
      "120\n",
      "121\n",
      "122\n",
      "123\n",
      "124\n",
      "125\n",
      "126\n",
      "127\n",
      "128\n",
      "129\n",
      "130\n",
      "131\n",
      "132\n",
      "133\n",
      "134\n",
      "135\n",
      "136\n",
      "137\n",
      "138\n",
      "139\n",
      "140\n",
      "141\n",
      "142\n",
      "143\n",
      "144\n",
      "145\n",
      "146\n",
      "147\n",
      "148\n",
      "149\n",
      "150\n",
      "151\n",
      "152\n",
      "153\n",
      "154\n",
      "155\n",
      "156\n",
      "157\n",
      "158\n",
      "159\n",
      "160\n",
      "161\n",
      "162\n",
      "163\n",
      "164\n",
      "165\n",
      "166\n",
      "167\n",
      "168\n",
      "169\n",
      "170\n",
      "171\n",
      "172\n",
      "173\n",
      "174\n",
      "175\n",
      "176\n",
      "177\n",
      "178\n",
      "179\n",
      "180\n",
      "181\n",
      "182\n",
      "183\n",
      "184\n",
      "185\n",
      "186\n",
      "187\n",
      "188\n",
      "189\n",
      "190\n",
      "191\n",
      "192\n",
      "193\n",
      "194\n",
      "195\n",
      "196\n",
      "197\n",
      "198\n",
      "199\n",
      "200\n",
      "201\n",
      "202\n",
      "203\n",
      "204\n",
      "205\n",
      "206\n",
      "207\n",
      "208\n",
      "209\n",
      "210\n",
      "211\n",
      "212\n",
      "213\n",
      "214\n",
      "215\n",
      "216\n",
      "217\n",
      "218\n",
      "219\n",
      "220\n",
      "221\n",
      "222\n",
      "223\n",
      "224\n",
      "225\n",
      "226\n",
      "227\n",
      "228\n",
      "229\n",
      "230\n",
      "231\n",
      "232\n",
      "233\n",
      "234\n",
      "235\n",
      "236\n",
      "237\n",
      "238\n",
      "239\n",
      "240\n",
      "241\n",
      "242\n",
      "243\n",
      "244\n",
      "245\n",
      "246\n",
      "247\n",
      "248\n",
      "249\n",
      "250\n",
      "251\n",
      "252\n",
      "253\n",
      "254\n",
      "255\n",
      "256\n",
      "257\n",
      "258\n",
      "259\n",
      "260\n",
      "261\n",
      "262\n",
      "263\n",
      "264\n",
      "265\n",
      "266\n",
      "267\n",
      "268\n",
      "269\n",
      "270\n",
      "271\n",
      "272\n",
      "273\n",
      "274\n",
      "275\n",
      "276\n",
      "277\n",
      "278\n",
      "279\n",
      "280\n",
      "281\n",
      "282\n",
      "283\n",
      "284\n",
      "285\n",
      "286\n",
      "287\n",
      "288\n",
      "289\n",
      "290\n",
      "291\n",
      "292\n",
      "293\n",
      "294\n",
      "295\n",
      "296\n",
      "297\n",
      "298\n",
      "299\n"
     ]
    }
   ],
   "source": [
    "n = 1\n",
    "while n > 0:\n",
    "    if n == 300:\n",
    "        break\n",
    "    print(n)\n",
    "    n += 1  "
   ]
  },
  {
   "cell_type": "markdown",
   "metadata": {},
   "source": [
    "Here is the flow of execution for a while statement:\n",
    "\n",
    "1. Evaluate the condition [True or False]\n",
    "\n",
    "2. If the condition is false, exit the while statement and move on in the script\n",
    "\n",
    "3. If the condition is true, execute the body and return to step 1.\n",
    "\n",
    "This is a loop because the third step loops back around to the top. Each time the body of the loop is executed is an iteration. For the above loop, we would say, “It had seven iterations”, which means that the body of the loop was executed seven times. The iteration variable in this case was `n`, because the value of that variable controlled the loop and determined whether it would continue or exit. Without `n` we would have either raised an error or needed to restart the kernel. Heck, even with `n` we can still end up in an infinite loop. See for yourself by executing the following code:"
   ]
  },
  {
   "cell_type": "code",
   "execution_count": null,
   "metadata": {},
   "outputs": [],
   "source": [
    "n=1 #initialize n=1\n",
    "while n>0:\n",
    "    print(n)\n",
    "    n=n+1"
   ]
  },
  {
   "cell_type": "markdown",
   "metadata": {},
   "source": [
    "Now try adding one or two lines of code that will stop the race to infinity at 300:"
   ]
  },
  {
   "cell_type": "code",
   "execution_count": null,
   "metadata": {},
   "outputs": [],
   "source": []
  },
  {
   "cell_type": "markdown",
   "metadata": {},
   "source": [
    "## For!\n",
    "\n",
    "Very typically your will want to loop through a set of things such as the lines in a file, the rows of a database, or a list of numbers. Whereas the `while` statement generated an indefinite loop because it simply looped until some condition became False. The `for` loop works its way through a known [finite] set of items. \n",
    "\n",
    "\n",
    "General loop construction:\n",
    "\n",
    "1. Initialize one or more variables before the loop starts\n",
    "\n",
    "2. Perform some computation on each item in the loop body\n",
    "\n",
    "3. Look at the resulting variables when the loop completes\n",
    "\n",
    "We will use a list of numbers to demonstrate the concepts and construction of these loop patterns. From there we will move on to use a range of numbers as it is often more practical."
   ]
  },
  {
   "cell_type": "code",
   "execution_count": 54,
   "metadata": {},
   "outputs": [
    {
     "name": "stdout",
     "output_type": "stream",
     "text": [
      "Count:  6\n"
     ]
    }
   ],
   "source": [
    "count = 0\n",
    "for itervar in [3, 41, 12, 9, 74, 15]:\n",
    "    count = count + 1\n",
    "print('Count: ', count)"
   ]
  },
  {
   "cell_type": "markdown",
   "metadata": {},
   "source": [
    "## Last Exercise (\\#3)\n",
    "\n",
    "Write a codeblock that prompts the user for a list of ten numbers and at the end prints out the maximum, minimum, and average value of the numbers."
   ]
  },
  {
   "cell_type": "code",
   "execution_count": 13,
   "metadata": {},
   "outputs": [
    {
     "name": "stdout",
     "output_type": "stream",
     "text": [
      "max = 10\n",
      "min = 1\n",
      "avg = 5.5\n"
     ]
    }
   ],
   "source": [
    "nums_list = []\n",
    "n = 0\n",
    "while n < 10:\n",
    "    num = int(input(\"give me any number\"))\n",
    "    nums_list.append(num)\n",
    "    n += 1\n",
    "\n",
    "print('max = ' + str(max(nums_list)))\n",
    "print('min = ' + str(min(nums_list)))\n",
    "print('avg = ' + str((sum(nums_list)/len(nums_list))))"
   ]
  }
 ],
 "metadata": {
  "celltoolbar": "Attachments",
  "kernelspec": {
   "display_name": "Python 3 (ipykernel)",
   "language": "python",
   "name": "python3"
  },
  "language_info": {
   "codemirror_mode": {
    "name": "ipython",
    "version": 3
   },
   "file_extension": ".py",
   "mimetype": "text/x-python",
   "name": "python",
   "nbconvert_exporter": "python",
   "pygments_lexer": "ipython3",
   "version": "3.8.8"
  }
 },
 "nbformat": 4,
 "nbformat_minor": 2
}
