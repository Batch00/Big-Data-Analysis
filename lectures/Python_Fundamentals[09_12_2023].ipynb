{
 "cells": [
  {
   "cell_type": "markdown",
   "metadata": {},
   "source": [
    "# Python fundamentals for Tuesday, September 12\n",
    "This course will focus on data analysis techniques for working with data. It is not, by any definition, a programming course. Instead it is a course that will utilize programming to achieve a particular goal. En route to that goal we will need to equip you with some basic working knowledge of Python. Though some of you may already be well-versed in this programming language, this is not expected or required to enroll in this course. In this module we will cover the most basic building blocks of Python programming to help facilitate the much more interesting analytical work to come. We need not be fluent in Python to move forward. In fact, the concepts introduced in these introductory sessions will be more than sufficient preparation to charge on into the exciting world of Big Data analysis.   \n",
    "\n",
    "The goals for the next two sessions are: \n",
    "1. Jupyter Notebook Topography\n",
    "2. Python Assignment & Calculation\n",
    "3. Boolean Expressions & Conditional Execution\n",
    "4. Functions\n",
    "5. Loops\n",
    "\n",
    "Follow along as we work our way through this document. Use the code cells to test and experiment as we go. Try to complete all of the practice exercises and ask questions if you need assistance. \n",
    "\n",
    "\n",
    "\n"
   ]
  },
  {
   "cell_type": "markdown",
   "metadata": {},
   "source": [
    "## Jupyter Notebook\n",
    "\n",
    "This is an open-source web-based application used to create and share coding files. They allow users to include commentary alongside short portions of their code while also displaying the output of that code. It is great for data vizualization and complex mathematical formulae. Data scientists are some of the most active users of these notebooks because they support common data science libraries like pandas, TensorFlow, scikit-learn, etc. It is also becoming standard with professional data engineers because it can integrate big data tools such as Apache Spark.\n",
    "\n",
    "Jupyter Notebook for Anaconda is pre-installed, so you do not have to install - just find it using the Anaconda navigator or open up your terminal application and go to a folder of your choice. I recommend using your Desktop folder to for now so that it is easy to find. On your desktop create a subfolder there called Notebooks or something else that is easy to remember.\n",
    "\n",
    "Then just go to that location in your terminal/command prompt and run the following command:\n",
    "\n",
    "<code>jupyter notebook</code>\n",
    "\n",
    "A new notebook may be created from either the dashboard or using the `File -> New Notebook` menu option from within an active notebook. The new notebook is created within the same directory and will open in a new browser tab and will show up as a new entry in the notebook list on the dashboard.\n",
    "\n",
    "When you create a new notebook document, you will start with the notebook name, a menu bar, a toolbar and an empty code cell.\n",
    "\n",
    "* **Notebook name**: The name displayed at the top of the page, next to the Jupyter logo, reflects the name of the .ipynb file. Clicking on the notebook name brings up a dialog which allows you to rename it. Just move your mouse over the word 'Untitled' and click on the text. You should now see an in-browser dialog titled 'Rename Notebook'. \n",
    "\n",
    "* **Menu bar**: The menu bar presents different options that may be used to manipulate the way the notebook functions.\n",
    "\n",
    "* **Toolbar**: The tool bar gives a quick way of performing the most-used operations within the notebook, by clicking on an icon.\n",
    "\n",
    "* **Code Cells**: Code cells allow you to write and run programming code. Code cells can be changed to markdown [Text] Cells that allow you to write and render Markdown syntax. This is how you will describe your code.\n",
    "\n",
    "Jupyter Notebook has several menus to allow you to visually interact with your document. The menu runs along the top of the Notebook just like menus do in other applications. \n",
    "\n",
    "* **File Menu**: Allows users to create a new Notebook, as well as open or rename an preexisting Notebook. The `Save and Checkpoint` option allows you to create checkpoints that you can roll back if necessary.\n",
    "\n",
    "* **Edit Menu**: Links to tools like cut, copy, merge, split, delete, paste and reorder for cells.\n",
    "\n",
    "* **Cell Menu**: allows you to run one cell, a group of cells, or all the cells. This is also one place to go to change a cell’s type, although the toolbar is a more readily accesible option for that task.\n",
    "\n",
    "* **Kernal Menu** This isn't the place to play around. The Kernel menu is for working with the kernel that is running your notebook. Use this menu if your code gets hung-up and you need to restart the kernel, reconnect to it, shut it down, or even change which kernel your Notebook is using. When getting started there will instances where buggy code goes in an infinite loop and you will find you need to restart the Kernel. When that happens, this is the spot to make that happen (if a simple stop will not suffice).\n",
    "\n",
    "The user interface of the Jupyter Notebook is setup for efficient keyboard usage. This is made possible by having two different sets of keyboard shortcuts: one set that is active in `edit mode` and another in `command mode`.\n",
    "\n",
    "The most important keyboard shortcuts are `Enter`, which enters edit mode, and `Esc`, which enters command mode. Command mode turns the entire keyboard into a shortcut button console. Use ``Help->Keyboard Shortcuts`` to see a list of the available shortcuts - or just checkout the letters in the dropdown menus.\n",
    "\n",
    "Editing cells is pretty easy. You can double click on an existing cell to make it editable, this is true whether it is a code cell or a markdown cell. The table below summarizes some useful keyboard shortcuts as well as the GUI path to complete the same tasks. \n",
    "\n",
    "| Function | Keyboard Shortcut | Menu tools |\n",
    "| --- | --- | --- |\n",
    "|Copy Cell | c | Copy Key |\n",
    "| Create new cell | Esc + a (above), Esc + b (below) | Insert→ Insert Cell Above OR Insert → Insert Cell Below |\n",
    "| Paste Cell | v | Paste Key |\n",
    "| Run Cell | Ctrl + enter | Cell → Run Cell |\n",
    "\n",
    "Start by exploring these command mode shortcuts:\n",
    "\n",
    "* Basic navigation: enter, shift-enter, up/k, down/j\n",
    "* Saving the notebook: s\n",
    "* Change Cell types: y, m, 1-6, t\n",
    "* Cell creation: a, b\n",
    "* Cell editing: x, c, v, d, z\n",
    "* Kernel operations: i, 0 (press twice)\n",
    "\n",
    "What do you imagine is the shortcut for help?"
   ]
  },
  {
   "cell_type": "markdown",
   "metadata": {},
   "source": [
    "## Practice Exercise\n",
    "\n",
    "Add rows to the table in the previous cell that will explain the shortcuts and GUI paths to achieve the following:\n",
    "\n",
    "* Delete a cell\n",
    "* Undo delete a cell\n",
    "* Save the notebook\n",
    "* Create a cell below the highlighted cell\n",
    "* Run cells but DO NOT select below\n",
    "* Restart the kernel"
   ]
  },
  {
   "cell_type": "markdown",
   "metadata": {},
   "source": [
    "# Formatting\n",
    "## Formatting\n",
    "### Formatting\n",
    "\n",
    "Creating headers in Markdown is also quite simple. You just have to use the pound sign and the more pound signs you use, the smaller the header. Other common formatting functions are exemplified below:\n",
    "\n",
    "*These are italicized words, not a bullet list*\n",
    "**These are bold words, not a bullet list**\n",
    "\n",
    "\n",
    "* **This is a bullet item with bold words**\n",
    "* *This is a bullet item with italicized words*\n",
    "\n",
    "\n",
    "* This is a bullet list\n",
    "* This is a bullet list\n",
    "* This is a bullet list\n",
    "\n",
    "***\n",
    "\n",
    "Here is some important text!\n",
    "\n",
    "***\n",
    "\n",
    "1. And you can also create ordered lists\n",
    "2. by using numbers\n",
    "3. and listing new items in the lists \n",
    "4. on their own lines\n",
    "\n",
    "If you want to insert a code example that won't actually run [just as an example], you can use Markdown to insert it. For inline code highlighting, just surround the code with backticks. \n",
    "\n",
    "`print(\"Hello World!\")`\n",
    "\n",
    "The symbol used is the backtick, or grave; not an apostrophe (on most US keyboards, it is on the same key as the tilde (~)). If you want to insert a block of code, you can use triple backticks and also specify the programming language:\n",
    "\n",
    "```python\n",
    "s = \"Hello World\"\n",
    "print(s)\n",
    "```\n",
    "\n",
    "Try using this code in the codeblock below."
   ]
  },
  {
   "cell_type": "markdown",
   "metadata": {},
   "source": []
  },
  {
   "cell_type": "markdown",
   "metadata": {},
   "source": [
    "\n",
    "You can also use HTML in Markdown cells to create hyperlinks to websites using the following syntax:\n",
    "\n",
    "<a href=\"https://www.tylervigen.com/spurious-correlations\" target=\"_blank\">spurious correlations</a>\n",
    "\n",
    "You can identify the words that will be hyperlinked (i.e. prompt a web page to open when clicked) by replacing \"spurious correlations\" in the example above.\n",
    "\n",
    "For example, play with the following syntax:\n",
    "\n",
    "Our Canvas website can be found at <a href=\"https://canvas.wisc.edu/courses/375806\" target=\"_blank\">this link</a>.\n"
   ]
  },
  {
   "cell_type": "markdown",
   "metadata": {},
   "source": [
    "# Practice with Python\n",
    "\n",
    "Let's explore some of the basic functions of Python, starting with the example below."
   ]
  },
  {
   "cell_type": "code",
   "execution_count": null,
   "metadata": {},
   "outputs": [],
   "source": [
    "# Assign the value 5 to the variable a\n",
    "a = 5\n",
    "\n",
    "# Print the value of a to the screen\n",
    "print(a)"
   ]
  },
  {
   "cell_type": "markdown",
   "metadata": {},
   "source": [
    "Assignment is the most basic task you will need to complete. This code is assigning a value to a variable. How do we know this? Well, the comment tells us so! \n",
    "\n",
    "The pound sign (\\#) in a code cell creates a comment. The python interpretor sees the pound sign and knowns to ignore what follows on the same line. You can put a comment on the same line as some code, but the code must come first. \n",
    "\n",
    "`a` is a variable name. Variable names must start with a letter or an underscore. Names can include letters, numbers, and underscores. Variable names are case sensitive. Variables can take on numerical values or represent text. Python will be able to determine numerical types, but for string variables you will need to add some quotes. "
   ]
  },
  {
   "cell_type": "code",
   "execution_count": null,
   "metadata": {},
   "outputs": [],
   "source": [
    "#assign x the value 5\n",
    "x=5\n",
    "type(x)"
   ]
  },
  {
   "cell_type": "code",
   "execution_count": null,
   "metadata": {},
   "outputs": [],
   "source": [
    "# assign y the symbol 5\n",
    "y='5'\n",
    "type(y)"
   ]
  },
  {
   "cell_type": "code",
   "execution_count": null,
   "metadata": {},
   "outputs": [],
   "source": [
    "#Notice what happens if we enter 5.0 instead of 5\n",
    "x=5.0\n",
    "type(x)"
   ]
  },
  {
   "cell_type": "markdown",
   "metadata": {},
   "source": [
    "Almost any string can serve as a variable name in python, however there are some reserved words in the language that CANNOT:\n",
    "\n",
    "and       del       global      not       with\n",
    "as        elif      if          or        yield\n",
    "assert    else      import      pass\n",
    "break     except    in          raise\n",
    "class     finally   is          return\n",
    "continue  for       lambda      try\n",
    "def       from      nonlocal    while  \n",
    "\n",
    "There reserved words (aka keywords) reference system defined syntax for internal processing. These reserved words must be written in lowercase script. Other keywords, such as **True**, **False**, and **None** use capitalization. We will visit those keywords later in the course. "
   ]
  },
  {
   "cell_type": "code",
   "execution_count": null,
   "metadata": {},
   "outputs": [],
   "source": []
  },
  {
   "cell_type": "markdown",
   "metadata": {},
   "source": [
    "## Practice Problem\n",
    "Let's jump way ahead of ourselves by incorporating user input into our code. We will do so with a 'learning by doing' exercise. Together we investigate a program that was built to help my son figure out how many play credits he can afford at Chuck E. Cheese. The program will take his wealth and the conversion rate of dollars to play credits as inputs and print an integer value as the output. \n"
   ]
  },
  {
   "cell_type": "code",
   "execution_count": null,
   "metadata": {},
   "outputs": [],
   "source": [
    "question = input('How many dollars do you have\\n')\n",
    "conversion_rate = input('What is the conversion rate for play credits\\n')\n",
    "x = question*conversion_rate\n",
    "print(\"You may purchase\", x , \"play credits\")"
   ]
  },
  {
   "cell_type": "markdown",
   "metadata": {},
   "source": [
    "One area that many students have issues has to do with the type. User input is entered as a string variable. You can verify this using `type()`. This method returns the class type of the argument(object) and can be helpful for debugging purposes."
   ]
  },
  {
   "cell_type": "code",
   "execution_count": null,
   "metadata": {},
   "outputs": [],
   "source": [
    "print(type(question), type(conversion_rate))\n"
   ]
  },
  {
   "cell_type": "markdown",
   "metadata": {},
   "source": [
    "To perform calculations, we need our input data to be numerical. We can convert the string data to interger data using `int()`. The constructors `int()`, `float()`, and `complex()` can be used to produce numbers of a specific type. Notice the when I enter the zip-code for the UW campus in the first cell, Python records the variable type as a string. However, when that string is fed into the `int()` function, the type is changed and calculation can be performed.  "
   ]
  },
  {
   "cell_type": "code",
   "execution_count": null,
   "metadata": {},
   "outputs": [],
   "source": [
    "x = '53706' \n",
    "type(x)"
   ]
  },
  {
   "cell_type": "code",
   "execution_count": null,
   "metadata": {},
   "outputs": [],
   "source": [
    "y = int(x)\n",
    "type(y)"
   ]
  },
  {
   "cell_type": "markdown",
   "metadata": {},
   "source": [
    "The code two blocks below takes advantage of this built-in function to achieve the desired result. Notes on [built-in functions](https://docs.python.org/3/library/functions.html) can be found here. If you want to by pythonic about opening the link, you could also use the code directly below."
   ]
  },
  {
   "cell_type": "code",
   "execution_count": null,
   "metadata": {},
   "outputs": [],
   "source": [
    "import webbrowser\n",
    "\n",
    "# generate an URL\n",
    "url = 'https://docs.python.org/3/library/functions.html'\n",
    "webbrowser.open(url)"
   ]
  },
  {
   "cell_type": "code",
   "execution_count": null,
   "metadata": {},
   "outputs": [],
   "source": [
    "question = input('How many dollars do you have\\n')\n",
    "conversion_rate = input('What is the conversion rate for play credits\\n')\n",
    "x = int(question)*int(conversion_rate) \n",
    "print(\"You may purchase\", x , \"play credits\")"
   ]
  },
  {
   "cell_type": "markdown",
   "metadata": {},
   "source": [
    "Another way that the above explanation could have been communicated is through the use of comments. Comments are essential to the portability of code. For others to use your code it is essential that you explain what each line of block of code is doing. \n",
    "\n",
    "You will often see the pound sign (\\#) used to create a comment next to lines of code. That is because the python interpretor will not read anything beyond a \\#, allowing coders to put a comment on the same line as their code.Commented code is good code, but there is no need to get carried away. \n",
    "\n",
    "Code like Zac Brown: comment on everything you need to and nothing that you don't. Comments are only necessary when they document obtuse, intricate, or difficult to read features of the code. For that reason you can often avoid having to leave comments if you use intuitive naming conventions for your variables.\n",
    "\n",
    "Notice how much more concise of an explanation the following is:\n"
   ]
  },
  {
   "cell_type": "code",
   "execution_count": null,
   "metadata": {},
   "outputs": [],
   "source": [
    "# inline comments help users understand what you are doing\n",
    "question = input('How many dollars do you have\\n')\n",
    "conversion_rate = input('What is the conversion rate for play credits\\n')\n",
    "x = int(question)*int(conversion_rate)  #int() is used to allow for calculation of users' string input data\n",
    "print(\"You may purchase\", x , \"play credits\")"
   ]
  },
  {
   "cell_type": "markdown",
   "metadata": {},
   "source": [
    "## Order of Operations [PEMDAS]\n",
    "\n",
    "Now let's get back to basics: order of operations. If you utilize enough parentheses it isn't pivotal that you remember the order of operations, however memorizing PEMDAS may be easier for complex calculations. \n",
    "\n",
    "When multiple operators appear in an expression, the order of evaluation depends on the rules of precedence. Python follows mathematical convention, which appear in order of execution below:\n",
    "\n",
    "1. Parentheses have the highest precedence and can be used to force an expression to evaluate in the order you want. Since expressions in parentheses are evaluated first, 2 * (8-5) is 6, and (3+1)**(5-4) is 4. \n",
    "\n",
    "2. Exponentiation has the next highest precedence, so `2**1+1` is 3, not 4, and `3*1**3 is 3`, not 27.\n",
    "\n",
    "3. Multiplication and Division have the same precedence, which is higher than Addition and Subtraction, which also have the same precedence. So 2*3-1 is 5, not 4, and 6+4/2 is 8, not 5.\n",
    "\n",
    "4. Operators with the same precedence are evaluated from left to right. So the expression 5-3-1 is 1, not 3, because the 5-3 happens first and then 1 is subtracted from 2.\n",
    "\n",
    "When in doubt, always put parentheses in your expressions to make sure the computations are performed in the order you intend.\n",
    "\n",
    "\n"
   ]
  },
  {
   "cell_type": "code",
   "execution_count": null,
   "metadata": {},
   "outputs": [],
   "source": [
    "# examples of PEMDAS\n",
    "a = 15/2*4+3\n",
    "b = (20*5)**5/3\n",
    "c = (6//4)*(6%4)/2\n",
    "d = 4+3-2*5+4/3\n",
    "print(a, b, c, d,)"
   ]
  },
  {
   "cell_type": "markdown",
   "metadata": {
    "collapsed": true
   },
   "source": [
    "Practice evaluation the expressions below. First calculate the value of each variable by hand. Then complete the calculations using Python to see if you are correct. You are welcome to alter the expressions if necessary to determine where your calculations diverge from Python's"
   ]
  },
  {
   "cell_type": "code",
   "execution_count": null,
   "metadata": {},
   "outputs": [],
   "source": [
    "first = 5 + (4 - 2) * 2 + 4 % 2 - 4 // 3 - (5 - 3) / 1\n",
    "print(first)\n",
    "\n",
    "second = ( ( ( ( 13 + 5 ) * 2 ) - 4 ) / 2) - 13\n",
    "print(second)"
   ]
  },
  {
   "cell_type": "code",
   "execution_count": null,
   "metadata": {},
   "outputs": [],
   "source": [
    "# Many applications in economic analysis demand the use of the natural logarthim of a variable. \n",
    "x = 1\n",
    "log_x = log(x)"
   ]
  },
  {
   "cell_type": "markdown",
   "metadata": {},
   "source": [
    "Ruh roh Raggy! Python is confused. `log()` does not appear to mean anything to Python, let along the natural logrithm.\n",
    "\n",
    "We need to import a package that will help Python understand what we are talking about. Python has a math module that provides most of the familiar mathematical functions. Another package is called numpy, which is likely going to be your go-to source for numerical functions. To use numpy (or any other) package, we first import it. "
   ]
  },
  {
   "cell_type": "code",
   "execution_count": null,
   "metadata": {},
   "outputs": [],
   "source": [
    "# Import the numpy package and give it the shorter name np.\n",
    "import numpy as np\n",
    "\n",
    "# To use a function from the numpy package, we use the 'dot' syntax\n",
    "log_x = np.log(x)\n",
    "print(log_x)\n",
    "\n",
    "# The opposite of the natural log is the exponential function\n",
    "_x = np.exp(log_x)\n",
    "print(_x)"
   ]
  },
  {
   "cell_type": "markdown",
   "metadata": {},
   "source": [
    "\n",
    "\n",
    "### Practice: Calculation\n",
    "Take a few minutes and try the following. Feel free to chat with those around if you get stuck.\n",
    "\n",
    "Suppose you get into the loan business, offering loans for a period of one year at a 5 percent interest rate. What is the repayment amount for a given loan amount? Create the variable `principal` and seek user input for the loan origination value. Also create a variable `i` and set it equal to 0.05. Finally, generate a variable named `payoff` to hold the payoff amount. Print the value of the payoff. "
   ]
  },
  {
   "cell_type": "markdown",
   "metadata": {},
   "source": [
    "## Boolean Expressions \n",
    "\n",
    "A boolean expression is either true or false. True and False are special values that belong to the class bool\n",
    "\n",
    "For example, typing `5 == 5` would yield `True`\n",
    "\n",
    "However, typing `5 > 6` would yield `False` \n",
    "\n",
    "`x != y`               # x is not equal to y\n",
    "\n",
    "`x > y`                # x is greater than y\n",
    "\n",
    "`x < y`                # x is less than y\n",
    "\n",
    "`x >= y`             # x is greater than or equal to y\n",
    "\n",
    "`x <= y`               # x is less than or equal to y\n",
    "\n",
    "`x is y`              # x is the same as y\n",
    "\n",
    "`x is not y`          # x is not the same as y\n",
    "\n",
    "Remember that = is an assignment operator and == is a comparison operator. There is no such thing as =< or =>.\n"
   ]
  },
  {
   "cell_type": "code",
   "execution_count": null,
   "metadata": {},
   "outputs": [],
   "source": [
    "\n",
    "#True and False are special values that belong to the class bool\n",
    "type(True)"
   ]
  },
  {
   "cell_type": "markdown",
   "metadata": {},
   "source": [
    "Rerun the previous cell by entering `ctrl+enter`. What is the value of `x`? Rerun the cell multiple times. What is Python doing?"
   ]
  },
  {
   "cell_type": "markdown",
   "metadata": {},
   "source": [
    "## Logical Operators & Conditional Execution\n",
    "\n",
    "There are three logical operators: `and`, `or`, and `not`.You will often need the ability to check conditions and change the behavior of a program dynamically. Conditional statements give you that ability. The simplest form is the if statement `if x < 0 :`\n",
    "\n",
    "What if your if statement is not True?\n",
    "\n",
    "It is often helpful to give an alternative command. Since any condition must either be true or false, exactly one of the alternatives will be executed. The alternatives are called branches, because they are branches in the flow of execution.\n",
    " "
   ]
  },
  {
   "cell_type": "code",
   "execution_count": null,
   "metadata": {},
   "outputs": [],
   "source": [
    "#The simplest form is the if statement:\n",
    "\n",
    "if x>0:\n",
    "    print('x is greater than zero')"
   ]
  },
  {
   "cell_type": "markdown",
   "metadata": {},
   "source": [
    "Notice that the if statement ended with a colon character (:) and the line after the if statement was indented. If the logical condition is true, Python will execute the indented statement. Otherwise the indented statement is skipped.In most situations you will want to consider, and act upon, more than one possibility. In this case you may want to use code with an `else` condition as well:\n",
    "\n"
   ]
  },
  {
   "cell_type": "code",
   "execution_count": null,
   "metadata": {},
   "outputs": [],
   "source": [
    "if x%2==0 :\n",
    "    print('x is even')\n",
    "else :\n",
    "    print('x is odd')"
   ]
  },
  {
   "cell_type": "markdown",
   "metadata": {},
   "source": [
    "There really is no limit but your imagination and prudence when chaining together conditional statements. You can use unlimited `elif` statements, however you can only include [at most] one `else` statement (obviously). "
   ]
  },
  {
   "cell_type": "code",
   "execution_count": null,
   "metadata": {},
   "outputs": [],
   "source": [
    "if x < y:\n",
    "    print('x is less than y')\n",
    "elif x > y:\n",
    "    print('x is greater than y')\n",
    "else:\n",
    "    print('x and y are equal')"
   ]
  },
  {
   "cell_type": "markdown",
   "metadata": {},
   "source": [
    "Another wrinkle in the conditional blanket is the nested conditional. While these can quickly become convoluted, pairing a nested conditional with a logical operator can actually be an effective way to write parsimonious code. See the example below, run it, then alter it so that it will print a correct statement for any value of x."
   ]
  },
  {
   "cell_type": "code",
   "execution_count": null,
   "metadata": {},
   "outputs": [],
   "source": [
    "if 0 < x:\n",
    "    if x < 10:\n",
    "        print('x is a positive single-digit number.')\n"
   ]
  },
  {
   "cell_type": "markdown",
   "metadata": {},
   "source": [
    "## Dealing with Failure using `try` and `except`\n",
    "\n",
    "When your code contains incorrect syntax or other errors, the Python interpreter will let you know. WHen an error is detected the interpreter will cease executing code and will raise a traceback. Sometime you will want your code to be able to ignore errors and continue on executing other commands in your script. To achieve this you will want to use conditional execution with `try` or  `except`. Think back to the code we wrote previously to elicit user feedback related to height. Support that instead of entering their height in centimeters using numerical characters the user wrote out \"one hundred sixty-two\" or possible they included the abbreviation cm, as in \"177 cm\". Let's use the try / except framework to ensure our user gets the appropriate feedback. "
   ]
  },
  {
   "cell_type": "code",
   "execution_count": null,
   "metadata": {},
   "outputs": [],
   "source": [
    "height = input('Enter your height in centimeters\\n')\n",
    "try:\n",
    "    imperial = round(int(height)/2.54) #returns height rounded to the nearest inch\n",
    "    feet = imperial//12 #returns the quotient from the division of impoerial by 12\n",
    "    inches = imperial % 12 #returns the remainder from the division of imperial by 12\n",
    "    total_height = str(feet)+'\\''+str(inches)+\"\\\"\"\n",
    "    print(total_height)\n",
    "except:\n",
    "    print('You entered non-numeric values. Please try again.')"
   ]
  },
  {
   "cell_type": "markdown",
   "metadata": {},
   "source": [
    "## Practice Exercise\n",
    "\n",
    "Rewrite the pprogram you previously devised to help my son figure out how many play credits he can afford at Chuck E. Cheese. Take his wealth and the conversion rate of dollars to play credits as inputs and print an integer value as the output.  This time make two changes:\n",
    "1. For every dollar over $20, double the conversion rate\n",
    "2. Use try and except to handle non-numeric input\n"
   ]
  },
  {
   "cell_type": "markdown",
   "metadata": {},
   "source": [
    "## Loops\n",
    "\n",
    "It is very common to see assignment statements that update a variable."
   ]
  },
  {
   "cell_type": "markdown",
   "metadata": {},
   "source": [
    "In the code cell below, enter \n",
    "```python\n",
    "s=s+1\n",
    "print(s)\n",
    "``` \n",
    "and run the code. What happened? "
   ]
  },
  {
   "cell_type": "code",
   "execution_count": null,
   "metadata": {},
   "outputs": [],
   "source": []
  },
  {
   "cell_type": "markdown",
   "metadata": {},
   "source": [
    "The [likely] problem here was that `s` was never initialized in the first place. You can only add 1 to `s` if you know what value `s` currently represents. Run the code in the next cell to initialize `s`."
   ]
  },
  {
   "cell_type": "code",
   "execution_count": null,
   "metadata": {},
   "outputs": [],
   "source": [
    "x = 5 # needless comment: set x = 5\n",
    "print(s)"
   ]
  },
  {
   "cell_type": "markdown",
   "metadata": {},
   "source": [
    "Let's try this iteration again now that `s` is a known value.\n",
    "```python\n",
    "s=s+1\n",
    "print(s)\n",
    "``` \n",
    "What happened? "
   ]
  },
  {
   "cell_type": "code",
   "execution_count": null,
   "metadata": {},
   "outputs": [],
   "source": []
  },
  {
   "cell_type": "markdown",
   "metadata": {},
   "source": [
    "Rerun the previous cell by entering `ctrl+enter`. What is the value of `x`? Rerun the cell multiple times. What is Python doing?\n",
    "\n",
    "Each time you run the code, `s` is incrementally increasing. Keeping a running tally is a great way to complete repetitive tasks over a numbered list. In fact, it is one of the things that computers do best. Big Data is all about automation and iteration, so it is imperitive that we get comfortable with loops ASAP. \n",
    "\n",
    "One way to iterate a task in Python is to use a `while` statement. Here is a simple program that helps you sing along to a popular song:"
   ]
  },
  {
   "cell_type": "code",
   "execution_count": null,
   "metadata": {},
   "outputs": [],
   "source": [
    "print('this ish is bananas')\n",
    "this_ish_is = 'bananas'\n",
    "n=0\n",
    "while n<7:\n",
    "    letter = this_ish_is[n]\n",
    "    print(letter)\n",
    "    n=n+1\n",
    "\n"
   ]
  },
  {
   "cell_type": "markdown",
   "metadata": {},
   "source": [
    "Here is the flow of execution for a while statement:\n",
    "\n",
    "1. Evaluate the condition [True or False]\n",
    "\n",
    "2. If the condition is false, exit the while statement and move on in the script\n",
    "\n",
    "3. If the condition is true, execute the body and return to step 1.\n",
    "\n",
    "This is a loop because the third step loops back around to the top. Each time the body of the loop is executed is an iteration. For the above loop, we would say, “It had seven iterations”, which means that the body of the loop was executed seven times. The iteration variable in this case was `n`, because the value of that variable controlled the loop and determined whether it would continue or exit. Without `n` we would have either raised an error or needed to restart the kernel. Heck, even with `n` we can still end up in an infinite loop. See for yourself by executing the following code:"
   ]
  },
  {
   "cell_type": "code",
   "execution_count": null,
   "metadata": {},
   "outputs": [],
   "source": [
    "n=1 #initialize n=1\n",
    "while n>0:\n",
    "    print(n)\n",
    "    n=n+1"
   ]
  },
  {
   "cell_type": "markdown",
   "metadata": {},
   "source": [
    "## For!\n",
    "\n",
    "Very typically your will want to loop through a set of things such as the lines in a file, the rows of a database, or a list of numbers. Whereas the `while` statement generated an indefinite loop because it simply looped until some condition became False. The `for` loop works its way through a known [finite] set of items. \n",
    "\n",
    "\n",
    "General loop construction:\n",
    "\n",
    "1. Initialize one or more variables before the loop starts\n",
    "\n",
    "2. Perform some computation on each item in the loop body\n",
    "\n",
    "3. Look at the resulting variables when the loop completes\n",
    "\n",
    "We will use a list of numbers to demonstrate the concepts and construction of these loop patterns. From there we will move on to use a range of numbers as it is often more practical."
   ]
  },
  {
   "cell_type": "code",
   "execution_count": null,
   "metadata": {},
   "outputs": [],
   "source": [
    "count = 0\n",
    "for itervar in [3, 41, 12, 9, 74, 15]:\n",
    "    count = count + 1\n",
    "print('Count: ', count)"
   ]
  },
  {
   "cell_type": "code",
   "execution_count": null,
   "metadata": {},
   "outputs": [],
   "source": [
    "cars = [\"audi\", \"toyota\", \"fiat\"]\n",
    "for x in cars:\n",
    "  print(x)"
   ]
  },
  {
   "cell_type": "code",
   "execution_count": null,
   "metadata": {},
   "outputs": [],
   "source": [
    "for x in \"bananas\":\n",
    "  print(x)"
   ]
  },
  {
   "cell_type": "code",
   "execution_count": null,
   "metadata": {},
   "outputs": [],
   "source": [
    "for x in range(6):\n",
    "  print(x)\n",
    "\n",
    "print('intermission')\n",
    "\n",
    "for x in range(0, 6):\n",
    "  print(x)"
   ]
  },
  {
   "cell_type": "code",
   "execution_count": null,
   "metadata": {},
   "outputs": [],
   "source": [
    "for x in range(1, 100, 2):\n",
    "  print(x)"
   ]
  },
  {
   "cell_type": "markdown",
   "metadata": {},
   "source": [
    "## Last Exercise\n",
    "\n",
    "Write a codeblock that prompts the user for a list of ten numbers and at the end prints out the maximum, minimum, and average of the numbers in the list."
   ]
  },
  {
   "cell_type": "code",
   "execution_count": null,
   "metadata": {},
   "outputs": [],
   "source": []
  },
  {
   "cell_type": "markdown",
   "metadata": {},
   "source": [
    "### Help\n",
    "The Jupyter Notebook has an easy way to get help about an object. In a code cell below, enter `print?` to learn about the print function. "
   ]
  },
  {
   "cell_type": "code",
   "execution_count": null,
   "metadata": {},
   "outputs": [],
   "source": [
    "print?"
   ]
  },
  {
   "cell_type": "markdown",
   "metadata": {},
   "source": [
    "## Tab Completion\n",
    "\n",
    " Jupyter notebooks have an auto-complete function that can help new coders write complete code. This feature can be accessed by hitting the `Tab` key while writing code. Doing so opens a menu with suggestions. Hit `Enter` to choose the suggestion.\n",
    " "
   ]
  },
  {
   "cell_type": "code",
   "execution_count": null,
   "metadata": {},
   "outputs": [],
   "source": []
  }
 ],
 "metadata": {
  "celltoolbar": "Attachments",
  "kernelspec": {
   "display_name": "Python 3 (ipykernel)",
   "language": "python",
   "name": "python3"
  },
  "language_info": {
   "codemirror_mode": {
    "name": "ipython",
    "version": 3
   },
   "file_extension": ".py",
   "mimetype": "text/x-python",
   "name": "python",
   "nbconvert_exporter": "python",
   "pygments_lexer": "ipython3",
   "version": "3.7.4"
  }
 },
 "nbformat": 4,
 "nbformat_minor": 2
}
