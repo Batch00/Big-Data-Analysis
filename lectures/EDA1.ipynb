{
 "cells": [
  {
   "cell_type": "markdown",
   "id": "6111306d",
   "metadata": {},
   "source": [
    "# Exploratory Data Analysis for Tuesday, October 24\n",
    "  \n",
    "\n",
    "The goal for this notebook is: \n",
    "\n",
    "1. Basic Data Wrangling\n",
    "\n",
    "Follow along as we work our way through this document. Use the code cells to test and experiment as we go. Try to complete all of the practice exercises and ask questions if you need assistance.\n",
    "\n"
   ]
  },
  {
   "cell_type": "markdown",
   "id": "9b131a15",
   "metadata": {},
   "source": [
    "## Indexing\n",
    "\n",
    "Pandas allows users to have more than one index levels on an axis. Think of this feature as a way to flatten out higher dimensional data - like a pivot table in Excel. Suppose, for instance, you needed to track data about Minnesota and Wisconsin from 2022 and 2023:"
   ]
  },
  {
   "cell_type": "code",
   "execution_count": 2,
   "id": "930246fb",
   "metadata": {},
   "outputs": [
    {
     "data": {
      "text/plain": [
       "(Minnesota, 2022)    371648\n",
       "(Minnesota, 2023)    372556\n",
       "(Wisconsin, 2022)    189757\n",
       "(Wisconsin, 2023)    193702\n",
       "(Iowa, 2022)         208820\n",
       "(Iowa, 2023)         255561\n",
       "dtype: int64"
      ]
     },
     "execution_count": 2,
     "metadata": {},
     "output_type": "execute_result"
    }
   ],
   "source": [
    "import pandas as pd\n",
    "index = [('Minnesota', 2022), ('Minnesota', 2023),\n",
    "         ('Wisconsin', 2022), ('Wisconsin', 2023),\n",
    "         ('Iowa', 2022), ('Iowa', 2023)]\n",
    "gdp = [371648, 372556,\n",
    "               189757, 193702,\n",
    "               208820, 255561]\n",
    "output = pd.Series(gdp, index=index)\n",
    "output"
   ]
  },
  {
   "cell_type": "markdown",
   "id": "7f871412",
   "metadata": {},
   "source": [
    "The code above uses Python tuples as keys. This indexing scheme allows you to index or slice the series based on this multiple index:"
   ]
  },
  {
   "cell_type": "code",
   "execution_count": 3,
   "id": "71905c66",
   "metadata": {},
   "outputs": [
    {
     "data": {
      "text/plain": [
       "(Wisconsin, 2023)    193702\n",
       "(Iowa, 2022)         208820\n",
       "dtype: int64"
      ]
     },
     "execution_count": 3,
     "metadata": {},
     "output_type": "execute_result"
    }
   ],
   "source": [
    "output[('Wisconsin', 2023):('Iowa', 2022)]"
   ]
  },
  {
   "cell_type": "markdown",
   "id": "4d0f61ed",
   "metadata": {},
   "source": [
    "As you will find, however, this is an inconvenient way to index your data. For example, if you need to select all values from 2023 the code will be ugly and overly complex:"
   ]
  },
  {
   "cell_type": "code",
   "execution_count": 4,
   "id": "05e6e457",
   "metadata": {},
   "outputs": [
    {
     "data": {
      "text/plain": [
       "(Minnesota, 2023)    372556\n",
       "(Wisconsin, 2023)    193702\n",
       "(Iowa, 2023)         255561\n",
       "dtype: int64"
      ]
     },
     "execution_count": 4,
     "metadata": {},
     "output_type": "execute_result"
    }
   ],
   "source": [
    "output[[i for i in output.index if i[1] == 2023]]\n"
   ]
  },
  {
   "cell_type": "markdown",
   "id": "611bc218",
   "metadata": {},
   "source": [
    "Pandas provides a better solution: the Pandas MultiIndex. This type allows you to create a multi-index from the tuples as follows:"
   ]
  },
  {
   "cell_type": "code",
   "execution_count": 5,
   "id": "61627c55",
   "metadata": {},
   "outputs": [
    {
     "data": {
      "text/plain": [
       "MultiIndex([('Minnesota', 2022),\n",
       "            ('Minnesota', 2023),\n",
       "            ('Wisconsin', 2022),\n",
       "            ('Wisconsin', 2023),\n",
       "            (     'Iowa', 2022),\n",
       "            (     'Iowa', 2023)],\n",
       "           )"
      ]
     },
     "execution_count": 5,
     "metadata": {},
     "output_type": "execute_result"
    }
   ],
   "source": [
    "index = pd.MultiIndex.from_tuples(index)\n",
    "index"
   ]
  },
  {
   "cell_type": "markdown",
   "id": "ba221be1",
   "metadata": {},
   "source": [
    "See how the MultiIndex contains multiple levels of indexing–in? Re-indexing the output series with this MultiIndex shows a hierarchical representation of the data:"
   ]
  },
  {
   "cell_type": "code",
   "execution_count": 6,
   "id": "7d9ca94e",
   "metadata": {},
   "outputs": [
    {
     "data": {
      "text/plain": [
       "Minnesota  2022    371648\n",
       "           2023    372556\n",
       "Wisconsin  2022    189757\n",
       "           2023    193702\n",
       "Iowa       2022    208820\n",
       "           2023    255561\n",
       "dtype: int64"
      ]
     },
     "execution_count": 6,
     "metadata": {},
     "output_type": "execute_result"
    }
   ],
   "source": [
    "output = output.reindex(index)\n",
    "output"
   ]
  },
  {
   "cell_type": "markdown",
   "id": "7e5c9dc4",
   "metadata": {},
   "source": [
    "The first two columns of the Series representation show the multiple index values. The third column shows the data. See how some entries are missing in the first column? In this multi-index representation blank entries indicate the same value as the line above it.\n",
    "\n",
    "To access all data for which the second index is 2023 you can use the Pandas slicing notation:"
   ]
  },
  {
   "cell_type": "code",
   "execution_count": 7,
   "id": "0f2f5116",
   "metadata": {},
   "outputs": [
    {
     "data": {
      "text/plain": [
       "Minnesota    372556\n",
       "Wisconsin    193702\n",
       "Iowa         255561\n",
       "dtype: int64"
      ]
     },
     "execution_count": 7,
     "metadata": {},
     "output_type": "execute_result"
    }
   ],
   "source": [
    "output[:, 2023]"
   ]
  },
  {
   "cell_type": "code",
   "execution_count": 8,
   "id": "32d4ac62",
   "metadata": {},
   "outputs": [
    {
     "data": {
      "text/plain": [
       "2022    189757\n",
       "2023    193702\n",
       "dtype: int64"
      ]
     },
     "execution_count": 8,
     "metadata": {},
     "output_type": "execute_result"
    }
   ],
   "source": [
    "output[\"Wisconsin\", :]"
   ]
  },
  {
   "cell_type": "markdown",
   "id": "652a115d",
   "metadata": {},
   "source": [
    "We are left with a clean, single indexed array. This syntax is more efficient than the tuple-based multi-indexing solution that we initially tried. Hierarchical indexing can be used to rearrange our data into a DataFrame using the unstack method: "
   ]
  },
  {
   "cell_type": "code",
   "execution_count": 9,
   "id": "78f42dbd",
   "metadata": {},
   "outputs": [
    {
     "data": {
      "text/html": [
       "<div>\n",
       "<style scoped>\n",
       "    .dataframe tbody tr th:only-of-type {\n",
       "        vertical-align: middle;\n",
       "    }\n",
       "\n",
       "    .dataframe tbody tr th {\n",
       "        vertical-align: top;\n",
       "    }\n",
       "\n",
       "    .dataframe thead th {\n",
       "        text-align: right;\n",
       "    }\n",
       "</style>\n",
       "<table border=\"1\" class=\"dataframe\">\n",
       "  <thead>\n",
       "    <tr style=\"text-align: right;\">\n",
       "      <th></th>\n",
       "      <th>2022</th>\n",
       "      <th>2023</th>\n",
       "    </tr>\n",
       "  </thead>\n",
       "  <tbody>\n",
       "    <tr>\n",
       "      <th>Iowa</th>\n",
       "      <td>208820</td>\n",
       "      <td>255561</td>\n",
       "    </tr>\n",
       "    <tr>\n",
       "      <th>Minnesota</th>\n",
       "      <td>371648</td>\n",
       "      <td>372556</td>\n",
       "    </tr>\n",
       "    <tr>\n",
       "      <th>Wisconsin</th>\n",
       "      <td>189757</td>\n",
       "      <td>193702</td>\n",
       "    </tr>\n",
       "  </tbody>\n",
       "</table>\n",
       "</div>"
      ],
      "text/plain": [
       "             2022    2023\n",
       "Iowa       208820  255561\n",
       "Minnesota  371648  372556\n",
       "Wisconsin  189757  193702"
      ]
     },
     "execution_count": 9,
     "metadata": {},
     "output_type": "execute_result"
    }
   ],
   "source": [
    "output.unstack()"
   ]
  },
  {
   "cell_type": "markdown",
   "id": "3dffd63d",
   "metadata": {},
   "source": [
    "The inverse can be achieved using the stack operation"
   ]
  },
  {
   "cell_type": "code",
   "execution_count": 10,
   "id": "28be7a17",
   "metadata": {},
   "outputs": [
    {
     "data": {
      "text/plain": [
       "Iowa       2022    208820\n",
       "           2023    255561\n",
       "Minnesota  2022    371648\n",
       "           2023    372556\n",
       "Wisconsin  2022    189757\n",
       "           2023    193702\n",
       "dtype: int64"
      ]
     },
     "execution_count": 10,
     "metadata": {},
     "output_type": "execute_result"
    }
   ],
   "source": [
    "output.unstack().stack()"
   ]
  },
  {
   "cell_type": "markdown",
   "id": "503cf3a3",
   "metadata": {},
   "source": [
    "We can also add a hierarchical index to the columns axis."
   ]
  },
  {
   "cell_type": "code",
   "execution_count": 11,
   "id": "ece4047b",
   "metadata": {},
   "outputs": [
    {
     "data": {
      "text/html": [
       "<div>\n",
       "<style scoped>\n",
       "    .dataframe tbody tr th:only-of-type {\n",
       "        vertical-align: middle;\n",
       "    }\n",
       "\n",
       "    .dataframe tbody tr th {\n",
       "        vertical-align: top;\n",
       "    }\n",
       "\n",
       "    .dataframe thead tr th {\n",
       "        text-align: left;\n",
       "    }\n",
       "</style>\n",
       "<table border=\"1\" class=\"dataframe\">\n",
       "  <thead>\n",
       "    <tr>\n",
       "      <th></th>\n",
       "      <th></th>\n",
       "      <th colspan=\"2\" halign=\"left\">2022</th>\n",
       "      <th colspan=\"2\" halign=\"left\">2023</th>\n",
       "    </tr>\n",
       "    <tr>\n",
       "      <th></th>\n",
       "      <th></th>\n",
       "      <th>Dec.</th>\n",
       "      <th>Jan.</th>\n",
       "      <th>Dec.</th>\n",
       "      <th>Jan.</th>\n",
       "    </tr>\n",
       "  </thead>\n",
       "  <tbody>\n",
       "    <tr>\n",
       "      <th rowspan=\"2\" valign=\"top\">Iowa</th>\n",
       "      <th>1</th>\n",
       "      <td>0</td>\n",
       "      <td>1</td>\n",
       "      <td>2</td>\n",
       "      <td>3</td>\n",
       "    </tr>\n",
       "    <tr>\n",
       "      <th>2</th>\n",
       "      <td>4</td>\n",
       "      <td>5</td>\n",
       "      <td>6</td>\n",
       "      <td>7</td>\n",
       "    </tr>\n",
       "    <tr>\n",
       "      <th rowspan=\"2\" valign=\"top\">Wisconsin</th>\n",
       "      <th>1</th>\n",
       "      <td>8</td>\n",
       "      <td>9</td>\n",
       "      <td>10</td>\n",
       "      <td>11</td>\n",
       "    </tr>\n",
       "    <tr>\n",
       "      <th>2</th>\n",
       "      <td>12</td>\n",
       "      <td>13</td>\n",
       "      <td>14</td>\n",
       "      <td>15</td>\n",
       "    </tr>\n",
       "  </tbody>\n",
       "</table>\n",
       "</div>"
      ],
      "text/plain": [
       "            2022      2023     \n",
       "            Dec. Jan. Dec. Jan.\n",
       "Iowa      1    0    1    2    3\n",
       "          2    4    5    6    7\n",
       "Wisconsin 1    8    9   10   11\n",
       "          2   12   13   14   15"
      ]
     },
     "execution_count": 11,
     "metadata": {},
     "output_type": "execute_result"
    }
   ],
   "source": [
    "import numpy as np\n",
    "data = pd.DataFrame(np.arange(16).reshape((4,4)),\n",
    "                    index =[['Iowa', 'Iowa', 'Wisconsin','Wisconsin'], ['1','2','1','2']],\n",
    "                    columns=[['2022', '2022', '2023', '2023'],\n",
    "                            ['Dec.', 'Jan.', 'Dec.', 'Jan.']])\n",
    "data"
   ]
  },
  {
   "cell_type": "markdown",
   "id": "fa8a1507",
   "metadata": {},
   "source": [
    "## Reordering and Sorting Levels\n",
    "\n",
    "Sometimes we will want to rearrange the order of the levels on an axis. This can be achieved using the `swaplevel` method. "
   ]
  },
  {
   "cell_type": "code",
   "execution_count": 12,
   "id": "7143a138",
   "metadata": {},
   "outputs": [],
   "source": [
    "sort = pd.DataFrame(np.arange(16).reshape((4,4)),\n",
    "                    index =[['X', 'X', 'Y','Y'], ['1','2','1','2']],\n",
    "                    columns=[['2022', '2022', '2023', '2023'],\n",
    "                            ['Dec.', 'Jan.', 'Dec.', 'Jan.']])"
   ]
  },
  {
   "cell_type": "code",
   "execution_count": 13,
   "id": "4ac36afc",
   "metadata": {},
   "outputs": [
    {
     "data": {
      "text/html": [
       "<div>\n",
       "<style scoped>\n",
       "    .dataframe tbody tr th:only-of-type {\n",
       "        vertical-align: middle;\n",
       "    }\n",
       "\n",
       "    .dataframe tbody tr th {\n",
       "        vertical-align: top;\n",
       "    }\n",
       "\n",
       "    .dataframe thead tr th {\n",
       "        text-align: left;\n",
       "    }\n",
       "</style>\n",
       "<table border=\"1\" class=\"dataframe\">\n",
       "  <thead>\n",
       "    <tr>\n",
       "      <th></th>\n",
       "      <th></th>\n",
       "      <th colspan=\"2\" halign=\"left\">2022</th>\n",
       "      <th colspan=\"2\" halign=\"left\">2023</th>\n",
       "    </tr>\n",
       "    <tr>\n",
       "      <th></th>\n",
       "      <th></th>\n",
       "      <th>Dec.</th>\n",
       "      <th>Jan.</th>\n",
       "      <th>Dec.</th>\n",
       "      <th>Jan.</th>\n",
       "    </tr>\n",
       "  </thead>\n",
       "  <tbody>\n",
       "    <tr>\n",
       "      <th rowspan=\"2\" valign=\"top\">X</th>\n",
       "      <th>1</th>\n",
       "      <td>0</td>\n",
       "      <td>1</td>\n",
       "      <td>2</td>\n",
       "      <td>3</td>\n",
       "    </tr>\n",
       "    <tr>\n",
       "      <th>2</th>\n",
       "      <td>4</td>\n",
       "      <td>5</td>\n",
       "      <td>6</td>\n",
       "      <td>7</td>\n",
       "    </tr>\n",
       "    <tr>\n",
       "      <th rowspan=\"2\" valign=\"top\">Y</th>\n",
       "      <th>1</th>\n",
       "      <td>8</td>\n",
       "      <td>9</td>\n",
       "      <td>10</td>\n",
       "      <td>11</td>\n",
       "    </tr>\n",
       "    <tr>\n",
       "      <th>2</th>\n",
       "      <td>12</td>\n",
       "      <td>13</td>\n",
       "      <td>14</td>\n",
       "      <td>15</td>\n",
       "    </tr>\n",
       "  </tbody>\n",
       "</table>\n",
       "</div>"
      ],
      "text/plain": [
       "    2022      2023     \n",
       "    Dec. Jan. Dec. Jan.\n",
       "X 1    0    1    2    3\n",
       "  2    4    5    6    7\n",
       "Y 1    8    9   10   11\n",
       "  2   12   13   14   15"
      ]
     },
     "execution_count": 13,
     "metadata": {},
     "output_type": "execute_result"
    }
   ],
   "source": [
    "sort"
   ]
  },
  {
   "cell_type": "code",
   "execution_count": 14,
   "id": "9bceb293",
   "metadata": {},
   "outputs": [],
   "source": [
    "sort.index.names = ['name1','name2']"
   ]
  },
  {
   "cell_type": "code",
   "execution_count": 15,
   "id": "42f0eeff",
   "metadata": {},
   "outputs": [
    {
     "data": {
      "text/html": [
       "<div>\n",
       "<style scoped>\n",
       "    .dataframe tbody tr th:only-of-type {\n",
       "        vertical-align: middle;\n",
       "    }\n",
       "\n",
       "    .dataframe tbody tr th {\n",
       "        vertical-align: top;\n",
       "    }\n",
       "\n",
       "    .dataframe thead tr th {\n",
       "        text-align: left;\n",
       "    }\n",
       "\n",
       "    .dataframe thead tr:last-of-type th {\n",
       "        text-align: right;\n",
       "    }\n",
       "</style>\n",
       "<table border=\"1\" class=\"dataframe\">\n",
       "  <thead>\n",
       "    <tr>\n",
       "      <th></th>\n",
       "      <th></th>\n",
       "      <th colspan=\"2\" halign=\"left\">2022</th>\n",
       "      <th colspan=\"2\" halign=\"left\">2023</th>\n",
       "    </tr>\n",
       "    <tr>\n",
       "      <th></th>\n",
       "      <th></th>\n",
       "      <th>Dec.</th>\n",
       "      <th>Jan.</th>\n",
       "      <th>Dec.</th>\n",
       "      <th>Jan.</th>\n",
       "    </tr>\n",
       "    <tr>\n",
       "      <th>name2</th>\n",
       "      <th>name1</th>\n",
       "      <th></th>\n",
       "      <th></th>\n",
       "      <th></th>\n",
       "      <th></th>\n",
       "    </tr>\n",
       "  </thead>\n",
       "  <tbody>\n",
       "    <tr>\n",
       "      <th>1</th>\n",
       "      <th>X</th>\n",
       "      <td>0</td>\n",
       "      <td>1</td>\n",
       "      <td>2</td>\n",
       "      <td>3</td>\n",
       "    </tr>\n",
       "    <tr>\n",
       "      <th>2</th>\n",
       "      <th>X</th>\n",
       "      <td>4</td>\n",
       "      <td>5</td>\n",
       "      <td>6</td>\n",
       "      <td>7</td>\n",
       "    </tr>\n",
       "    <tr>\n",
       "      <th>1</th>\n",
       "      <th>Y</th>\n",
       "      <td>8</td>\n",
       "      <td>9</td>\n",
       "      <td>10</td>\n",
       "      <td>11</td>\n",
       "    </tr>\n",
       "    <tr>\n",
       "      <th>2</th>\n",
       "      <th>Y</th>\n",
       "      <td>12</td>\n",
       "      <td>13</td>\n",
       "      <td>14</td>\n",
       "      <td>15</td>\n",
       "    </tr>\n",
       "  </tbody>\n",
       "</table>\n",
       "</div>"
      ],
      "text/plain": [
       "            2022      2023     \n",
       "            Dec. Jan. Dec. Jan.\n",
       "name2 name1                    \n",
       "1     X        0    1    2    3\n",
       "2     X        4    5    6    7\n",
       "1     Y        8    9   10   11\n",
       "2     Y       12   13   14   15"
      ]
     },
     "execution_count": 15,
     "metadata": {},
     "output_type": "execute_result"
    }
   ],
   "source": [
    "sort.swaplevel('name1','name2')"
   ]
  },
  {
   "cell_type": "markdown",
   "id": "9d6dab11",
   "metadata": {},
   "source": [
    "Another useful tool is the `sort_index` method, which sorts data using only hthe values in a single level. "
   ]
  },
  {
   "cell_type": "code",
   "execution_count": 16,
   "id": "9ee77a85",
   "metadata": {},
   "outputs": [
    {
     "data": {
      "text/html": [
       "<div>\n",
       "<style scoped>\n",
       "    .dataframe tbody tr th:only-of-type {\n",
       "        vertical-align: middle;\n",
       "    }\n",
       "\n",
       "    .dataframe tbody tr th {\n",
       "        vertical-align: top;\n",
       "    }\n",
       "\n",
       "    .dataframe thead tr th {\n",
       "        text-align: left;\n",
       "    }\n",
       "\n",
       "    .dataframe thead tr:last-of-type th {\n",
       "        text-align: right;\n",
       "    }\n",
       "</style>\n",
       "<table border=\"1\" class=\"dataframe\">\n",
       "  <thead>\n",
       "    <tr>\n",
       "      <th></th>\n",
       "      <th></th>\n",
       "      <th colspan=\"2\" halign=\"left\">2022</th>\n",
       "      <th colspan=\"2\" halign=\"left\">2023</th>\n",
       "    </tr>\n",
       "    <tr>\n",
       "      <th></th>\n",
       "      <th></th>\n",
       "      <th>Dec.</th>\n",
       "      <th>Jan.</th>\n",
       "      <th>Dec.</th>\n",
       "      <th>Jan.</th>\n",
       "    </tr>\n",
       "    <tr>\n",
       "      <th>name1</th>\n",
       "      <th>name2</th>\n",
       "      <th></th>\n",
       "      <th></th>\n",
       "      <th></th>\n",
       "      <th></th>\n",
       "    </tr>\n",
       "  </thead>\n",
       "  <tbody>\n",
       "    <tr>\n",
       "      <th rowspan=\"2\" valign=\"top\">X</th>\n",
       "      <th>1</th>\n",
       "      <td>0</td>\n",
       "      <td>1</td>\n",
       "      <td>2</td>\n",
       "      <td>3</td>\n",
       "    </tr>\n",
       "    <tr>\n",
       "      <th>2</th>\n",
       "      <td>4</td>\n",
       "      <td>5</td>\n",
       "      <td>6</td>\n",
       "      <td>7</td>\n",
       "    </tr>\n",
       "    <tr>\n",
       "      <th rowspan=\"2\" valign=\"top\">Y</th>\n",
       "      <th>1</th>\n",
       "      <td>8</td>\n",
       "      <td>9</td>\n",
       "      <td>10</td>\n",
       "      <td>11</td>\n",
       "    </tr>\n",
       "    <tr>\n",
       "      <th>2</th>\n",
       "      <td>12</td>\n",
       "      <td>13</td>\n",
       "      <td>14</td>\n",
       "      <td>15</td>\n",
       "    </tr>\n",
       "  </tbody>\n",
       "</table>\n",
       "</div>"
      ],
      "text/plain": [
       "            2022      2023     \n",
       "            Dec. Jan. Dec. Jan.\n",
       "name1 name2                    \n",
       "X     1        0    1    2    3\n",
       "      2        4    5    6    7\n",
       "Y     1        8    9   10   11\n",
       "      2       12   13   14   15"
      ]
     },
     "execution_count": 16,
     "metadata": {},
     "output_type": "execute_result"
    }
   ],
   "source": [
    "sort.sort_index(level=0)"
   ]
  },
  {
   "cell_type": "code",
   "execution_count": 17,
   "id": "bc003da5",
   "metadata": {},
   "outputs": [
    {
     "data": {
      "text/html": [
       "<div>\n",
       "<style scoped>\n",
       "    .dataframe tbody tr th:only-of-type {\n",
       "        vertical-align: middle;\n",
       "    }\n",
       "\n",
       "    .dataframe tbody tr th {\n",
       "        vertical-align: top;\n",
       "    }\n",
       "\n",
       "    .dataframe thead tr th {\n",
       "        text-align: left;\n",
       "    }\n",
       "\n",
       "    .dataframe thead tr:last-of-type th {\n",
       "        text-align: right;\n",
       "    }\n",
       "</style>\n",
       "<table border=\"1\" class=\"dataframe\">\n",
       "  <thead>\n",
       "    <tr>\n",
       "      <th></th>\n",
       "      <th></th>\n",
       "      <th colspan=\"2\" halign=\"left\">2022</th>\n",
       "      <th colspan=\"2\" halign=\"left\">2023</th>\n",
       "    </tr>\n",
       "    <tr>\n",
       "      <th></th>\n",
       "      <th></th>\n",
       "      <th>Dec.</th>\n",
       "      <th>Jan.</th>\n",
       "      <th>Dec.</th>\n",
       "      <th>Jan.</th>\n",
       "    </tr>\n",
       "    <tr>\n",
       "      <th>name1</th>\n",
       "      <th>name2</th>\n",
       "      <th></th>\n",
       "      <th></th>\n",
       "      <th></th>\n",
       "      <th></th>\n",
       "    </tr>\n",
       "  </thead>\n",
       "  <tbody>\n",
       "    <tr>\n",
       "      <th>X</th>\n",
       "      <th>1</th>\n",
       "      <td>0</td>\n",
       "      <td>1</td>\n",
       "      <td>2</td>\n",
       "      <td>3</td>\n",
       "    </tr>\n",
       "    <tr>\n",
       "      <th>Y</th>\n",
       "      <th>1</th>\n",
       "      <td>8</td>\n",
       "      <td>9</td>\n",
       "      <td>10</td>\n",
       "      <td>11</td>\n",
       "    </tr>\n",
       "    <tr>\n",
       "      <th>X</th>\n",
       "      <th>2</th>\n",
       "      <td>4</td>\n",
       "      <td>5</td>\n",
       "      <td>6</td>\n",
       "      <td>7</td>\n",
       "    </tr>\n",
       "    <tr>\n",
       "      <th>Y</th>\n",
       "      <th>2</th>\n",
       "      <td>12</td>\n",
       "      <td>13</td>\n",
       "      <td>14</td>\n",
       "      <td>15</td>\n",
       "    </tr>\n",
       "  </tbody>\n",
       "</table>\n",
       "</div>"
      ],
      "text/plain": [
       "            2022      2023     \n",
       "            Dec. Jan. Dec. Jan.\n",
       "name1 name2                    \n",
       "X     1        0    1    2    3\n",
       "Y     1        8    9   10   11\n",
       "X     2        4    5    6    7\n",
       "Y     2       12   13   14   15"
      ]
     },
     "execution_count": 17,
     "metadata": {},
     "output_type": "execute_result"
    }
   ],
   "source": [
    "sort.sort_index(level=1)"
   ]
  },
  {
   "cell_type": "markdown",
   "id": "88a80526",
   "metadata": {},
   "source": [
    "## Combining and Merging Datasets\n",
    "\n",
    "\n",
    "It is rare that you will not need to merge datasets together for a data analysis project. This is achieved by matching up the two datasets using one or more variables as an index. \n",
    "\n",
    "Let's use the auto dataset to create a contrived example."
   ]
  },
  {
   "cell_type": "code",
   "execution_count": 25,
   "id": "6cd8f794",
   "metadata": {},
   "outputs": [],
   "source": [
    "# The data is saved as a csv file. Create two new dataframes with part of the data in each\n",
    "auto = pd.read_csv('../data/auto.csv')\n",
    "auto1 = auto[['name', 'horsepower',]]\n",
    "auto2 = auto[['name', 'cylinders',]]"
   ]
  },
  {
   "cell_type": "code",
   "execution_count": null,
   "id": "0a50bd64",
   "metadata": {},
   "outputs": [],
   "source": []
  },
  {
   "cell_type": "code",
   "execution_count": 20,
   "id": "6760a4d5",
   "metadata": {},
   "outputs": [
    {
     "data": {
      "text/plain": [
       "(392, 2)"
      ]
     },
     "execution_count": 20,
     "metadata": {},
     "output_type": "execute_result"
    }
   ],
   "source": [
    "# The data is saved as a csv file. Create two new dataframes with part of the data in each\n",
    "auto1 = auto[auto['origin']==1]\n",
    "auto2.shape"
   ]
  },
  {
   "cell_type": "code",
   "execution_count": 21,
   "id": "5ce6d58c",
   "metadata": {},
   "outputs": [],
   "source": [
    "auto2 = auto[auto['origin']==2]"
   ]
  },
  {
   "cell_type": "markdown",
   "id": "10ebd962",
   "metadata": {},
   "source": [
    "Let's now try to create one DataFrame with cylinders and horsepower as columns. "
   ]
  },
  {
   "cell_type": "markdown",
   "id": "5811e06e",
   "metadata": {},
   "source": [
    "### Merge the two DataFrames into one DataFrame\n",
    "We want to match the two DataFrames together according to the name. \n",
    "We refer to this variable we are matching on as the **key** So, in our case, the key is the vehicle name\n",
    "\n",
    "On more complicated merges we will need to tell pandas how to treat keys that are not present in both databases. The different types of 'join' (more database-ese) are\n",
    "1. **inner**: keep the intersection of the keys\n",
    "2. **left**: keep all the keys from the left DataFrame\n",
    "3. **right**: keep all the keys from right DataFrame\n",
    "4. **outer**: keep all the keys from both DataFrames\n",
    "\n",
    "We specify the join type with the `how` parameter. The default is inner, but be explicit about your join."
   ]
  },
  {
   "cell_type": "code",
   "execution_count": 26,
   "id": "d82fd8aa",
   "metadata": {},
   "outputs": [
    {
     "data": {
      "text/html": [
       "<div>\n",
       "<style scoped>\n",
       "    .dataframe tbody tr th:only-of-type {\n",
       "        vertical-align: middle;\n",
       "    }\n",
       "\n",
       "    .dataframe tbody tr th {\n",
       "        vertical-align: top;\n",
       "    }\n",
       "\n",
       "    .dataframe thead th {\n",
       "        text-align: right;\n",
       "    }\n",
       "</style>\n",
       "<table border=\"1\" class=\"dataframe\">\n",
       "  <thead>\n",
       "    <tr style=\"text-align: right;\">\n",
       "      <th></th>\n",
       "      <th>name</th>\n",
       "      <th>horsepower</th>\n",
       "      <th>cylinders</th>\n",
       "    </tr>\n",
       "  </thead>\n",
       "  <tbody>\n",
       "    <tr>\n",
       "      <th>0</th>\n",
       "      <td>chevrolet chevelle malibu</td>\n",
       "      <td>130</td>\n",
       "      <td>8</td>\n",
       "    </tr>\n",
       "    <tr>\n",
       "      <th>1</th>\n",
       "      <td>chevrolet chevelle malibu</td>\n",
       "      <td>130</td>\n",
       "      <td>6</td>\n",
       "    </tr>\n",
       "    <tr>\n",
       "      <th>2</th>\n",
       "      <td>chevrolet chevelle malibu</td>\n",
       "      <td>100</td>\n",
       "      <td>8</td>\n",
       "    </tr>\n",
       "    <tr>\n",
       "      <th>3</th>\n",
       "      <td>chevrolet chevelle malibu</td>\n",
       "      <td>100</td>\n",
       "      <td>6</td>\n",
       "    </tr>\n",
       "    <tr>\n",
       "      <th>4</th>\n",
       "      <td>buick skylark 320</td>\n",
       "      <td>165</td>\n",
       "      <td>8</td>\n",
       "    </tr>\n",
       "    <tr>\n",
       "      <th>...</th>\n",
       "      <td>...</td>\n",
       "      <td>...</td>\n",
       "      <td>...</td>\n",
       "    </tr>\n",
       "    <tr>\n",
       "      <th>671</th>\n",
       "      <td>ford mustang gl</td>\n",
       "      <td>86</td>\n",
       "      <td>4</td>\n",
       "    </tr>\n",
       "    <tr>\n",
       "      <th>672</th>\n",
       "      <td>vw pickup</td>\n",
       "      <td>52</td>\n",
       "      <td>4</td>\n",
       "    </tr>\n",
       "    <tr>\n",
       "      <th>673</th>\n",
       "      <td>dodge rampage</td>\n",
       "      <td>84</td>\n",
       "      <td>4</td>\n",
       "    </tr>\n",
       "    <tr>\n",
       "      <th>674</th>\n",
       "      <td>ford ranger</td>\n",
       "      <td>79</td>\n",
       "      <td>4</td>\n",
       "    </tr>\n",
       "    <tr>\n",
       "      <th>675</th>\n",
       "      <td>chevy s-10</td>\n",
       "      <td>82</td>\n",
       "      <td>4</td>\n",
       "    </tr>\n",
       "  </tbody>\n",
       "</table>\n",
       "<p>676 rows × 3 columns</p>\n",
       "</div>"
      ],
      "text/plain": [
       "                          name  horsepower  cylinders\n",
       "0    chevrolet chevelle malibu         130          8\n",
       "1    chevrolet chevelle malibu         130          6\n",
       "2    chevrolet chevelle malibu         100          8\n",
       "3    chevrolet chevelle malibu         100          6\n",
       "4            buick skylark 320         165          8\n",
       "..                         ...         ...        ...\n",
       "671            ford mustang gl          86          4\n",
       "672                  vw pickup          52          4\n",
       "673              dodge rampage          84          4\n",
       "674                ford ranger          79          4\n",
       "675                 chevy s-10          82          4\n",
       "\n",
       "[676 rows x 3 columns]"
      ]
     },
     "execution_count": 26,
     "metadata": {},
     "output_type": "execute_result"
    }
   ],
   "source": [
    "# left and right specify the DataFrames to merge, on specifies the key\n",
    "autos = pd.merge(left=auto1, right=auto2, on=['name'], how='outer')\n",
    "autos"
   ]
  },
  {
   "cell_type": "markdown",
   "id": "d3f1d84d",
   "metadata": {},
   "source": []
  }
 ],
 "metadata": {
  "kernelspec": {
   "display_name": "Python 3 (ipykernel)",
   "language": "python",
   "name": "python3"
  },
  "language_info": {
   "codemirror_mode": {
    "name": "ipython",
    "version": 3
   },
   "file_extension": ".py",
   "mimetype": "text/x-python",
   "name": "python",
   "nbconvert_exporter": "python",
   "pygments_lexer": "ipython3",
   "version": "3.8.8"
  }
 },
 "nbformat": 4,
 "nbformat_minor": 5
}
